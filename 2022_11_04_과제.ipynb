{
  "nbformat": 4,
  "nbformat_minor": 0,
  "metadata": {
    "colab": {
      "provenance": [],
      "mount_file_id": "1dv_90pjeA1D3c3d05HJvM3pbPvbBaksm",
      "authorship_tag": "ABX9TyN7wOdMUMXii+cbg677KmEb",
      "include_colab_link": true
    },
    "kernelspec": {
      "name": "python3",
      "display_name": "Python 3"
    },
    "language_info": {
      "name": "python"
    }
  },
  "cells": [
    {
      "cell_type": "markdown",
      "metadata": {
        "id": "view-in-github",
        "colab_type": "text"
      },
      "source": [
        "<a href=\"https://colab.research.google.com/github/jackie-Gung/Colab_ESAA/blob/main/2022_11_04_%EA%B3%BC%EC%A0%9C.ipynb\" target=\"_parent\"><img src=\"https://colab.research.google.com/assets/colab-badge.svg\" alt=\"Open In Colab\"/></a>"
      ]
    },
    {
      "cell_type": "markdown",
      "source": [
        "## **Chapter 8. 텍스트 분석**\n",
        "---"
      ],
      "metadata": {
        "id": "26yzw-LDuOFC"
      }
    },
    {
      "cell_type": "markdown",
      "source": [
        "### **06. 토픽 모델링(Topic Modeling) - 20 뉴스 그룹**\n",
        "---"
      ],
      "metadata": {
        "id": "QISofou3uSAs"
      }
    },
    {
      "cell_type": "markdown",
      "source": [
        "#### 개요\n",
        "- 개념: 문서 집합에 숨어 있는 주제를 찾는 것\n",
        "- 문서 양이 많을 때 머신러닝 기반의 토픽 모델링을 적용하면 중요한 주제를 효과적으로 찾을 수 있음\n",
        "- LSA(Latent Semantic Analysis)\n",
        "- **LDA(Latent Dirichlet Allocation)**\n",
        "  - 사이킷런: 클래스 제공"
      ],
      "metadata": {
        "id": "zbpFp0F2u4W6"
      }
    },
    {
      "cell_type": "code",
      "source": [
        "import numpy as np\n",
        "import pandas as pd"
      ],
      "metadata": {
        "id": "Tikm3ISEwQrW"
      },
      "execution_count": 1,
      "outputs": []
    },
    {
      "cell_type": "code",
      "execution_count": 2,
      "metadata": {
        "id": "Sltptye5jr0E"
      },
      "outputs": [],
      "source": [
        "from sklearn.datasets import fetch_20newsgroups\n",
        "from sklearn.feature_extraction.text import CountVectorizer\n",
        "from sklearn.decomposition import LatentDirichletAllocation"
      ]
    },
    {
      "cell_type": "code",
      "source": [
        "# 모토사이클, 야구, 그래픽스, 윈도우즈, 중동, 기독교, 전자공학, 의학 총 8개 주제 추출하기\n",
        "cats = ['rec.motorcycles', 'rec.sport.baseball', 'comp.graphics', 'comp.windows.x', 'talk.politics.mideast', 'soc.religion.christian', 'sci.electronics', 'sci.med'  ]\n",
        "\n",
        "# 위에서 cats 변수로 기재된 카테고리만 추출하기\n",
        "news_df = fetch_20newsgroups(subset='all',remove=('headers','footers','quotes'),categories=cats,random_state=0)\n",
        "\n",
        "# LDA는 Count 기반의 벡터화만 적용함\n",
        "count_vect = CountVectorizer(max_df = 0.95,max_features=1000,min_df=2,stop_words='english',ngram_range=(1,2))\n",
        "feat_vect = count_vect.fit_transform(news_df.data)\n",
        "print('CountVectorizer shape: ', feat_vect.shape)"
      ],
      "metadata": {
        "colab": {
          "base_uri": "https://localhost:8080/"
        },
        "id": "VPIJVQzMwTRi",
        "outputId": "946f1006-cb01-409b-8c57-bb06ee50bdd2"
      },
      "execution_count": 3,
      "outputs": [
        {
          "output_type": "stream",
          "name": "stdout",
          "text": [
            "CountVectorizer shape:  (7862, 1000)\n"
          ]
        }
      ]
    },
    {
      "cell_type": "markdown",
      "source": [
        "- 분석: CountVectorizer 객체 변수인 feat_vect 모두 7862개 문서가 1000개의 피처로 구성된 행렬 데이터\n",
        "- 이제 LDA 토픽 모델링 진행\n",
        "- n_components 파라미터: 토픽 개수 조정"
      ],
      "metadata": {
        "id": "-0qh5vA3xOSS"
      }
    },
    {
      "cell_type": "code",
      "source": [
        "lda = LatentDirichletAllocation(n_components=8,random_state=0)\n",
        "lda.fit(feat_vect)"
      ],
      "metadata": {
        "colab": {
          "base_uri": "https://localhost:8080/"
        },
        "id": "C1lc_q3txMzO",
        "outputId": "4ac07666-1ae9-4691-c0e1-10fd9d0d4108"
      },
      "execution_count": 4,
      "outputs": [
        {
          "output_type": "execute_result",
          "data": {
            "text/plain": [
              "LatentDirichletAllocation(n_components=8, random_state=0)"
            ]
          },
          "metadata": {},
          "execution_count": 4
        }
      ]
    },
    {
      "cell_type": "markdown",
      "source": [
        "- **components_속성:** 개별 토픽별로 각 word 피처가 얼마나 많이 이 토픽에 할당됐는지에 대한 수치"
      ],
      "metadata": {
        "id": "eBuEmtYqxm4R"
      }
    },
    {
      "cell_type": "code",
      "source": [
        "print(lda.components_.shape)\n",
        "lda.components_"
      ],
      "metadata": {
        "colab": {
          "base_uri": "https://localhost:8080/"
        },
        "id": "WHN8nxtfxj0r",
        "outputId": "46291f5c-dde3-44be-e47f-a0d8ee76695c"
      },
      "execution_count": 5,
      "outputs": [
        {
          "output_type": "stream",
          "name": "stdout",
          "text": [
            "(8, 1000)\n"
          ]
        },
        {
          "output_type": "execute_result",
          "data": {
            "text/plain": [
              "array([[3.60992018e+01, 1.35626798e+02, 2.15751867e+01, ...,\n",
              "        3.02911688e+01, 8.66830093e+01, 6.79285199e+01],\n",
              "       [1.25199920e-01, 1.44401815e+01, 1.25045596e-01, ...,\n",
              "        1.81506995e+02, 1.25097844e-01, 9.39593286e+01],\n",
              "       [3.34762663e+02, 1.25176265e-01, 1.46743299e+02, ...,\n",
              "        1.25105772e-01, 3.63689741e+01, 1.25025218e-01],\n",
              "       ...,\n",
              "       [3.60204965e+01, 2.08640688e+01, 4.29606813e+00, ...,\n",
              "        1.45056650e+01, 8.33854413e+00, 1.55690009e+01],\n",
              "       [1.25128711e-01, 1.25247756e-01, 1.25005143e-01, ...,\n",
              "        9.17278769e+01, 1.25177668e-01, 3.74575887e+01],\n",
              "       [5.49258690e+01, 4.47009532e+00, 9.88524814e+00, ...,\n",
              "        4.87048440e+01, 1.25034678e-01, 1.25074632e-01]])"
            ]
          },
          "metadata": {},
          "execution_count": 5
        }
      ]
    },
    {
      "cell_type": "markdown",
      "source": [
        "- 분석: components_는 array[8,4000]으로 구성됨\n",
        "- 8개의 토픽별로 1000개의 word 피처가 해당 토픽별로 연관도 값을 가짐"
      ],
      "metadata": {
        "id": "6Qcq2kfZx5-i"
      }
    },
    {
      "cell_type": "code",
      "source": [
        "def display_topics(model,feature_names,no_top_words):\n",
        "  for topic_index, topic in enumerate(model.components_):\n",
        "    print('Topic #', topic_index)\n",
        "\n",
        "    # components_array에서 내림차순으로 정렬했을 때 그 값의 array 인덱스를 반환하기\n",
        "    topic_word_indexes = topic.argsort()[::-1]\n",
        "    top_indexes = topic_word_indexes[:no_top_words]\n",
        "\n",
        "    # top_indexes 대상인 인덱스별로 feature_names에 해당하는 word feature 추출 후 join으로 concat하기\n",
        "    feature_concat = ' '.join([feature_names[i] for i in top_indexes])\n",
        "    print(feature_concat)\n",
        "\n",
        "# CountVectorizer 객체 내 전체 word 명칭을 get_features_names를 통해 추출하기\n",
        "feature_names = count_vect.get_feature_names()\n",
        "\n",
        "# 토픽별 가장 연관도가 높은 word를 15개만 추출하기\n",
        "display_topics(lda,feature_names,15)"
      ],
      "metadata": {
        "colab": {
          "base_uri": "https://localhost:8080/"
        },
        "id": "SzlkvmTFxzZu",
        "outputId": "777f03da-b171-4a4c-d254-b87026841c26"
      },
      "execution_count": 6,
      "outputs": [
        {
          "output_type": "stream",
          "name": "stdout",
          "text": [
            "Topic # 0\n",
            "year 10 game medical health team 12 20 disease cancer 1993 games years patients good\n",
            "Topic # 1\n",
            "don just like know people said think time ve didn right going say ll way\n",
            "Topic # 2\n",
            "image file jpeg program gif images output format files color entry 00 use bit 03\n",
            "Topic # 3\n",
            "like know don think use does just good time book read information people used post\n",
            "Topic # 4\n",
            "armenian israel armenians jews turkish people israeli jewish government war dos dos turkey arab armenia 000\n",
            "Topic # 5\n",
            "edu com available graphics ftp data pub motif mail widget software mit information version sun\n",
            "Topic # 6\n",
            "god people jesus church believe christ does christian say think christians bible faith sin life\n",
            "Topic # 7\n",
            "use dos thanks windows using window does display help like problem server need know run\n"
          ]
        },
        {
          "output_type": "stream",
          "name": "stderr",
          "text": [
            "/usr/local/lib/python3.7/dist-packages/sklearn/utils/deprecation.py:87: FutureWarning: Function get_feature_names is deprecated; get_feature_names is deprecated in 1.0 and will be removed in 1.2. Please use get_feature_names_out instead.\n",
            "  warnings.warn(msg, category=FutureWarning)\n"
          ]
        }
      ]
    },
    {
      "cell_type": "markdown",
      "source": [
        "### **08. 문서 유사도**\n",
        "---"
      ],
      "metadata": {
        "id": "z3dKoyVg19vG"
      }
    },
    {
      "cell_type": "markdown",
      "source": [
        "#### **1. 개요**\n",
        "- **코사인 유사도(Cosine Similarity):** 두 벡터 간의 유사도를 비교할 때 크기보다는 상호 방향성이 얼마나 유사한지에 기반함 -> 사잇각을 통해 유사도를 수치화한 것"
      ],
      "metadata": {
        "id": "pzHOyBRm2cA6"
      }
    },
    {
      "cell_type": "markdown",
      "source": [
        "![화면 캡처 2022-11-07 155124.png](data:image/png;base64,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)"
      ],
      "metadata": {
        "id": "gCZeyAOR27nJ"
      }
    },
    {
      "cell_type": "markdown",
      "source": [
        "$$A * B = ||A||||B||cos\\theta$$"
      ],
      "metadata": {
        "id": "_moLcekl4GLr"
      }
    },
    {
      "cell_type": "markdown",
      "source": [
        "$$similarity = cos\\theta = \\frac{A \\cdot B}{||A||||B||} = \\frac{\\sum^{n}_{i=1}A_i B_i}{\\sqrt{\\sum^{n}_{i=1}A_i^2} \\sqrt{\\sum^{n}_{i=1}B_i^2}}$$"
      ],
      "metadata": {
        "id": "bMwG-u8w4bUC"
      }
    },
    {
      "cell_type": "code",
      "source": [
        "def cos_similarity(v1,v2):\n",
        "  dot_product = np.dot(v1,v2)\n",
        "  l2_norm = (np.sqrt(sum(np.square(v1)))*np.sqrt(sum(np.square(v2))))\n",
        "  similarity = dot_product / l2_norm\n",
        "  return similarity"
      ],
      "metadata": {
        "id": "85T9dx071hfs"
      },
      "execution_count": 7,
      "outputs": []
    },
    {
      "cell_type": "code",
      "source": [
        "from sklearn.feature_extraction.text import TfidfVectorizer\n",
        "\n",
        "doc_list = ['if you take the blue pill, the story ends',\n",
        "            'if you take the red pill, you stay in Wonderland',\n",
        "            'if you take the red pill, I show you how deep the rabbit hole goes']\n",
        "\n",
        "tfid_vect_simple = TfidfVectorizer()\n",
        "feature_vect_simple = tfid_vect_simple.fit_transform(doc_list)\n",
        "print(feature_vect_simple.shape)"
      ],
      "metadata": {
        "colab": {
          "base_uri": "https://localhost:8080/"
        },
        "id": "dvKref-z1hcw",
        "outputId": "9ddfd1a7-bb9c-48e1-c3dd-2de157c979a1"
      },
      "execution_count": 16,
      "outputs": [
        {
          "output_type": "stream",
          "name": "stdout",
          "text": [
            "(3, 18)\n"
          ]
        }
      ]
    },
    {
      "cell_type": "code",
      "source": [
        "# 희소 행렬 -> 밀집 행렬로 변환하기\n",
        "feature_vect_dense = feature_vect_simple.todense()\n",
        "\n",
        "# 첫 번째와 두 번째 문장의 피처 벡터 추출하기\n",
        "vect1 = np.array(feature_vect_dense[0]).reshape(-1,)\n",
        "vect2 = np.array(feature_vect_dense[1]).reshape(-1,)\n",
        "\n",
        "# 위 두 문장의 코사인 유사도 추출하기\n",
        "similarity_simple = cos_similarity(vect1,vect2)\n",
        "print(similarity_simple)"
      ],
      "metadata": {
        "colab": {
          "base_uri": "https://localhost:8080/"
        },
        "id": "SqR0Llub1haZ",
        "outputId": "19a9cf38-d17a-4dda-939c-20f86e3e8c9c"
      },
      "execution_count": 17,
      "outputs": [
        {
          "output_type": "stream",
          "name": "stdout",
          "text": [
            "0.40207758214950134\n"
          ]
        }
      ]
    },
    {
      "cell_type": "code",
      "source": [
        "vect3 = np.array(feature_vect_dense[2]).reshape(-1,)\n",
        "\n",
        "similarity_simple13 = cos_similarity(vect1,vect3)\n",
        "similarity_simple23 = cos_similarity(vect2,vect3)\n",
        "\n",
        "print(similarity_simple13)\n",
        "print(similarity_simple23)"
      ],
      "metadata": {
        "colab": {
          "base_uri": "https://localhost:8080/"
        },
        "id": "vboCTOek1hX1",
        "outputId": "3b416f66-85cb-45cc-c640-daca6ab0360a"
      },
      "execution_count": 18,
      "outputs": [
        {
          "output_type": "stream",
          "name": "stdout",
          "text": [
            "0.4042504477594862\n",
            "0.45647296026166395\n"
          ]
        }
      ]
    },
    {
      "cell_type": "code",
      "source": [
        "from sklearn.metrics.pairwise import cosine_similarity\n",
        "\n",
        "similarity_simple_pair = cosine_similarity(feature_vect_simple[0], feature_vect_simple)\n",
        "print(similarity_simple_pair)"
      ],
      "metadata": {
        "colab": {
          "base_uri": "https://localhost:8080/"
        },
        "id": "uR_j6Aqf1hU-",
        "outputId": "2b4542ca-d8af-4444-eadf-0f4bbd996931"
      },
      "execution_count": 14,
      "outputs": [
        {
          "output_type": "stream",
          "name": "stdout",
          "text": [
            "[[1.         0.40207758 0.40425045]]\n"
          ]
        }
      ]
    },
    {
      "cell_type": "code",
      "source": [
        "similarity_simple_pair = cosine_similarity(feature_vect_simple, feature_vect_simple)\n",
        "print(similarity_simple_pair)\n",
        "print(similarity_simple_pair.shape)"
      ],
      "metadata": {
        "colab": {
          "base_uri": "https://localhost:8080/"
        },
        "id": "fsnZG3rc1hSn",
        "outputId": "ae2c91f5-0be8-4972-8edf-0ddf891032f2"
      },
      "execution_count": 15,
      "outputs": [
        {
          "output_type": "stream",
          "name": "stdout",
          "text": [
            "[[1.         0.40207758 0.40425045]\n",
            " [0.40207758 1.         0.45647296]\n",
            " [0.40425045 0.45647296 1.        ]]\n",
            "(3, 3)\n"
          ]
        }
      ]
    },
    {
      "cell_type": "markdown",
      "source": [
        "#### **2. Opinion Review 데이터 세트를 이용한 문서 유사도 측정**"
      ],
      "metadata": {
        "id": "eGkVssbj-say"
      }
    },
    {
      "cell_type": "code",
      "source": [
        "import glob,os\n",
        "from sklearn.feature_extraction.text import TfidfVectorizer\n",
        "from sklearn.cluster import KMeans"
      ],
      "metadata": {
        "id": "_YiMSuok-V2j"
      },
      "execution_count": 22,
      "outputs": []
    },
    {
      "cell_type": "code",
      "source": [
        "from nltk.stem import WordNetLemmatizer\n",
        "import nltk\n",
        "import string\n",
        "\n",
        "nltk.download('punkt')\n",
        "\n",
        "remove_punct_dict = dict((ord(punct), None) for punct in string.punctuation)\n",
        "lemmar = WordNetLemmatizer()\n",
        "\n",
        "def LemTokens(tokens):\n",
        "    return [lemmar.lemmatize(token) for token in tokens]\n",
        "\n",
        "def LemNormalize(text):\n",
        "    return LemTokens(nltk.word_tokenize(text.lower().translate(remove_punct_dict)))"
      ],
      "metadata": {
        "colab": {
          "base_uri": "https://localhost:8080/"
        },
        "id": "IJQwpFKWAle7",
        "outputId": "360f09a9-434e-4b1a-8bc1-a91ab1878187"
      },
      "execution_count": 27,
      "outputs": [
        {
          "output_type": "stream",
          "name": "stderr",
          "text": [
            "[nltk_data] Downloading package punkt to /root/nltk_data...\n",
            "[nltk_data]   Unzipping tokenizers/punkt.zip.\n"
          ]
        }
      ]
    },
    {
      "cell_type": "code",
      "source": [
        "from google.colab import drive\n",
        "drive.mount('/content/drive')"
      ],
      "metadata": {
        "colab": {
          "base_uri": "https://localhost:8080/"
        },
        "id": "Rm5AUEgoGqbD",
        "outputId": "775e1410-d1cb-4aab-a85e-cf35a2693307"
      },
      "execution_count": 32,
      "outputs": [
        {
          "output_type": "stream",
          "name": "stdout",
          "text": [
            "Drive already mounted at /content/drive; to attempt to forcibly remount, call drive.mount(\"/content/drive\", force_remount=True).\n"
          ]
        }
      ]
    },
    {
      "cell_type": "code",
      "source": [
        "# 왜 오류났는지 알아볼 것."
      ],
      "metadata": {
        "id": "AGvbQbIiHKgb"
      },
      "execution_count": null,
      "outputs": []
    },
    {
      "cell_type": "code",
      "source": [
        "path = r'/content/drive/MyDrive/topics'\n",
        "all_files = glob.glob(os.path.join(path, \"*.data\"))\n",
        "filename_list = []\n",
        "opinion_text = []\n",
        "\n",
        "for file_ in all_files:\n",
        "    df = pd.read_table(file_, index_col=None, header=0, encoding='latin1')\n",
        "    filename_ = file_.split('||')[-1]\n",
        "    filename = file_.split(',')[0]\n",
        "    filename_list.append(filename)\n",
        "    opinion_text.append(df.to_string())\n",
        "    \n",
        "document_df = pd.DataFrame({'filename':filename_list, 'opinion_text':opinion_text})\n",
        "tfidf_vect = TfidfVectorizer(tokenizer=LemNormalize, stop_words='english',\n",
        "                             ngram_range=(1,2), min_df=0.05, max_df=0.85)\n",
        "feature_vect = tfidf_vect.fit_transform(document_df['opinion_text'])\n",
        "\n",
        "km_cluster = KMeans(n_clusters=3, max_iter=10000, random_state=0)\n",
        "km_cluster.fit(feature_vect)\n",
        "cluster_label = km_cluster.labels_\n",
        "cluster_centers = km_cluster.cluster_centers_\n",
        "document_df['cluster_label']=cluster_label"
      ],
      "metadata": {
        "id": "Y1nDQtZ9ESnQ"
      },
      "execution_count": null,
      "outputs": []
    },
    {
      "cell_type": "code",
      "source": [
        "from sklearn.metrics.pairwise import cosine_similarity\n",
        "\n",
        "# cluster_label=1인 데이터가 호텔로 클러스터링된 데이터\n",
        "#hotel_indexes = document_df[document_df['cluster_label']==1].index\n",
        "#print('호텔로 클러스터링 된 문서들의 DataFrame Index:', hotel_indexes) "
      ],
      "metadata": {
        "id": "JeivAxGJ-Xuo"
      },
      "execution_count": null,
      "outputs": []
    },
    {
      "cell_type": "code",
      "source": [
        "# 호텔로 클러스터링된 데이터 중 첫번째 문서를 추출하여 파일명 표시.  \n",
        "#comparison_docname = document_df.iloc[hotel_indexes[0]]['filename']\n",
        "#print('##### 비교 기준 문서명 ',comparison_docname,' 와 타 문서 유사도######')\n",
        "\n",
        "#similarity_pair = cosine_similarity(feature_vect[hotel_indexes[0]] , feature_vect[hotel_indexes])\n",
        "#print(similarity_pair)"
      ],
      "metadata": {
        "id": "TOiezc4J-XsV"
      },
      "execution_count": null,
      "outputs": []
    },
    {
      "cell_type": "code",
      "source": [
        "import seaborn as sns\n",
        "import matplotlib.pyplot as plt\n",
        "%matplotlib inline\n",
        "\n",
        "# argsort()를 이용하여 앞예제의 첫번째 문서와 타 문서간 유사도가 큰 순으로 정렬한 인덱스 반환하되 자기 자신은 제외. \n",
        "#sorted_index = similarity_pair.argsort()[:,::-1]\n",
        "#sorted_index = sorted_index[:, 1:]\n",
        "\n",
        "# 유사도가 큰 순으로 hotel_indexes를 추출하여 재정렬하기\n",
        "#hotel_sorted_indexes = hotel_indexes[sorted_index.reshape(-1)]\n",
        "\n",
        "# 유사도가 큰 순으로 유사도 값을 재정렬하지만 자기 자신은 제외하기\n",
        "#hotel_1_sim_value = np.sort(similarity_pair.reshape(-1))[::-1]\n",
        "#hotel_1_sim_value = hotel_1_sim_value[1:]\n",
        "\n",
        "# 유사도가 큰 순으로 정렬된 Index와 유사도값을 이용하여 파일명과 유사도값을 Seaborn 막대 그래프로 시각화하기\n",
        "#hotel_1_sim_df = pd.DataFrame()\n",
        "#hotel_1_sim_df['filename'] = (document_df.iloc[hotel_sorted_indexes]['filename']).apply(lambda x : x.strip('/content/drive/MyDrive/2022-2 ESAA/Data/topics/'))\n",
        "#hotel_1_sim_df['similarity'] = hotel_1_sim_value\n",
        "\n",
        "#sns.barplot(x='similarity', y='filename',data=hotel_1_sim_df)\n",
        "#plt.title(comparison_docname)"
      ],
      "metadata": {
        "id": "_h7JanEi-XqF"
      },
      "execution_count": null,
      "outputs": []
    },
    {
      "cell_type": "markdown",
      "source": [
        "### **09. 한글 텍스트 처리 - 네이버 영화 평점 감성 분석**\n",
        "---"
      ],
      "metadata": {
        "id": "052gPp5AHO91"
      }
    },
    {
      "cell_type": "markdown",
      "source": [
        "#### **1. 한글 NLP 처리의 어려움**\n",
        "- 띄어쓰기와 다양한 조사로 인해 다른 언어에 비해 언어 처리가 어려움"
      ],
      "metadata": {
        "id": "X5-AIpbrHVEI"
      }
    },
    {
      "cell_type": "markdown",
      "source": [
        "#### **2. KnNLPy 소개**\n",
        "      1. 파이썬의 대표적인 한글 형태소 패키지\n",
        "      2. 5개의 형태소 분석 모듈 사용 가능함\n",
        "      3. mecab 경우에는 윈도우 환경에서 구동되지 않음"
      ],
      "metadata": {
        "id": "p-q4TnFmHmjL"
      }
    },
    {
      "cell_type": "code",
      "source": [
        "! pip install --upgrade pip"
      ],
      "metadata": {
        "colab": {
          "base_uri": "https://localhost:8080/"
        },
        "id": "nk441dYZ-XnP",
        "outputId": "dcfa7528-2a17-41cc-d0f4-ba9f7e1960e8"
      },
      "execution_count": 35,
      "outputs": [
        {
          "output_type": "stream",
          "name": "stdout",
          "text": [
            "Looking in indexes: https://pypi.org/simple, https://us-python.pkg.dev/colab-wheels/public/simple/\n",
            "Requirement already satisfied: pip in /usr/local/lib/python3.7/dist-packages (21.1.3)\n",
            "Collecting pip\n",
            "  Downloading pip-22.3.1-py3-none-any.whl (2.1 MB)\n",
            "\u001b[K     |████████████████████████████████| 2.1 MB 6.8 MB/s \n",
            "\u001b[?25hInstalling collected packages: pip\n",
            "  Attempting uninstall: pip\n",
            "    Found existing installation: pip 21.1.3\n",
            "    Uninstalling pip-21.1.3:\n",
            "      Successfully uninstalled pip-21.1.3\n",
            "Successfully installed pip-22.3.1\n"
          ]
        }
      ]
    },
    {
      "cell_type": "code",
      "source": [
        "!pip install jpype1"
      ],
      "metadata": {
        "colab": {
          "base_uri": "https://localhost:8080/"
        },
        "id": "G37rQeHMIkol",
        "outputId": "741e348b-bfbe-4bc4-e3e5-9facf6a54bc9"
      },
      "execution_count": 37,
      "outputs": [
        {
          "output_type": "stream",
          "name": "stdout",
          "text": [
            "Looking in indexes: https://pypi.org/simple, https://us-python.pkg.dev/colab-wheels/public/simple/\n",
            "Collecting jpype1\n",
            "  Downloading JPype1-1.4.1-cp37-cp37m-manylinux_2_12_x86_64.manylinux2010_x86_64.whl (465 kB)\n",
            "\u001b[2K     \u001b[90m━━━━━━━━━━━━━━━━━━━━━━━━━━━━━━━━━━━━━━━\u001b[0m \u001b[32m465.3/465.3 kB\u001b[0m \u001b[31m8.8 MB/s\u001b[0m eta \u001b[36m0:00:00\u001b[0m\n",
            "\u001b[?25hRequirement already satisfied: packaging in /usr/local/lib/python3.7/dist-packages (from jpype1) (21.3)\n",
            "Requirement already satisfied: typing-extensions in /usr/local/lib/python3.7/dist-packages (from jpype1) (4.1.1)\n",
            "Requirement already satisfied: pyparsing!=3.0.5,>=2.0.2 in /usr/local/lib/python3.7/dist-packages (from packaging->jpype1) (3.0.9)\n",
            "Installing collected packages: jpype1\n",
            "Successfully installed jpype1-1.4.1\n",
            "\u001b[33mWARNING: Running pip as the 'root' user can result in broken permissions and conflicting behaviour with the system package manager. It is recommended to use a virtual environment instead: https://pip.pypa.io/warnings/venv\u001b[0m\u001b[33m\n",
            "\u001b[0m"
          ]
        }
      ]
    },
    {
      "cell_type": "code",
      "source": [
        "!pip install konlpy"
      ],
      "metadata": {
        "colab": {
          "base_uri": "https://localhost:8080/"
        },
        "id": "71MKs6HpIl2y",
        "outputId": "017e0edc-d729-4b06-b13b-23609f80a3ff"
      },
      "execution_count": 38,
      "outputs": [
        {
          "output_type": "stream",
          "name": "stdout",
          "text": [
            "Looking in indexes: https://pypi.org/simple, https://us-python.pkg.dev/colab-wheels/public/simple/\n",
            "Collecting konlpy\n",
            "  Downloading konlpy-0.6.0-py2.py3-none-any.whl (19.4 MB)\n",
            "\u001b[2K     \u001b[90m━━━━━━━━━━━━━━━━━━━━━━━━━━━━━━━━━━━━━━━━\u001b[0m \u001b[32m19.4/19.4 MB\u001b[0m \u001b[31m37.4 MB/s\u001b[0m eta \u001b[36m0:00:00\u001b[0m\n",
            "\u001b[?25hRequirement already satisfied: numpy>=1.6 in /usr/local/lib/python3.7/dist-packages (from konlpy) (1.21.6)\n",
            "Requirement already satisfied: JPype1>=0.7.0 in /usr/local/lib/python3.7/dist-packages (from konlpy) (1.4.1)\n",
            "Requirement already satisfied: lxml>=4.1.0 in /usr/local/lib/python3.7/dist-packages (from konlpy) (4.9.1)\n",
            "Requirement already satisfied: packaging in /usr/local/lib/python3.7/dist-packages (from JPype1>=0.7.0->konlpy) (21.3)\n",
            "Requirement already satisfied: typing-extensions in /usr/local/lib/python3.7/dist-packages (from JPype1>=0.7.0->konlpy) (4.1.1)\n",
            "Requirement already satisfied: pyparsing!=3.0.5,>=2.0.2 in /usr/local/lib/python3.7/dist-packages (from packaging->JPype1>=0.7.0->konlpy) (3.0.9)\n",
            "Installing collected packages: konlpy\n",
            "Successfully installed konlpy-0.6.0\n",
            "\u001b[33mWARNING: Running pip as the 'root' user can result in broken permissions and conflicting behaviour with the system package manager. It is recommended to use a virtual environment instead: https://pip.pypa.io/warnings/venv\u001b[0m\u001b[33m\n",
            "\u001b[0m"
          ]
        }
      ]
    },
    {
      "cell_type": "code",
      "source": [
        "train_df = pd.read_csv('rating_train.txt',sep='\\t')"
      ],
      "metadata": {
        "id": "0jCILTVWIl0h"
      },
      "execution_count": null,
      "outputs": []
    },
    {
      "cell_type": "code",
      "source": [
        "import re\n",
        "\n",
        "train_df = train_df.fillna(' ')\n",
        "\n",
        "# 정규 표현식을 이용해 숫자를 공백으로 변경하기(정규 표현식으로 \\d는 숫자를 의미함)\n",
        "train_df['document'] = train_df['document'].apply(lambda x : re.sub(r\"\\d+\",\" \", x))\n",
        "\n",
        "# 테스트 데이터 세트를 로딩하고 동일하게 Null 및 숫자를 공백으로 변환하기\n",
        "test_df = pd.read_csv('ratings_test.txt', sep=\"\\t\")\n",
        "test_df = test_df.fillna(' ')\n",
        "test_df['document'] = test_df['document'].apply(lambda x : re.sub(r\"\\d+\",\" \", x))\n",
        "\n",
        "# Id 칼럼 삭제 수행\n",
        "train_df.drop('id', axis=1, inplace=True)\n",
        "test_df.drop('id', axis=1, inplace=True)"
      ],
      "metadata": {
        "id": "XgbaFv0SIlyL"
      },
      "execution_count": null,
      "outputs": []
    },
    {
      "cell_type": "code",
      "source": [
        "from konlpy.tag import Twitter\n",
        "\n",
        "twitter = Twitter()\n",
        "def tw_tokenizer(text):\n",
        "    # 입력 인자로 들어온 텍스트를 형태소 단어로 토큰화해 리스트 현태로 반환하기\n",
        "    tokens_ko = twitter.morphs(text)\n",
        "    return tokens_ko\n"
      ],
      "metadata": {
        "id": "mHgyHTsnIlv7"
      },
      "execution_count": null,
      "outputs": []
    },
    {
      "cell_type": "code",
      "source": [
        "from sklearn.feature_extraction.text import TfidfVectorizer\n",
        "from sklearn.linear_model import LogisticRegression\n",
        "from sklearn.model_selection import GridSearchCV\n",
        "\n",
        "# Twitter 객체의 morphs() 메서드를 이용한 tokenizer를 사용\n",
        "tfidf_vect = TfidfVectorizer(tokenizer=tw_tokenizer, ngram_range=(1,2), min_df=3, max_df=0.9)\n",
        "tfidf_vect.fit(train_df['document'])\n",
        "tfidf_matrix_train = tfidf_vect.transform(train_df['document'])"
      ],
      "metadata": {
        "id": "0JjB7DqxNh1Q"
      },
      "execution_count": null,
      "outputs": []
    },
    {
      "cell_type": "code",
      "source": [
        "# 로지스틱 회귀를 이용해 감성 분석 분류 수행하기\n",
        "lg_clf = LogisticRegression(random_state=0)\n",
        "\n",
        "# 파라미터 C 최적화를 위해 GridSearchCV를 이용하기\n",
        "params = {'C': [1,3.5, 4.5, 5.5, 10]}\n",
        "grid_cv = GridSearchCV(lg_clf, param_grid = params, cv=3, scoring='accuracy', verbose=1)\n",
        "grid_cv.fit(tfidf_matrix_train, train_df['label'])\n",
        "print(grid_cv.best_params_, round(grid_cv.best_score_, 4))"
      ],
      "metadata": {
        "id": "tG5-JhraNhyl"
      },
      "execution_count": null,
      "outputs": []
    },
    {
      "cell_type": "code",
      "source": [
        "from sklearn.metrics import accuracy_score\n",
        "\n",
        "# 최종 감성 예측 분석 시행하기\n",
        "# 학습 데이터를 적용한 TfidVectorizer를 이용해 텍스트 데이터를 TF-IDF 값으로 피처 변환하기\n",
        "tfidf_matrix_test = tfidf_vect.transform(test_df['document'])\n",
        "\n",
        "# classifier는 GridSearchCV에서 최적 파라미터로 학습된 classifier를 그대로 이용하기\n",
        "best_estimator = grid_cv.best_estimator_\n",
        "preds = best_estimator.predict(tfidf_matrix_test)\n",
        "\n",
        "print('Logistic Regression 정확도: ', accuracy_score(test_df['label'], preds))"
      ],
      "metadata": {
        "id": "ZXmStYxYNhwg"
      },
      "execution_count": null,
      "outputs": []
    }
  ]
}