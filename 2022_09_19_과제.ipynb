{
  "nbformat": 4,
  "nbformat_minor": 0,
  "metadata": {
    "colab": {
      "provenance": [],
      "mount_file_id": "17mSlcndzi5x58ni97uU9uAw79TKq5yOx",
      "authorship_tag": "ABX9TyMjHJorsuKkCbPR17jysfgv",
      "include_colab_link": true
    },
    "kernelspec": {
      "name": "python3",
      "display_name": "Python 3"
    },
    "language_info": {
      "name": "python"
    }
  },
  "cells": [
    {
      "cell_type": "markdown",
      "metadata": {
        "id": "view-in-github",
        "colab_type": "text"
      },
      "source": [
        "<a href=\"https://colab.research.google.com/github/jackie-Gung/Colab_ESAA/blob/main/2022_09_19_%EA%B3%BC%EC%A0%9C.ipynb\" target=\"_parent\"><img src=\"https://colab.research.google.com/assets/colab-badge.svg\" alt=\"Open In Colab\"/></a>"
      ]
    },
    {
      "cell_type": "markdown",
      "source": [
        "### **1.필요한 라이브러리 불러오기**\n",
        "---"
      ],
      "metadata": {
        "id": "v_GsDq_mkD1A"
      }
    },
    {
      "cell_type": "code",
      "execution_count": 1,
      "metadata": {
        "id": "fty8IPgZhIAa"
      },
      "outputs": [],
      "source": [
        "import numpy as np\n",
        "import pandas as pd\n",
        "%matplotlib inline\n",
        "import matplotlib.pyplot as plt\n",
        "import seaborn as sns\n",
        "\n",
        "color = sns.color_palette()\n",
        "sns.set_style('darkgrid')\n",
        "import warnings\n",
        "def ignore_warn(*args, **kwargs):\n",
        "    pass\n",
        "warnings.warn = ignore_warn"
      ]
    },
    {
      "cell_type": "code",
      "source": [
        "from scipy import stats\n",
        "from scipy.stats import norm, skew #for some statistics\n",
        "\n",
        "pd.set_option('display.float_format', lambda x: '{:.3f}'.format(x)) #Limiting floats output to 3 decimal points"
      ],
      "metadata": {
        "id": "kF3BGJZVikUI"
      },
      "execution_count": 2,
      "outputs": []
    },
    {
      "cell_type": "code",
      "source": [
        "## 이 부분 에러남\n",
        "from subprocess import check_output\n",
        "#print(check_output([\"ls\", \"../input\"]).decode(\"code949\")) #check the files available in the directory"
      ],
      "metadata": {
        "id": "aaokmAS6ikP3"
      },
      "execution_count": 3,
      "outputs": []
    },
    {
      "cell_type": "markdown",
      "source": [
        "### **2.데이터 불러오기**\n",
        "---"
      ],
      "metadata": {
        "id": "Lvc_FlF6kI4k"
      }
    },
    {
      "cell_type": "code",
      "source": [
        "train = pd.read_csv('/content/drive/MyDrive/train.csv')\n",
        "test = pd.read_csv('/content/drive/MyDrive/test.csv')"
      ],
      "metadata": {
        "id": "9hdquGelikNw"
      },
      "execution_count": 4,
      "outputs": []
    },
    {
      "cell_type": "code",
      "source": [
        "train.head()"
      ],
      "metadata": {
        "colab": {
          "base_uri": "https://localhost:8080/",
          "height": 299
        },
        "id": "tp0ojqxMikLv",
        "outputId": "641302e1-dc33-4d9b-d9e3-87d503e8a403"
      },
      "execution_count": 5,
      "outputs": [
        {
          "output_type": "execute_result",
          "data": {
            "text/plain": [
              "   Id  MSSubClass MSZoning  LotFrontage  LotArea Street Alley LotShape  \\\n",
              "0   1          60       RL       65.000     8450   Pave   NaN      Reg   \n",
              "1   2          20       RL       80.000     9600   Pave   NaN      Reg   \n",
              "2   3          60       RL       68.000    11250   Pave   NaN      IR1   \n",
              "3   4          70       RL       60.000     9550   Pave   NaN      IR1   \n",
              "4   5          60       RL       84.000    14260   Pave   NaN      IR1   \n",
              "\n",
              "  LandContour Utilities  ... PoolArea PoolQC Fence MiscFeature MiscVal MoSold  \\\n",
              "0         Lvl    AllPub  ...        0    NaN   NaN         NaN       0      2   \n",
              "1         Lvl    AllPub  ...        0    NaN   NaN         NaN       0      5   \n",
              "2         Lvl    AllPub  ...        0    NaN   NaN         NaN       0      9   \n",
              "3         Lvl    AllPub  ...        0    NaN   NaN         NaN       0      2   \n",
              "4         Lvl    AllPub  ...        0    NaN   NaN         NaN       0     12   \n",
              "\n",
              "  YrSold  SaleType  SaleCondition  SalePrice  \n",
              "0   2008        WD         Normal     208500  \n",
              "1   2007        WD         Normal     181500  \n",
              "2   2008        WD         Normal     223500  \n",
              "3   2006        WD        Abnorml     140000  \n",
              "4   2008        WD         Normal     250000  \n",
              "\n",
              "[5 rows x 81 columns]"
            ],
            "text/html": [
              "\n",
              "  <div id=\"df-57186d22-051d-4394-8240-faf436854f95\">\n",
              "    <div class=\"colab-df-container\">\n",
              "      <div>\n",
              "<style scoped>\n",
              "    .dataframe tbody tr th:only-of-type {\n",
              "        vertical-align: middle;\n",
              "    }\n",
              "\n",
              "    .dataframe tbody tr th {\n",
              "        vertical-align: top;\n",
              "    }\n",
              "\n",
              "    .dataframe thead th {\n",
              "        text-align: right;\n",
              "    }\n",
              "</style>\n",
              "<table border=\"1\" class=\"dataframe\">\n",
              "  <thead>\n",
              "    <tr style=\"text-align: right;\">\n",
              "      <th></th>\n",
              "      <th>Id</th>\n",
              "      <th>MSSubClass</th>\n",
              "      <th>MSZoning</th>\n",
              "      <th>LotFrontage</th>\n",
              "      <th>LotArea</th>\n",
              "      <th>Street</th>\n",
              "      <th>Alley</th>\n",
              "      <th>LotShape</th>\n",
              "      <th>LandContour</th>\n",
              "      <th>Utilities</th>\n",
              "      <th>...</th>\n",
              "      <th>PoolArea</th>\n",
              "      <th>PoolQC</th>\n",
              "      <th>Fence</th>\n",
              "      <th>MiscFeature</th>\n",
              "      <th>MiscVal</th>\n",
              "      <th>MoSold</th>\n",
              "      <th>YrSold</th>\n",
              "      <th>SaleType</th>\n",
              "      <th>SaleCondition</th>\n",
              "      <th>SalePrice</th>\n",
              "    </tr>\n",
              "  </thead>\n",
              "  <tbody>\n",
              "    <tr>\n",
              "      <th>0</th>\n",
              "      <td>1</td>\n",
              "      <td>60</td>\n",
              "      <td>RL</td>\n",
              "      <td>65.000</td>\n",
              "      <td>8450</td>\n",
              "      <td>Pave</td>\n",
              "      <td>NaN</td>\n",
              "      <td>Reg</td>\n",
              "      <td>Lvl</td>\n",
              "      <td>AllPub</td>\n",
              "      <td>...</td>\n",
              "      <td>0</td>\n",
              "      <td>NaN</td>\n",
              "      <td>NaN</td>\n",
              "      <td>NaN</td>\n",
              "      <td>0</td>\n",
              "      <td>2</td>\n",
              "      <td>2008</td>\n",
              "      <td>WD</td>\n",
              "      <td>Normal</td>\n",
              "      <td>208500</td>\n",
              "    </tr>\n",
              "    <tr>\n",
              "      <th>1</th>\n",
              "      <td>2</td>\n",
              "      <td>20</td>\n",
              "      <td>RL</td>\n",
              "      <td>80.000</td>\n",
              "      <td>9600</td>\n",
              "      <td>Pave</td>\n",
              "      <td>NaN</td>\n",
              "      <td>Reg</td>\n",
              "      <td>Lvl</td>\n",
              "      <td>AllPub</td>\n",
              "      <td>...</td>\n",
              "      <td>0</td>\n",
              "      <td>NaN</td>\n",
              "      <td>NaN</td>\n",
              "      <td>NaN</td>\n",
              "      <td>0</td>\n",
              "      <td>5</td>\n",
              "      <td>2007</td>\n",
              "      <td>WD</td>\n",
              "      <td>Normal</td>\n",
              "      <td>181500</td>\n",
              "    </tr>\n",
              "    <tr>\n",
              "      <th>2</th>\n",
              "      <td>3</td>\n",
              "      <td>60</td>\n",
              "      <td>RL</td>\n",
              "      <td>68.000</td>\n",
              "      <td>11250</td>\n",
              "      <td>Pave</td>\n",
              "      <td>NaN</td>\n",
              "      <td>IR1</td>\n",
              "      <td>Lvl</td>\n",
              "      <td>AllPub</td>\n",
              "      <td>...</td>\n",
              "      <td>0</td>\n",
              "      <td>NaN</td>\n",
              "      <td>NaN</td>\n",
              "      <td>NaN</td>\n",
              "      <td>0</td>\n",
              "      <td>9</td>\n",
              "      <td>2008</td>\n",
              "      <td>WD</td>\n",
              "      <td>Normal</td>\n",
              "      <td>223500</td>\n",
              "    </tr>\n",
              "    <tr>\n",
              "      <th>3</th>\n",
              "      <td>4</td>\n",
              "      <td>70</td>\n",
              "      <td>RL</td>\n",
              "      <td>60.000</td>\n",
              "      <td>9550</td>\n",
              "      <td>Pave</td>\n",
              "      <td>NaN</td>\n",
              "      <td>IR1</td>\n",
              "      <td>Lvl</td>\n",
              "      <td>AllPub</td>\n",
              "      <td>...</td>\n",
              "      <td>0</td>\n",
              "      <td>NaN</td>\n",
              "      <td>NaN</td>\n",
              "      <td>NaN</td>\n",
              "      <td>0</td>\n",
              "      <td>2</td>\n",
              "      <td>2006</td>\n",
              "      <td>WD</td>\n",
              "      <td>Abnorml</td>\n",
              "      <td>140000</td>\n",
              "    </tr>\n",
              "    <tr>\n",
              "      <th>4</th>\n",
              "      <td>5</td>\n",
              "      <td>60</td>\n",
              "      <td>RL</td>\n",
              "      <td>84.000</td>\n",
              "      <td>14260</td>\n",
              "      <td>Pave</td>\n",
              "      <td>NaN</td>\n",
              "      <td>IR1</td>\n",
              "      <td>Lvl</td>\n",
              "      <td>AllPub</td>\n",
              "      <td>...</td>\n",
              "      <td>0</td>\n",
              "      <td>NaN</td>\n",
              "      <td>NaN</td>\n",
              "      <td>NaN</td>\n",
              "      <td>0</td>\n",
              "      <td>12</td>\n",
              "      <td>2008</td>\n",
              "      <td>WD</td>\n",
              "      <td>Normal</td>\n",
              "      <td>250000</td>\n",
              "    </tr>\n",
              "  </tbody>\n",
              "</table>\n",
              "<p>5 rows × 81 columns</p>\n",
              "</div>\n",
              "      <button class=\"colab-df-convert\" onclick=\"convertToInteractive('df-57186d22-051d-4394-8240-faf436854f95')\"\n",
              "              title=\"Convert this dataframe to an interactive table.\"\n",
              "              style=\"display:none;\">\n",
              "        \n",
              "  <svg xmlns=\"http://www.w3.org/2000/svg\" height=\"24px\"viewBox=\"0 0 24 24\"\n",
              "       width=\"24px\">\n",
              "    <path d=\"M0 0h24v24H0V0z\" fill=\"none\"/>\n",
              "    <path d=\"M18.56 5.44l.94 2.06.94-2.06 2.06-.94-2.06-.94-.94-2.06-.94 2.06-2.06.94zm-11 1L8.5 8.5l.94-2.06 2.06-.94-2.06-.94L8.5 2.5l-.94 2.06-2.06.94zm10 10l.94 2.06.94-2.06 2.06-.94-2.06-.94-.94-2.06-.94 2.06-2.06.94z\"/><path d=\"M17.41 7.96l-1.37-1.37c-.4-.4-.92-.59-1.43-.59-.52 0-1.04.2-1.43.59L10.3 9.45l-7.72 7.72c-.78.78-.78 2.05 0 2.83L4 21.41c.39.39.9.59 1.41.59.51 0 1.02-.2 1.41-.59l7.78-7.78 2.81-2.81c.8-.78.8-2.07 0-2.86zM5.41 20L4 18.59l7.72-7.72 1.47 1.35L5.41 20z\"/>\n",
              "  </svg>\n",
              "      </button>\n",
              "      \n",
              "  <style>\n",
              "    .colab-df-container {\n",
              "      display:flex;\n",
              "      flex-wrap:wrap;\n",
              "      gap: 12px;\n",
              "    }\n",
              "\n",
              "    .colab-df-convert {\n",
              "      background-color: #E8F0FE;\n",
              "      border: none;\n",
              "      border-radius: 50%;\n",
              "      cursor: pointer;\n",
              "      display: none;\n",
              "      fill: #1967D2;\n",
              "      height: 32px;\n",
              "      padding: 0 0 0 0;\n",
              "      width: 32px;\n",
              "    }\n",
              "\n",
              "    .colab-df-convert:hover {\n",
              "      background-color: #E2EBFA;\n",
              "      box-shadow: 0px 1px 2px rgba(60, 64, 67, 0.3), 0px 1px 3px 1px rgba(60, 64, 67, 0.15);\n",
              "      fill: #174EA6;\n",
              "    }\n",
              "\n",
              "    [theme=dark] .colab-df-convert {\n",
              "      background-color: #3B4455;\n",
              "      fill: #D2E3FC;\n",
              "    }\n",
              "\n",
              "    [theme=dark] .colab-df-convert:hover {\n",
              "      background-color: #434B5C;\n",
              "      box-shadow: 0px 1px 3px 1px rgba(0, 0, 0, 0.15);\n",
              "      filter: drop-shadow(0px 1px 2px rgba(0, 0, 0, 0.3));\n",
              "      fill: #FFFFFF;\n",
              "    }\n",
              "  </style>\n",
              "\n",
              "      <script>\n",
              "        const buttonEl =\n",
              "          document.querySelector('#df-57186d22-051d-4394-8240-faf436854f95 button.colab-df-convert');\n",
              "        buttonEl.style.display =\n",
              "          google.colab.kernel.accessAllowed ? 'block' : 'none';\n",
              "\n",
              "        async function convertToInteractive(key) {\n",
              "          const element = document.querySelector('#df-57186d22-051d-4394-8240-faf436854f95');\n",
              "          const dataTable =\n",
              "            await google.colab.kernel.invokeFunction('convertToInteractive',\n",
              "                                                     [key], {});\n",
              "          if (!dataTable) return;\n",
              "\n",
              "          const docLinkHtml = 'Like what you see? Visit the ' +\n",
              "            '<a target=\"_blank\" href=https://colab.research.google.com/notebooks/data_table.ipynb>data table notebook</a>'\n",
              "            + ' to learn more about interactive tables.';\n",
              "          element.innerHTML = '';\n",
              "          dataTable['output_type'] = 'display_data';\n",
              "          await google.colab.output.renderOutput(dataTable, element);\n",
              "          const docLink = document.createElement('div');\n",
              "          docLink.innerHTML = docLinkHtml;\n",
              "          element.appendChild(docLink);\n",
              "        }\n",
              "      </script>\n",
              "    </div>\n",
              "  </div>\n",
              "  "
            ]
          },
          "metadata": {},
          "execution_count": 5
        }
      ]
    },
    {
      "cell_type": "code",
      "source": [
        "test.head()"
      ],
      "metadata": {
        "colab": {
          "base_uri": "https://localhost:8080/",
          "height": 299
        },
        "id": "knDjExNPikJX",
        "outputId": "b2c97fe9-12e7-4c77-d616-3935824586a7"
      },
      "execution_count": 6,
      "outputs": [
        {
          "output_type": "execute_result",
          "data": {
            "text/plain": [
              "     Id  MSSubClass MSZoning  LotFrontage  LotArea Street Alley LotShape  \\\n",
              "0  1461          20       RH       80.000    11622   Pave   NaN      Reg   \n",
              "1  1462          20       RL       81.000    14267   Pave   NaN      IR1   \n",
              "2  1463          60       RL       74.000    13830   Pave   NaN      IR1   \n",
              "3  1464          60       RL       78.000     9978   Pave   NaN      IR1   \n",
              "4  1465         120       RL       43.000     5005   Pave   NaN      IR1   \n",
              "\n",
              "  LandContour Utilities  ... ScreenPorch PoolArea PoolQC  Fence MiscFeature  \\\n",
              "0         Lvl    AllPub  ...         120        0    NaN  MnPrv         NaN   \n",
              "1         Lvl    AllPub  ...           0        0    NaN    NaN        Gar2   \n",
              "2         Lvl    AllPub  ...           0        0    NaN  MnPrv         NaN   \n",
              "3         Lvl    AllPub  ...           0        0    NaN    NaN         NaN   \n",
              "4         HLS    AllPub  ...         144        0    NaN    NaN         NaN   \n",
              "\n",
              "  MiscVal MoSold  YrSold  SaleType  SaleCondition  \n",
              "0       0      6    2010        WD         Normal  \n",
              "1   12500      6    2010        WD         Normal  \n",
              "2       0      3    2010        WD         Normal  \n",
              "3       0      6    2010        WD         Normal  \n",
              "4       0      1    2010        WD         Normal  \n",
              "\n",
              "[5 rows x 80 columns]"
            ],
            "text/html": [
              "\n",
              "  <div id=\"df-6efc8c9f-acdf-46d6-99f3-8cb33e574f3f\">\n",
              "    <div class=\"colab-df-container\">\n",
              "      <div>\n",
              "<style scoped>\n",
              "    .dataframe tbody tr th:only-of-type {\n",
              "        vertical-align: middle;\n",
              "    }\n",
              "\n",
              "    .dataframe tbody tr th {\n",
              "        vertical-align: top;\n",
              "    }\n",
              "\n",
              "    .dataframe thead th {\n",
              "        text-align: right;\n",
              "    }\n",
              "</style>\n",
              "<table border=\"1\" class=\"dataframe\">\n",
              "  <thead>\n",
              "    <tr style=\"text-align: right;\">\n",
              "      <th></th>\n",
              "      <th>Id</th>\n",
              "      <th>MSSubClass</th>\n",
              "      <th>MSZoning</th>\n",
              "      <th>LotFrontage</th>\n",
              "      <th>LotArea</th>\n",
              "      <th>Street</th>\n",
              "      <th>Alley</th>\n",
              "      <th>LotShape</th>\n",
              "      <th>LandContour</th>\n",
              "      <th>Utilities</th>\n",
              "      <th>...</th>\n",
              "      <th>ScreenPorch</th>\n",
              "      <th>PoolArea</th>\n",
              "      <th>PoolQC</th>\n",
              "      <th>Fence</th>\n",
              "      <th>MiscFeature</th>\n",
              "      <th>MiscVal</th>\n",
              "      <th>MoSold</th>\n",
              "      <th>YrSold</th>\n",
              "      <th>SaleType</th>\n",
              "      <th>SaleCondition</th>\n",
              "    </tr>\n",
              "  </thead>\n",
              "  <tbody>\n",
              "    <tr>\n",
              "      <th>0</th>\n",
              "      <td>1461</td>\n",
              "      <td>20</td>\n",
              "      <td>RH</td>\n",
              "      <td>80.000</td>\n",
              "      <td>11622</td>\n",
              "      <td>Pave</td>\n",
              "      <td>NaN</td>\n",
              "      <td>Reg</td>\n",
              "      <td>Lvl</td>\n",
              "      <td>AllPub</td>\n",
              "      <td>...</td>\n",
              "      <td>120</td>\n",
              "      <td>0</td>\n",
              "      <td>NaN</td>\n",
              "      <td>MnPrv</td>\n",
              "      <td>NaN</td>\n",
              "      <td>0</td>\n",
              "      <td>6</td>\n",
              "      <td>2010</td>\n",
              "      <td>WD</td>\n",
              "      <td>Normal</td>\n",
              "    </tr>\n",
              "    <tr>\n",
              "      <th>1</th>\n",
              "      <td>1462</td>\n",
              "      <td>20</td>\n",
              "      <td>RL</td>\n",
              "      <td>81.000</td>\n",
              "      <td>14267</td>\n",
              "      <td>Pave</td>\n",
              "      <td>NaN</td>\n",
              "      <td>IR1</td>\n",
              "      <td>Lvl</td>\n",
              "      <td>AllPub</td>\n",
              "      <td>...</td>\n",
              "      <td>0</td>\n",
              "      <td>0</td>\n",
              "      <td>NaN</td>\n",
              "      <td>NaN</td>\n",
              "      <td>Gar2</td>\n",
              "      <td>12500</td>\n",
              "      <td>6</td>\n",
              "      <td>2010</td>\n",
              "      <td>WD</td>\n",
              "      <td>Normal</td>\n",
              "    </tr>\n",
              "    <tr>\n",
              "      <th>2</th>\n",
              "      <td>1463</td>\n",
              "      <td>60</td>\n",
              "      <td>RL</td>\n",
              "      <td>74.000</td>\n",
              "      <td>13830</td>\n",
              "      <td>Pave</td>\n",
              "      <td>NaN</td>\n",
              "      <td>IR1</td>\n",
              "      <td>Lvl</td>\n",
              "      <td>AllPub</td>\n",
              "      <td>...</td>\n",
              "      <td>0</td>\n",
              "      <td>0</td>\n",
              "      <td>NaN</td>\n",
              "      <td>MnPrv</td>\n",
              "      <td>NaN</td>\n",
              "      <td>0</td>\n",
              "      <td>3</td>\n",
              "      <td>2010</td>\n",
              "      <td>WD</td>\n",
              "      <td>Normal</td>\n",
              "    </tr>\n",
              "    <tr>\n",
              "      <th>3</th>\n",
              "      <td>1464</td>\n",
              "      <td>60</td>\n",
              "      <td>RL</td>\n",
              "      <td>78.000</td>\n",
              "      <td>9978</td>\n",
              "      <td>Pave</td>\n",
              "      <td>NaN</td>\n",
              "      <td>IR1</td>\n",
              "      <td>Lvl</td>\n",
              "      <td>AllPub</td>\n",
              "      <td>...</td>\n",
              "      <td>0</td>\n",
              "      <td>0</td>\n",
              "      <td>NaN</td>\n",
              "      <td>NaN</td>\n",
              "      <td>NaN</td>\n",
              "      <td>0</td>\n",
              "      <td>6</td>\n",
              "      <td>2010</td>\n",
              "      <td>WD</td>\n",
              "      <td>Normal</td>\n",
              "    </tr>\n",
              "    <tr>\n",
              "      <th>4</th>\n",
              "      <td>1465</td>\n",
              "      <td>120</td>\n",
              "      <td>RL</td>\n",
              "      <td>43.000</td>\n",
              "      <td>5005</td>\n",
              "      <td>Pave</td>\n",
              "      <td>NaN</td>\n",
              "      <td>IR1</td>\n",
              "      <td>HLS</td>\n",
              "      <td>AllPub</td>\n",
              "      <td>...</td>\n",
              "      <td>144</td>\n",
              "      <td>0</td>\n",
              "      <td>NaN</td>\n",
              "      <td>NaN</td>\n",
              "      <td>NaN</td>\n",
              "      <td>0</td>\n",
              "      <td>1</td>\n",
              "      <td>2010</td>\n",
              "      <td>WD</td>\n",
              "      <td>Normal</td>\n",
              "    </tr>\n",
              "  </tbody>\n",
              "</table>\n",
              "<p>5 rows × 80 columns</p>\n",
              "</div>\n",
              "      <button class=\"colab-df-convert\" onclick=\"convertToInteractive('df-6efc8c9f-acdf-46d6-99f3-8cb33e574f3f')\"\n",
              "              title=\"Convert this dataframe to an interactive table.\"\n",
              "              style=\"display:none;\">\n",
              "        \n",
              "  <svg xmlns=\"http://www.w3.org/2000/svg\" height=\"24px\"viewBox=\"0 0 24 24\"\n",
              "       width=\"24px\">\n",
              "    <path d=\"M0 0h24v24H0V0z\" fill=\"none\"/>\n",
              "    <path d=\"M18.56 5.44l.94 2.06.94-2.06 2.06-.94-2.06-.94-.94-2.06-.94 2.06-2.06.94zm-11 1L8.5 8.5l.94-2.06 2.06-.94-2.06-.94L8.5 2.5l-.94 2.06-2.06.94zm10 10l.94 2.06.94-2.06 2.06-.94-2.06-.94-.94-2.06-.94 2.06-2.06.94z\"/><path d=\"M17.41 7.96l-1.37-1.37c-.4-.4-.92-.59-1.43-.59-.52 0-1.04.2-1.43.59L10.3 9.45l-7.72 7.72c-.78.78-.78 2.05 0 2.83L4 21.41c.39.39.9.59 1.41.59.51 0 1.02-.2 1.41-.59l7.78-7.78 2.81-2.81c.8-.78.8-2.07 0-2.86zM5.41 20L4 18.59l7.72-7.72 1.47 1.35L5.41 20z\"/>\n",
              "  </svg>\n",
              "      </button>\n",
              "      \n",
              "  <style>\n",
              "    .colab-df-container {\n",
              "      display:flex;\n",
              "      flex-wrap:wrap;\n",
              "      gap: 12px;\n",
              "    }\n",
              "\n",
              "    .colab-df-convert {\n",
              "      background-color: #E8F0FE;\n",
              "      border: none;\n",
              "      border-radius: 50%;\n",
              "      cursor: pointer;\n",
              "      display: none;\n",
              "      fill: #1967D2;\n",
              "      height: 32px;\n",
              "      padding: 0 0 0 0;\n",
              "      width: 32px;\n",
              "    }\n",
              "\n",
              "    .colab-df-convert:hover {\n",
              "      background-color: #E2EBFA;\n",
              "      box-shadow: 0px 1px 2px rgba(60, 64, 67, 0.3), 0px 1px 3px 1px rgba(60, 64, 67, 0.15);\n",
              "      fill: #174EA6;\n",
              "    }\n",
              "\n",
              "    [theme=dark] .colab-df-convert {\n",
              "      background-color: #3B4455;\n",
              "      fill: #D2E3FC;\n",
              "    }\n",
              "\n",
              "    [theme=dark] .colab-df-convert:hover {\n",
              "      background-color: #434B5C;\n",
              "      box-shadow: 0px 1px 3px 1px rgba(0, 0, 0, 0.15);\n",
              "      filter: drop-shadow(0px 1px 2px rgba(0, 0, 0, 0.3));\n",
              "      fill: #FFFFFF;\n",
              "    }\n",
              "  </style>\n",
              "\n",
              "      <script>\n",
              "        const buttonEl =\n",
              "          document.querySelector('#df-6efc8c9f-acdf-46d6-99f3-8cb33e574f3f button.colab-df-convert');\n",
              "        buttonEl.style.display =\n",
              "          google.colab.kernel.accessAllowed ? 'block' : 'none';\n",
              "\n",
              "        async function convertToInteractive(key) {\n",
              "          const element = document.querySelector('#df-6efc8c9f-acdf-46d6-99f3-8cb33e574f3f');\n",
              "          const dataTable =\n",
              "            await google.colab.kernel.invokeFunction('convertToInteractive',\n",
              "                                                     [key], {});\n",
              "          if (!dataTable) return;\n",
              "\n",
              "          const docLinkHtml = 'Like what you see? Visit the ' +\n",
              "            '<a target=\"_blank\" href=https://colab.research.google.com/notebooks/data_table.ipynb>data table notebook</a>'\n",
              "            + ' to learn more about interactive tables.';\n",
              "          element.innerHTML = '';\n",
              "          dataTable['output_type'] = 'display_data';\n",
              "          await google.colab.output.renderOutput(dataTable, element);\n",
              "          const docLink = document.createElement('div');\n",
              "          docLink.innerHTML = docLinkHtml;\n",
              "          element.appendChild(docLink);\n",
              "        }\n",
              "      </script>\n",
              "    </div>\n",
              "  </div>\n",
              "  "
            ]
          },
          "metadata": {},
          "execution_count": 6
        }
      ]
    },
    {
      "cell_type": "markdown",
      "source": [
        "### **3.데이터 전처리 및 EDA**\n",
        "---"
      ],
      "metadata": {
        "id": "zdLTANs8l0i-"
      }
    },
    {
      "cell_type": "markdown",
      "source": [
        "#### **1) 데이터 개수 확인하기**"
      ],
      "metadata": {
        "id": "5BLmAIlinSAE"
      }
    },
    {
      "cell_type": "code",
      "source": [
        "print(train.shape)\n",
        "print(test.shape)"
      ],
      "metadata": {
        "colab": {
          "base_uri": "https://localhost:8080/"
        },
        "id": "hP_rGaoKlzjt",
        "outputId": "83d7c39e-193d-43aa-e243-087a3b0d9d72"
      },
      "execution_count": 7,
      "outputs": [
        {
          "output_type": "stream",
          "name": "stdout",
          "text": [
            "(1460, 81)\n",
            "(1459, 80)\n"
          ]
        }
      ]
    },
    {
      "cell_type": "markdown",
      "source": [
        "#### **2) 필요없는 칼럼 삭제하기**"
      ],
      "metadata": {
        "id": "gUUlf6manViP"
      }
    },
    {
      "cell_type": "code",
      "source": [
        "# 'ID' 칼럼\n",
        "train_ID = train['Id']\n",
        "test_ID = test['Id']\n",
        "\n",
        "# 'ID' 칼럼 삭제하기\n",
        "train.drop('Id', axis=1, inplace=True)\n",
        "test.drop('Id', axis=1, inplace=True)\n",
        "\n",
        "# 'ID' 칼럼 잘 삭제됐는지 확인하기\n",
        "print(train.shape)\n",
        "print(test.shape)"
      ],
      "metadata": {
        "colab": {
          "base_uri": "https://localhost:8080/"
        },
        "id": "27bduOySlzhb",
        "outputId": "d7563856-c4f0-4557-f04b-0d36b9454600"
      },
      "execution_count": 8,
      "outputs": [
        {
          "output_type": "stream",
          "name": "stdout",
          "text": [
            "(1460, 80)\n",
            "(1459, 79)\n"
          ]
        }
      ]
    },
    {
      "cell_type": "markdown",
      "source": [
        "#### **3) Outliers 확인 및 제거하기**"
      ],
      "metadata": {
        "id": "0y9c--vanYrE"
      }
    },
    {
      "cell_type": "code",
      "source": [
        "# Outliers 확인하기\n",
        "fig,ax = plt.subplots()\n",
        "ax.scatter(x=train['GrLivArea'],y=train['SalePrice'])\n",
        "plt.ylabel('SalePrice',fontsize=13)\n",
        "plt.xlabel('GrLivArea',fontsize=13)\n",
        "plt.show()"
      ],
      "metadata": {
        "colab": {
          "base_uri": "https://localhost:8080/",
          "height": 282
        },
        "id": "64KGM97olzfe",
        "outputId": "168911e0-8245-49f0-c53b-caea6cfdfec5"
      },
      "execution_count": 9,
      "outputs": [
        {
          "output_type": "display_data",
          "data": {
            "text/plain": [
              "<Figure size 432x288 with 1 Axes>"
            ],
            "image/png": "[encoded data removed]"
          },
          "metadata": {}
        }
      ]
    },
    {
      "cell_type": "markdown",
      "source": [
        "- **분석:** GrLivArea가 엄청 크면서 SalePrice는 작은 부분에 2개의 outlier가 존재함. 너무 벗어나 있기 때문에 제거해야함"
      ],
      "metadata": {
        "id": "7XMlYZf_nvEd"
      }
    },
    {
      "cell_type": "code",
      "source": [
        "# Outliers 제거하기\n",
        "train = train.drop(train[(train['GrLivArea']>4000) & (train['SalePrice'] < 300000)].index)"
      ],
      "metadata": {
        "id": "cFsWblQ1lzdT"
      },
      "execution_count": 10,
      "outputs": []
    },
    {
      "cell_type": "code",
      "source": [
        "# 잘 제거됐는지 확인하기\n",
        "fig,ax = plt.subplots()\n",
        "ax.scatter(train['GrLivArea'], train['SalePrice'])\n",
        "plt.ylabel('SalePrice',fontsize=13)\n",
        "plt.xlabel('GrLivArea',fontsize=13)\n",
        "plt.show()"
      ],
      "metadata": {
        "colab": {
          "base_uri": "https://localhost:8080/",
          "height": 282
        },
        "id": "yIjw_DDnlzbX",
        "outputId": "129b5fdc-7da9-4102-ed87-60024d2c5d97"
      },
      "execution_count": 11,
      "outputs": [
        {
          "output_type": "display_data",
          "data": {
            "text/plain": [
              "<Figure size 432x288 with 1 Axes>"
            ],
            "image/png": "[encoded data removed]"
          },
          "metadata": {}
        }
      ]
    },
    {
      "cell_type": "markdown",
      "source": [
        "- **결과**\n",
        "      1. 다른 outliers도 존재하지만, 모두 제거하게 되면 검증 데이터에 outliers가 있을 경우 모델에 안 좋은 영향을 미칠 수 있음\n",
        "      2. 따라서 어느 정도 잡음은 가지고 있는게 모델 성능에 좋을 것으로 예상됨"
      ],
      "metadata": {
        "id": "mtKDjqy4qjit"
      }
    },
    {
      "cell_type": "markdown",
      "source": [
        "#### **4) 타깃 변수 확인 및 변환하기**"
      ],
      "metadata": {
        "id": "nlnwV_VOqzhw"
      }
    },
    {
      "cell_type": "markdown",
      "source": [
        "- **타깃 변수 확인하기**"
      ],
      "metadata": {
        "id": "JMVHy6rgvC-8"
      }
    },
    {
      "cell_type": "code",
      "source": [
        "sns.distplot(train['SalePrice'],fit=norm);\n",
        "\n",
        "# 함수를 이용해서 fitted parameter 불러오기\n",
        "(mu, sigma) = norm.fit(train['SalePrice'])\n",
        "print('\\n mu = {:.2f} and sigma = {:.2f}\\n'.format(mu,sigma))\n",
        "\n",
        "# 분포 나타내기\n",
        "plt.legend(['Normal dist.($\\mu=$ {:.2f} and $\\sigma=$ {:.2f} )'.format(mu, sigma)],loc='best')\n",
        "plt.ylabel('Frequency')\n",
        "plt.title('SalePrice distribution')\n",
        "\n",
        "# QQ-plot으로 정규성 나타내기\n",
        "fig = plt.figure()\n",
        "res = stats.probplot(train['SalePrice'], plot=plt)\n",
        "plt.show()"
      ],
      "metadata": {
        "colab": {
          "base_uri": "https://localhost:8080/",
          "height": 628
        },
        "id": "LqHLZ32vlzZL",
        "outputId": "b0f22560-f1b2-422f-f4a7-5d21725bc5ca"
      },
      "execution_count": 12,
      "outputs": [
        {
          "output_type": "stream",
          "name": "stdout",
          "text": [
            "\n",
            " mu = 180932.92 and sigma = 79467.79\n",
            "\n"
          ]
        },
        {
          "output_type": "display_data",
          "data": {
            "text/plain": [
              "<Figure size 432x288 with 1 Axes>"
            ],
            "image/png": "[encoded data removed]"
          },
          "metadata": {}
        },
        {
          "output_type": "display_data",
          "data": {
            "text/plain": [
              "<Figure size 432x288 with 1 Axes>"
            ],
            "image/png": "[encoded data removed]"
          },
          "metadata": {}
        }
      ]
    },
    {
      "cell_type": "markdown",
      "source": [
        "- **분석**\n",
        "      1. 타깃 변수를 보면 right skewed된 것을 알 수 있음\n",
        "      2. 정규성을 만족시키기 위해 데이터를 변환해야함"
      ],
      "metadata": {
        "id": "6lu9dzG0tnvF"
      }
    },
    {
      "cell_type": "markdown",
      "source": [
        "- **타깃 변수 로그 변환하기**"
      ],
      "metadata": {
        "id": "DfgZ6hlNt6SH"
      }
    },
    {
      "cell_type": "code",
      "source": [
        "train['SalePrice'] = np.log1p(train['SalePrice'])"
      ],
      "metadata": {
        "id": "3G6ucVPDlzXI"
      },
      "execution_count": 13,
      "outputs": []
    },
    {
      "cell_type": "code",
      "source": [
        "# 분포 확인하기\n",
        "sns.distplot(train['SalePrice'], fit=norm)\n",
        "\n",
        "(mu, sigma) = norm.fit(train['SalePrice'])\n",
        "print('\\n mu = {:.2f} and sigma = {:.2f}\\n'.format(mu,sigma))\n",
        "\n",
        "# 분포 나타내기\n",
        "plt.legend(['Normal dist.($\\mu=$ {:.2f} and $\\sigma=$ {:.2f} )'.format(mu, sigma)],loc='best')\n",
        "plt.ylabel('Frequency')\n",
        "plt.title('SalePrice distribution')\n",
        "\n",
        "# QQ-plot으로 정규성 나타내기\n",
        "fig = plt.figure()\n",
        "res = stats.probplot(train['SalePrice'], plot=plt)\n",
        "plt.show()"
      ],
      "metadata": {
        "colab": {
          "base_uri": "https://localhost:8080/",
          "height": 628
        },
        "id": "ywR4uStflzVF",
        "outputId": "f86c5054-6274-4fae-9ad0-ec87e5d006d3"
      },
      "execution_count": 14,
      "outputs": [
        {
          "output_type": "stream",
          "name": "stdout",
          "text": [
            "\n",
            " mu = 12.02 and sigma = 0.40\n",
            "\n"
          ]
        },
        {
          "output_type": "display_data",
          "data": {
            "text/plain": [
              "<Figure size 432x288 with 1 Axes>"
            ],
            "image/png": "[encoded data removed]"
          },
          "metadata": {}
        },
        {
          "output_type": "display_data",
          "data": {
            "text/plain": [
              "<Figure size 432x288 with 1 Axes>"
            ],
            "image/png": "[encoded data removed]"
          },
          "metadata": {}
        }
      ]
    },
    {
      "cell_type": "markdown",
      "source": [
        "- **결과:** 기울어진 정도가 중앙으로 몰렸고, 정규성을 거의 만족시킴"
      ],
      "metadata": {
        "id": "qmsru80luiwc"
      }
    },
    {
      "cell_type": "markdown",
      "source": [
        "#### **5) Features Engineering**"
      ],
      "metadata": {
        "id": "QFKE2AxVvMgI"
      }
    },
    {
      "cell_type": "markdown",
      "source": [
        "- **train/test 데이터 합치기**"
      ],
      "metadata": {
        "id": "-NX14Crn0HP7"
      }
    },
    {
      "cell_type": "code",
      "source": [
        "ntrain = train.shape[0]\n",
        "ntest = test.shape[0]\n",
        "y_train = train.SalePrice.values\n",
        "all_data = pd.concat((train,test)).reset_index(drop=True) # concat(): 세로로 합쳐짐\n",
        "all_data.drop(['SalePrice'], axis=1, inplace=True)\n",
        "print('all_data size is : {}'.format(all_data.shape))"
      ],
      "metadata": {
        "colab": {
          "base_uri": "https://localhost:8080/"
        },
        "id": "w81Qunp7lzTO",
        "outputId": "6f7f0049-a4c5-409b-ca1b-a738cb43b2c6"
      },
      "execution_count": 15,
      "outputs": [
        {
          "output_type": "stream",
          "name": "stdout",
          "text": [
            "all_data size is : (2917, 79)\n"
          ]
        }
      ]
    },
    {
      "cell_type": "markdown",
      "source": [
        "- **missing data 비율 확인하기**"
      ],
      "metadata": {
        "id": "xMP3WoAd0JbL"
      }
    },
    {
      "cell_type": "code",
      "source": [
        "all_data_na = (all_data.isnull().sum() / len(all_data))*100\n",
        "all_data_na = all_data_na.drop(all_data_na[all_data_na==0].index).sort_values(ascending=False)[:30]\n",
        "missing_data = pd.DataFrame({'Missing Ratio' : all_data_na})\n",
        "missing_data.head(20)"
      ],
      "metadata": {
        "colab": {
          "base_uri": "https://localhost:8080/",
          "height": 676
        },
        "id": "Ptc-ZDLrikHf",
        "outputId": "d40459bc-a001-46a5-d4df-fd992b04363e"
      },
      "execution_count": 17,
      "outputs": [
        {
          "output_type": "execute_result",
          "data": {
            "text/plain": [
              "              Missing Ratio\n",
              "PoolQC               99.691\n",
              "MiscFeature          96.400\n",
              "Alley                93.212\n",
              "Fence                80.425\n",
              "FireplaceQu          48.680\n",
              "LotFrontage          16.661\n",
              "GarageFinish          5.451\n",
              "GarageQual            5.451\n",
              "GarageCond            5.451\n",
              "GarageYrBlt           5.451\n",
              "GarageType            5.382\n",
              "BsmtExposure          2.811\n",
              "BsmtCond              2.811\n",
              "BsmtQual              2.777\n",
              "BsmtFinType2          2.743\n",
              "BsmtFinType1          2.708\n",
              "MasVnrType            0.823\n",
              "MasVnrArea            0.788\n",
              "MSZoning              0.137\n",
              "BsmtFullBath          0.069"
            ],
            "text/html": [
              "\n",
              "  <div id=\"df-7ef9f3c6-c298-4268-8696-309db20e5b6a\">\n",
              "    <div class=\"colab-df-container\">\n",
              "      <div>\n",
              "<style scoped>\n",
              "    .dataframe tbody tr th:only-of-type {\n",
              "        vertical-align: middle;\n",
              "    }\n",
              "\n",
              "    .dataframe tbody tr th {\n",
              "        vertical-align: top;\n",
              "    }\n",
              "\n",
              "    .dataframe thead th {\n",
              "        text-align: right;\n",
              "    }\n",
              "</style>\n",
              "<table border=\"1\" class=\"dataframe\">\n",
              "  <thead>\n",
              "    <tr style=\"text-align: right;\">\n",
              "      <th></th>\n",
              "      <th>Missing Ratio</th>\n",
              "    </tr>\n",
              "  </thead>\n",
              "  <tbody>\n",
              "    <tr>\n",
              "      <th>PoolQC</th>\n",
              "      <td>99.691</td>\n",
              "    </tr>\n",
              "    <tr>\n",
              "      <th>MiscFeature</th>\n",
              "      <td>96.400</td>\n",
              "    </tr>\n",
              "    <tr>\n",
              "      <th>Alley</th>\n",
              "      <td>93.212</td>\n",
              "    </tr>\n",
              "    <tr>\n",
              "      <th>Fence</th>\n",
              "      <td>80.425</td>\n",
              "    </tr>\n",
              "    <tr>\n",
              "      <th>FireplaceQu</th>\n",
              "      <td>48.680</td>\n",
              "    </tr>\n",
              "    <tr>\n",
              "      <th>LotFrontage</th>\n",
              "      <td>16.661</td>\n",
              "    </tr>\n",
              "    <tr>\n",
              "      <th>GarageFinish</th>\n",
              "      <td>5.451</td>\n",
              "    </tr>\n",
              "    <tr>\n",
              "      <th>GarageQual</th>\n",
              "      <td>5.451</td>\n",
              "    </tr>\n",
              "    <tr>\n",
              "      <th>GarageCond</th>\n",
              "      <td>5.451</td>\n",
              "    </tr>\n",
              "    <tr>\n",
              "      <th>GarageYrBlt</th>\n",
              "      <td>5.451</td>\n",
              "    </tr>\n",
              "    <tr>\n",
              "      <th>GarageType</th>\n",
              "      <td>5.382</td>\n",
              "    </tr>\n",
              "    <tr>\n",
              "      <th>BsmtExposure</th>\n",
              "      <td>2.811</td>\n",
              "    </tr>\n",
              "    <tr>\n",
              "      <th>BsmtCond</th>\n",
              "      <td>2.811</td>\n",
              "    </tr>\n",
              "    <tr>\n",
              "      <th>BsmtQual</th>\n",
              "      <td>2.777</td>\n",
              "    </tr>\n",
              "    <tr>\n",
              "      <th>BsmtFinType2</th>\n",
              "      <td>2.743</td>\n",
              "    </tr>\n",
              "    <tr>\n",
              "      <th>BsmtFinType1</th>\n",
              "      <td>2.708</td>\n",
              "    </tr>\n",
              "    <tr>\n",
              "      <th>MasVnrType</th>\n",
              "      <td>0.823</td>\n",
              "    </tr>\n",
              "    <tr>\n",
              "      <th>MasVnrArea</th>\n",
              "      <td>0.788</td>\n",
              "    </tr>\n",
              "    <tr>\n",
              "      <th>MSZoning</th>\n",
              "      <td>0.137</td>\n",
              "    </tr>\n",
              "    <tr>\n",
              "      <th>BsmtFullBath</th>\n",
              "      <td>0.069</td>\n",
              "    </tr>\n",
              "  </tbody>\n",
              "</table>\n",
              "</div>\n",
              "      <button class=\"colab-df-convert\" onclick=\"convertToInteractive('df-7ef9f3c6-c298-4268-8696-309db20e5b6a')\"\n",
              "              title=\"Convert this dataframe to an interactive table.\"\n",
              "              style=\"display:none;\">\n",
              "        \n",
              "  <svg xmlns=\"http://www.w3.org/2000/svg\" height=\"24px\"viewBox=\"0 0 24 24\"\n",
              "       width=\"24px\">\n",
              "    <path d=\"M0 0h24v24H0V0z\" fill=\"none\"/>\n",
              "    <path d=\"M18.56 5.44l.94 2.06.94-2.06 2.06-.94-2.06-.94-.94-2.06-.94 2.06-2.06.94zm-11 1L8.5 8.5l.94-2.06 2.06-.94-2.06-.94L8.5 2.5l-.94 2.06-2.06.94zm10 10l.94 2.06.94-2.06 2.06-.94-2.06-.94-.94-2.06-.94 2.06-2.06.94z\"/><path d=\"M17.41 7.96l-1.37-1.37c-.4-.4-.92-.59-1.43-.59-.52 0-1.04.2-1.43.59L10.3 9.45l-7.72 7.72c-.78.78-.78 2.05 0 2.83L4 21.41c.39.39.9.59 1.41.59.51 0 1.02-.2 1.41-.59l7.78-7.78 2.81-2.81c.8-.78.8-2.07 0-2.86zM5.41 20L4 18.59l7.72-7.72 1.47 1.35L5.41 20z\"/>\n",
              "  </svg>\n",
              "      </button>\n",
              "      \n",
              "  <style>\n",
              "    .colab-df-container {\n",
              "      display:flex;\n",
              "      flex-wrap:wrap;\n",
              "      gap: 12px;\n",
              "    }\n",
              "\n",
              "    .colab-df-convert {\n",
              "      background-color: #E8F0FE;\n",
              "      border: none;\n",
              "      border-radius: 50%;\n",
              "      cursor: pointer;\n",
              "      display: none;\n",
              "      fill: #1967D2;\n",
              "      height: 32px;\n",
              "      padding: 0 0 0 0;\n",
              "      width: 32px;\n",
              "    }\n",
              "\n",
              "    .colab-df-convert:hover {\n",
              "      background-color: #E2EBFA;\n",
              "      box-shadow: 0px 1px 2px rgba(60, 64, 67, 0.3), 0px 1px 3px 1px rgba(60, 64, 67, 0.15);\n",
              "      fill: #174EA6;\n",
              "    }\n",
              "\n",
              "    [theme=dark] .colab-df-convert {\n",
              "      background-color: #3B4455;\n",
              "      fill: #D2E3FC;\n",
              "    }\n",
              "\n",
              "    [theme=dark] .colab-df-convert:hover {\n",
              "      background-color: #434B5C;\n",
              "      box-shadow: 0px 1px 3px 1px rgba(0, 0, 0, 0.15);\n",
              "      filter: drop-shadow(0px 1px 2px rgba(0, 0, 0, 0.3));\n",
              "      fill: #FFFFFF;\n",
              "    }\n",
              "  </style>\n",
              "\n",
              "      <script>\n",
              "        const buttonEl =\n",
              "          document.querySelector('#df-7ef9f3c6-c298-4268-8696-309db20e5b6a button.colab-df-convert');\n",
              "        buttonEl.style.display =\n",
              "          google.colab.kernel.accessAllowed ? 'block' : 'none';\n",
              "\n",
              "        async function convertToInteractive(key) {\n",
              "          const element = document.querySelector('#df-7ef9f3c6-c298-4268-8696-309db20e5b6a');\n",
              "          const dataTable =\n",
              "            await google.colab.kernel.invokeFunction('convertToInteractive',\n",
              "                                                     [key], {});\n",
              "          if (!dataTable) return;\n",
              "\n",
              "          const docLinkHtml = 'Like what you see? Visit the ' +\n",
              "            '<a target=\"_blank\" href=https://colab.research.google.com/notebooks/data_table.ipynb>data table notebook</a>'\n",
              "            + ' to learn more about interactive tables.';\n",
              "          element.innerHTML = '';\n",
              "          dataTable['output_type'] = 'display_data';\n",
              "          await google.colab.output.renderOutput(dataTable, element);\n",
              "          const docLink = document.createElement('div');\n",
              "          docLink.innerHTML = docLinkHtml;\n",
              "          element.appendChild(docLink);\n",
              "        }\n",
              "      </script>\n",
              "    </div>\n",
              "  </div>\n",
              "  "
            ]
          },
          "metadata": {},
          "execution_count": 17
        }
      ]
    },
    {
      "cell_type": "code",
      "source": [
        "f, ax = plt.subplots(figsize=(15,12))\n",
        "plt.xticks(rotation = '90')\n",
        "sns.barplot(x=all_data_na.index, y=all_data_na)\n",
        "plt.xlabel('Features', fontsize=15)\n",
        "plt.ylabel('Percent of missing values', fontsize=15)\n",
        "plt.title('Percent missing data by feature', fontsize=15)"
      ],
      "metadata": {
        "colab": {
          "base_uri": "https://localhost:8080/",
          "height": 817
        },
        "id": "4JDmNfvdikFR",
        "outputId": "21358bb8-a739-47de-98b2-65815a586d19"
      },
      "execution_count": 18,
      "outputs": [
        {
          "output_type": "execute_result",
          "data": {
            "text/plain": [
              "Text(0.5, 1.0, 'Percent missing data by feature')"
            ]
          },
          "metadata": {},
          "execution_count": 18
        },
        {
          "output_type": "display_data",
          "data": {
            "text/plain": [
              "<Figure size 1080x864 with 1 Axes>"
            ],
            "image/png": "[encoded data removed]"
          },
          "metadata": {}
        }
      ]
    },
    {
      "cell_type": "markdown",
      "source": [
        "- **Data Correlation**"
      ],
      "metadata": {
        "id": "JxD60xXbzsiW"
      }
    },
    {
      "cell_type": "code",
      "source": [
        "corrmat = train.corr()\n",
        "plt.subplots(figsize=(12,9))\n",
        "sns.heatmap(corrmat,vmax=0.9, square=True)"
      ],
      "metadata": {
        "colab": {
          "base_uri": "https://localhost:8080/",
          "height": 621
        },
        "id": "fbFXltehznsw",
        "outputId": "9dca5e00-dbb4-419d-8fd3-6b2943dbb5f8"
      },
      "execution_count": 19,
      "outputs": [
        {
          "output_type": "execute_result",
          "data": {
            "text/plain": [
              "<matplotlib.axes._subplots.AxesSubplot at 0x7f1abf2672d0>"
            ]
          },
          "metadata": {},
          "execution_count": 19
        },
        {
          "output_type": "display_data",
          "data": {
            "text/plain": [
              "<Figure size 864x648 with 2 Axes>"
            ],
            "image/png": "[encoded data removed]"
          },
          "metadata": {}
        }
      ]
    },
    {
      "cell_type": "markdown",
      "source": [
        "- **missing values**\n",
        "      1. PoolQC : data description says NA means \"No Pool\". That make sense, given the huge ratio of missing value (+99%) and majority of houses have no Pool at all in general.\n",
        "      2. MiscFeature : data description says NA means \"no misc feature\"\n",
        "      3. Alley : data description says NA means \"no alley access\"\n",
        "      4. Fence : data description says NA means \"no fence\"\n",
        "      5. FireplaceQu : data description says NA means \"no fireplace\"\n",
        "      6.LotFrontage : Since the area of each street connected to the house property most likely have a similar area to other houses in its neighborhood , we can fill in missing values by the median LotFrontage of the neighborhood.\n",
        "      7. GarageType, GarageFinish, GarageQual and GarageCond : Replacing missing data with None\n",
        "      8. BsmtFinSF1, BsmtFinSF2, BsmtUnfSF, TotalBsmtSF, BsmtFullBath and BsmtHalfBath : missing values are likely zero for having no basement\n",
        "      9. BsmtQual, BsmtCond, BsmtExposure, BsmtFinType1 and BsmtFinType2 : For all these categorical basement-related features, NaN means that there is no basement.\n",
        "      10. MasVnrArea and MasVnrType : NA most likely means no masonry veneer for these houses. We can fill 0 for the area and None for the type.\n",
        "      11. MSZoning (The general zoning classification) : 'RL' is by far the most common value. So we can fill in missing values with 'RL'\n",
        "      12. Utilities : For this categorical feature all records are \"AllPub\", except for one \"NoSeWa\" and 2 NA . Since the house with 'NoSewa' is in the training set, this feature won't help in predictive modelling. We can then safely remove it.\n",
        "      13. Functional : data description says NA means typical\n",
        "      14. Electrical : It has one NA value. Since this feature has mostly 'SBrkr', we can set that for the missing value.\n",
        "      15. KitchenQual: Only one NA value, and same as Electrical, we set 'TA' (which is the most frequent) for the missing value in KitchenQual.\n",
        "      16. Exterior1st and Exterior2nd : Again Both Exterior 1 & 2 have only one missing value. We will just substitute in the most common string\n",
        "      17. SaleType : Fill in again with most frequent which is \"WD\"\n",
        "      18. MSSubClass : Na most likely means No building class. We can replace missing values with None\n"
      ],
      "metadata": {
        "id": "XnAHLzx4-oFv"
      }
    },
    {
      "cell_type": "code",
      "source": [
        "all_data['PoolQC'] = all_data['PoolQC'].fillna('None')\n",
        "all_data['MiscFeature'] = all_data['MiscFeature'].fillna('None')\n",
        "all_data['Alley'] = all_data['Alley'].fillna('None')\n",
        "all_data['Fence'] = all_data['Fence'].fillna('None')\n",
        "all_data['FireplaceQu'] = all_data['FireplaceQu'].fillna('None')"
      ],
      "metadata": {
        "id": "u6prkNiDznqA"
      },
      "execution_count": 20,
      "outputs": []
    },
    {
      "cell_type": "code",
      "source": [
        "all_data['LotFrontage'] = all_data.groupby('Neighborhood')['LotFrontage'].transform(lambda x: x.fillna(x.median()))\n",
        "\n",
        "for col in ('GarageType', 'GarageFinish', 'GarageQual', 'GarageCond'):\n",
        "    all_data[col] = all_data[col].fillna('None')\n",
        "for col in ('GarageYrBlt', 'GarageArea', 'GarageCars'):\n",
        "    all_data[col] = all_data[col].fillna(0)\n",
        "for col in ('BsmtFinSF1', 'BsmtFinSF2', 'BsmtUnfSF','TotalBsmtSF', 'BsmtFullBath', 'BsmtHalfBath'):\n",
        "    all_data[col] = all_data[col].fillna(0)\n",
        "for col in ('BsmtQual', 'BsmtCond', 'BsmtExposure', 'BsmtFinType1', 'BsmtFinType2'):\n",
        "    all_data[col] = all_data[col].fillna('None')"
      ],
      "metadata": {
        "id": "myuYQ9EP4mTN"
      },
      "execution_count": 21,
      "outputs": []
    },
    {
      "cell_type": "code",
      "source": [
        "all_data['MasVnrType'] = all_data['MasVnrType'].fillna('None')\n",
        "all_data['MasVnrArea'] = all_data['MasVnrArea'].fillna('0')\n",
        "\n",
        "all_data['MSZoning'] = all_data['MSZoning'].fillna(all_data['MSZoning'].mode()[0])"
      ],
      "metadata": {
        "id": "DmFdIvgJ4mPk"
      },
      "execution_count": 22,
      "outputs": []
    },
    {
      "cell_type": "code",
      "source": [
        "all_data = all_data.drop(['Utilities'], axis=1)"
      ],
      "metadata": {
        "id": "inAhGiCx4sm6"
      },
      "execution_count": 23,
      "outputs": []
    },
    {
      "cell_type": "code",
      "source": [
        "all_data['Functional'] = all_data['Functional'].fillna('Typ')\n",
        "\n",
        "all_data['Electrical'] = all_data['Electrical'].fillna(all_data['Electrical'].mode()[0])\n",
        "all_data['KitchenQual'] = all_data['KitchenQual'].fillna(all_data['KitchenQual'].mode()[0])\n",
        "all_data['Exterior1st'] = all_data['Exterior1st'].fillna(all_data['Exterior1st'].mode()[0])\n",
        "all_data['Exterior2nd'] = all_data['Exterior2nd'].fillna(all_data['Exterior2nd'].mode()[0])\n",
        "all_data['SaleType'] = all_data['SaleType'].fillna(all_data['SaleType'].mode()[0])\n",
        "\n",
        "all_data['MSSubClass'] = all_data['MSSubClass'].fillna('None')"
      ],
      "metadata": {
        "id": "6od-jDKp4sfp"
      },
      "execution_count": 24,
      "outputs": []
    },
    {
      "cell_type": "markdown",
      "source": [
        "- **missing value 남아있는지 확인하기**"
      ],
      "metadata": {
        "id": "Hy9VabnSSLOi"
      }
    },
    {
      "cell_type": "code",
      "source": [
        "all_data_na = (all_data.isnull().sum() / len(all_data)) *100\n",
        "all_data_na = all_data_na.drop(all_data_na[all_data_na==0].index).sort_values(ascending=False)\n",
        "missing_data = pd.DataFrame({'Missing Ratio': all_data_na})\n",
        "missing_data.head()"
      ],
      "metadata": {
        "id": "6Q48sP6tznnx",
        "colab": {
          "base_uri": "https://localhost:8080/",
          "height": 49
        },
        "outputId": "0adcc039-a37e-4392-cddb-46d9f3064dd1"
      },
      "execution_count": 25,
      "outputs": [
        {
          "output_type": "execute_result",
          "data": {
            "text/plain": [
              "Empty DataFrame\n",
              "Columns: [Missing Ratio]\n",
              "Index: []"
            ],
            "text/html": [
              "\n",
              "  <div id=\"df-e1037afc-6ed8-4697-ba5a-c26fb1bb854a\">\n",
              "    <div class=\"colab-df-container\">\n",
              "      <div>\n",
              "<style scoped>\n",
              "    .dataframe tbody tr th:only-of-type {\n",
              "        vertical-align: middle;\n",
              "    }\n",
              "\n",
              "    .dataframe tbody tr th {\n",
              "        vertical-align: top;\n",
              "    }\n",
              "\n",
              "    .dataframe thead th {\n",
              "        text-align: right;\n",
              "    }\n",
              "</style>\n",
              "<table border=\"1\" class=\"dataframe\">\n",
              "  <thead>\n",
              "    <tr style=\"text-align: right;\">\n",
              "      <th></th>\n",
              "      <th>Missing Ratio</th>\n",
              "    </tr>\n",
              "  </thead>\n",
              "  <tbody>\n",
              "  </tbody>\n",
              "</table>\n",
              "</div>\n",
              "      <button class=\"colab-df-convert\" onclick=\"convertToInteractive('df-e1037afc-6ed8-4697-ba5a-c26fb1bb854a')\"\n",
              "              title=\"Convert this dataframe to an interactive table.\"\n",
              "              style=\"display:none;\">\n",
              "        \n",
              "  <svg xmlns=\"http://www.w3.org/2000/svg\" height=\"24px\"viewBox=\"0 0 24 24\"\n",
              "       width=\"24px\">\n",
              "    <path d=\"M0 0h24v24H0V0z\" fill=\"none\"/>\n",
              "    <path d=\"M18.56 5.44l.94 2.06.94-2.06 2.06-.94-2.06-.94-.94-2.06-.94 2.06-2.06.94zm-11 1L8.5 8.5l.94-2.06 2.06-.94-2.06-.94L8.5 2.5l-.94 2.06-2.06.94zm10 10l.94 2.06.94-2.06 2.06-.94-2.06-.94-.94-2.06-.94 2.06-2.06.94z\"/><path d=\"M17.41 7.96l-1.37-1.37c-.4-.4-.92-.59-1.43-.59-.52 0-1.04.2-1.43.59L10.3 9.45l-7.72 7.72c-.78.78-.78 2.05 0 2.83L4 21.41c.39.39.9.59 1.41.59.51 0 1.02-.2 1.41-.59l7.78-7.78 2.81-2.81c.8-.78.8-2.07 0-2.86zM5.41 20L4 18.59l7.72-7.72 1.47 1.35L5.41 20z\"/>\n",
              "  </svg>\n",
              "      </button>\n",
              "      \n",
              "  <style>\n",
              "    .colab-df-container {\n",
              "      display:flex;\n",
              "      flex-wrap:wrap;\n",
              "      gap: 12px;\n",
              "    }\n",
              "\n",
              "    .colab-df-convert {\n",
              "      background-color: #E8F0FE;\n",
              "      border: none;\n",
              "      border-radius: 50%;\n",
              "      cursor: pointer;\n",
              "      display: none;\n",
              "      fill: #1967D2;\n",
              "      height: 32px;\n",
              "      padding: 0 0 0 0;\n",
              "      width: 32px;\n",
              "    }\n",
              "\n",
              "    .colab-df-convert:hover {\n",
              "      background-color: #E2EBFA;\n",
              "      box-shadow: 0px 1px 2px rgba(60, 64, 67, 0.3), 0px 1px 3px 1px rgba(60, 64, 67, 0.15);\n",
              "      fill: #174EA6;\n",
              "    }\n",
              "\n",
              "    [theme=dark] .colab-df-convert {\n",
              "      background-color: #3B4455;\n",
              "      fill: #D2E3FC;\n",
              "    }\n",
              "\n",
              "    [theme=dark] .colab-df-convert:hover {\n",
              "      background-color: #434B5C;\n",
              "      box-shadow: 0px 1px 3px 1px rgba(0, 0, 0, 0.15);\n",
              "      filter: drop-shadow(0px 1px 2px rgba(0, 0, 0, 0.3));\n",
              "      fill: #FFFFFF;\n",
              "    }\n",
              "  </style>\n",
              "\n",
              "      <script>\n",
              "        const buttonEl =\n",
              "          document.querySelector('#df-e1037afc-6ed8-4697-ba5a-c26fb1bb854a button.colab-df-convert');\n",
              "        buttonEl.style.display =\n",
              "          google.colab.kernel.accessAllowed ? 'block' : 'none';\n",
              "\n",
              "        async function convertToInteractive(key) {\n",
              "          const element = document.querySelector('#df-e1037afc-6ed8-4697-ba5a-c26fb1bb854a');\n",
              "          const dataTable =\n",
              "            await google.colab.kernel.invokeFunction('convertToInteractive',\n",
              "                                                     [key], {});\n",
              "          if (!dataTable) return;\n",
              "\n",
              "          const docLinkHtml = 'Like what you see? Visit the ' +\n",
              "            '<a target=\"_blank\" href=https://colab.research.google.com/notebooks/data_table.ipynb>data table notebook</a>'\n",
              "            + ' to learn more about interactive tables.';\n",
              "          element.innerHTML = '';\n",
              "          dataTable['output_type'] = 'display_data';\n",
              "          await google.colab.output.renderOutput(dataTable, element);\n",
              "          const docLink = document.createElement('div');\n",
              "          docLink.innerHTML = docLinkHtml;\n",
              "          element.appendChild(docLink);\n",
              "        }\n",
              "      </script>\n",
              "    </div>\n",
              "  </div>\n",
              "  "
            ]
          },
          "metadata": {},
          "execution_count": 25
        }
      ]
    },
    {
      "cell_type": "markdown",
      "source": [
        "- **결과:** missing value는 없다"
      ],
      "metadata": {
        "id": "l7eVsxT6S1OB"
      }
    },
    {
      "cell_type": "markdown",
      "source": [
        "#### **6) More Features Engineering**"
      ],
      "metadata": {
        "id": "uQWVasKDTwYs"
      }
    },
    {
      "cell_type": "markdown",
      "source": [
        "- **categorical 변수를 numerical 변수로 변환하기**"
      ],
      "metadata": {
        "id": "4vGKi6cET5uA"
      }
    },
    {
      "cell_type": "code",
      "source": [
        "all_data['MSSubClass'] = all_data['MSSubClass'].apply(str)\n",
        "all_data['OverallCond'] = all_data['OverallCond'].astype(str)\n",
        "all_data['YrSold'] = all_data['YrSold'].astype(str)\n",
        "all_data['MoSold'] = all_data['MoSold'].astype(str)"
      ],
      "metadata": {
        "id": "F4Bb4XkRznlc"
      },
      "execution_count": 26,
      "outputs": []
    },
    {
      "cell_type": "code",
      "source": [
        "all_data[['MSSubClass', 'OverallCond','YrSold','MoSold']].head()"
      ],
      "metadata": {
        "colab": {
          "base_uri": "https://localhost:8080/",
          "height": 206
        },
        "id": "aAUj7drg3wYf",
        "outputId": "d74a874c-aedc-442b-c3ab-f7bf34d0fb55"
      },
      "execution_count": 28,
      "outputs": [
        {
          "output_type": "execute_result",
          "data": {
            "text/plain": [
              "  MSSubClass OverallCond YrSold MoSold\n",
              "0         60           5   2008      2\n",
              "1         20           8   2007      5\n",
              "2         60           5   2008      9\n",
              "3         70           5   2006      2\n",
              "4         60           5   2008     12"
            ],
            "text/html": [
              "\n",
              "  <div id=\"df-59d7e002-42e9-47cc-9cdf-ceb6a634ebb2\">\n",
              "    <div class=\"colab-df-container\">\n",
              "      <div>\n",
              "<style scoped>\n",
              "    .dataframe tbody tr th:only-of-type {\n",
              "        vertical-align: middle;\n",
              "    }\n",
              "\n",
              "    .dataframe tbody tr th {\n",
              "        vertical-align: top;\n",
              "    }\n",
              "\n",
              "    .dataframe thead th {\n",
              "        text-align: right;\n",
              "    }\n",
              "</style>\n",
              "<table border=\"1\" class=\"dataframe\">\n",
              "  <thead>\n",
              "    <tr style=\"text-align: right;\">\n",
              "      <th></th>\n",
              "      <th>MSSubClass</th>\n",
              "      <th>OverallCond</th>\n",
              "      <th>YrSold</th>\n",
              "      <th>MoSold</th>\n",
              "    </tr>\n",
              "  </thead>\n",
              "  <tbody>\n",
              "    <tr>\n",
              "      <th>0</th>\n",
              "      <td>60</td>\n",
              "      <td>5</td>\n",
              "      <td>2008</td>\n",
              "      <td>2</td>\n",
              "    </tr>\n",
              "    <tr>\n",
              "      <th>1</th>\n",
              "      <td>20</td>\n",
              "      <td>8</td>\n",
              "      <td>2007</td>\n",
              "      <td>5</td>\n",
              "    </tr>\n",
              "    <tr>\n",
              "      <th>2</th>\n",
              "      <td>60</td>\n",
              "      <td>5</td>\n",
              "      <td>2008</td>\n",
              "      <td>9</td>\n",
              "    </tr>\n",
              "    <tr>\n",
              "      <th>3</th>\n",
              "      <td>70</td>\n",
              "      <td>5</td>\n",
              "      <td>2006</td>\n",
              "      <td>2</td>\n",
              "    </tr>\n",
              "    <tr>\n",
              "      <th>4</th>\n",
              "      <td>60</td>\n",
              "      <td>5</td>\n",
              "      <td>2008</td>\n",
              "      <td>12</td>\n",
              "    </tr>\n",
              "  </tbody>\n",
              "</table>\n",
              "</div>\n",
              "      <button class=\"colab-df-convert\" onclick=\"convertToInteractive('df-59d7e002-42e9-47cc-9cdf-ceb6a634ebb2')\"\n",
              "              title=\"Convert this dataframe to an interactive table.\"\n",
              "              style=\"display:none;\">\n",
              "        \n",
              "  <svg xmlns=\"http://www.w3.org/2000/svg\" height=\"24px\"viewBox=\"0 0 24 24\"\n",
              "       width=\"24px\">\n",
              "    <path d=\"M0 0h24v24H0V0z\" fill=\"none\"/>\n",
              "    <path d=\"M18.56 5.44l.94 2.06.94-2.06 2.06-.94-2.06-.94-.94-2.06-.94 2.06-2.06.94zm-11 1L8.5 8.5l.94-2.06 2.06-.94-2.06-.94L8.5 2.5l-.94 2.06-2.06.94zm10 10l.94 2.06.94-2.06 2.06-.94-2.06-.94-.94-2.06-.94 2.06-2.06.94z\"/><path d=\"M17.41 7.96l-1.37-1.37c-.4-.4-.92-.59-1.43-.59-.52 0-1.04.2-1.43.59L10.3 9.45l-7.72 7.72c-.78.78-.78 2.05 0 2.83L4 21.41c.39.39.9.59 1.41.59.51 0 1.02-.2 1.41-.59l7.78-7.78 2.81-2.81c.8-.78.8-2.07 0-2.86zM5.41 20L4 18.59l7.72-7.72 1.47 1.35L5.41 20z\"/>\n",
              "  </svg>\n",
              "      </button>\n",
              "      \n",
              "  <style>\n",
              "    .colab-df-container {\n",
              "      display:flex;\n",
              "      flex-wrap:wrap;\n",
              "      gap: 12px;\n",
              "    }\n",
              "\n",
              "    .colab-df-convert {\n",
              "      background-color: #E8F0FE;\n",
              "      border: none;\n",
              "      border-radius: 50%;\n",
              "      cursor: pointer;\n",
              "      display: none;\n",
              "      fill: #1967D2;\n",
              "      height: 32px;\n",
              "      padding: 0 0 0 0;\n",
              "      width: 32px;\n",
              "    }\n",
              "\n",
              "    .colab-df-convert:hover {\n",
              "      background-color: #E2EBFA;\n",
              "      box-shadow: 0px 1px 2px rgba(60, 64, 67, 0.3), 0px 1px 3px 1px rgba(60, 64, 67, 0.15);\n",
              "      fill: #174EA6;\n",
              "    }\n",
              "\n",
              "    [theme=dark] .colab-df-convert {\n",
              "      background-color: #3B4455;\n",
              "      fill: #D2E3FC;\n",
              "    }\n",
              "\n",
              "    [theme=dark] .colab-df-convert:hover {\n",
              "      background-color: #434B5C;\n",
              "      box-shadow: 0px 1px 3px 1px rgba(0, 0, 0, 0.15);\n",
              "      filter: drop-shadow(0px 1px 2px rgba(0, 0, 0, 0.3));\n",
              "      fill: #FFFFFF;\n",
              "    }\n",
              "  </style>\n",
              "\n",
              "      <script>\n",
              "        const buttonEl =\n",
              "          document.querySelector('#df-59d7e002-42e9-47cc-9cdf-ceb6a634ebb2 button.colab-df-convert');\n",
              "        buttonEl.style.display =\n",
              "          google.colab.kernel.accessAllowed ? 'block' : 'none';\n",
              "\n",
              "        async function convertToInteractive(key) {\n",
              "          const element = document.querySelector('#df-59d7e002-42e9-47cc-9cdf-ceb6a634ebb2');\n",
              "          const dataTable =\n",
              "            await google.colab.kernel.invokeFunction('convertToInteractive',\n",
              "                                                     [key], {});\n",
              "          if (!dataTable) return;\n",
              "\n",
              "          const docLinkHtml = 'Like what you see? Visit the ' +\n",
              "            '<a target=\"_blank\" href=https://colab.research.google.com/notebooks/data_table.ipynb>data table notebook</a>'\n",
              "            + ' to learn more about interactive tables.';\n",
              "          element.innerHTML = '';\n",
              "          dataTable['output_type'] = 'display_data';\n",
              "          await google.colab.output.renderOutput(dataTable, element);\n",
              "          const docLink = document.createElement('div');\n",
              "          docLink.innerHTML = docLinkHtml;\n",
              "          element.appendChild(docLink);\n",
              "        }\n",
              "      </script>\n",
              "    </div>\n",
              "  </div>\n",
              "  "
            ]
          },
          "metadata": {},
          "execution_count": 28
        }
      ]
    },
    {
      "cell_type": "markdown",
      "source": [
        "- **Label Encoding(categorical variables that contain ordering info)**"
      ],
      "metadata": {
        "id": "8BFdS_FOVB5t"
      }
    },
    {
      "cell_type": "code",
      "source": [
        "from sklearn.preprocessing import LabelEncoder\n",
        "\n",
        "cols = ('FireplaceQu', 'BsmtQual', 'BsmtCond', 'GarageQual', 'GarageCond', \n",
        "        'ExterQual', 'ExterCond','HeatingQC', 'PoolQC', 'KitchenQual', \n",
        "        'BsmtFinType1', 'BsmtFinType2', 'Functional', 'Fence', 'BsmtExposure', \n",
        "        'GarageFinish', 'LandSlope', 'LotShape', 'PavedDrive', 'Street', \n",
        "        'Alley', 'CentralAir', 'MSSubClass', 'OverallCond', 'YrSold', 'MoSold')\n",
        "\n",
        "# process columns, apply LabelEncoder to categorical features\n",
        "for c in cols:\n",
        "    lbl = LabelEncoder() \n",
        "    lbl.fit(list(all_data[c].values)) \n",
        "    all_data[c] = lbl.transform(list(all_data[c].values))\n",
        "\n",
        "# shape        \n",
        "print('Shape all_data: {}'.format(all_data.shape))"
      ],
      "metadata": {
        "id": "w4F8ABfWwAws",
        "colab": {
          "base_uri": "https://localhost:8080/"
        },
        "outputId": "9f248486-b49b-4f65-c83a-8ddb1f3acc81"
      },
      "execution_count": 29,
      "outputs": [
        {
          "output_type": "stream",
          "name": "stdout",
          "text": [
            "Shape all_data: (2917, 78)\n"
          ]
        }
      ]
    },
    {
      "cell_type": "markdown",
      "source": [
        "- **Add important feature**"
      ],
      "metadata": {
        "id": "Tq7IlsZ-WSwO"
      }
    },
    {
      "cell_type": "code",
      "source": [
        "all_data['TotalSF'] = all_data['TotalBsmtSF'] + all_data['1stFlrSF'] + all_data['2ndFlrSF']"
      ],
      "metadata": {
        "id": "_pVWvxl9WYht"
      },
      "execution_count": 30,
      "outputs": []
    },
    {
      "cell_type": "markdown",
      "source": [
        "- **Skewed features**"
      ],
      "metadata": {
        "id": "gOH3sNH4Ww30"
      }
    },
    {
      "cell_type": "code",
      "source": [
        "numeric_feats = all_data.dtypes[all_data.dtypes != \"object\"].index\n",
        "\n",
        "# numerical features의 skew 정도를 확인하기\n",
        "skewed_feats = all_data[numeric_feats].apply(lambda x: skew(x.dropna())).sort_values(ascending=False)\n",
        "print('\\n Skew in numerical features: \\n')\n",
        "skewness = pd.DataFrame({'Skew': skewed_feats})\n",
        "skewness.head(10)"
      ],
      "metadata": {
        "colab": {
          "base_uri": "https://localhost:8080/",
          "height": 418
        },
        "id": "WnfmEUsbWY16",
        "outputId": "365edb3b-7d47-4d23-bcbf-82fa7fc0a651"
      },
      "execution_count": 31,
      "outputs": [
        {
          "output_type": "stream",
          "name": "stdout",
          "text": [
            "\n",
            " Skew in numerical features: \n",
            "\n"
          ]
        },
        {
          "output_type": "execute_result",
          "data": {
            "text/plain": [
              "                Skew\n",
              "MiscVal       21.940\n",
              "PoolArea      17.689\n",
              "LotArea       13.109\n",
              "LowQualFinSF  12.085\n",
              "3SsnPorch     11.372\n",
              "LandSlope      4.973\n",
              "KitchenAbvGr   4.301\n",
              "BsmtFinSF2     4.145\n",
              "EnclosedPorch  4.002\n",
              "ScreenPorch    3.945"
            ],
            "text/html": [
              "\n",
              "  <div id=\"df-4f7dc4ba-6d7e-4685-a51a-ad4d6d1be34d\">\n",
              "    <div class=\"colab-df-container\">\n",
              "      <div>\n",
              "<style scoped>\n",
              "    .dataframe tbody tr th:only-of-type {\n",
              "        vertical-align: middle;\n",
              "    }\n",
              "\n",
              "    .dataframe tbody tr th {\n",
              "        vertical-align: top;\n",
              "    }\n",
              "\n",
              "    .dataframe thead th {\n",
              "        text-align: right;\n",
              "    }\n",
              "</style>\n",
              "<table border=\"1\" class=\"dataframe\">\n",
              "  <thead>\n",
              "    <tr style=\"text-align: right;\">\n",
              "      <th></th>\n",
              "      <th>Skew</th>\n",
              "    </tr>\n",
              "  </thead>\n",
              "  <tbody>\n",
              "    <tr>\n",
              "      <th>MiscVal</th>\n",
              "      <td>21.940</td>\n",
              "    </tr>\n",
              "    <tr>\n",
              "      <th>PoolArea</th>\n",
              "      <td>17.689</td>\n",
              "    </tr>\n",
              "    <tr>\n",
              "      <th>LotArea</th>\n",
              "      <td>13.109</td>\n",
              "    </tr>\n",
              "    <tr>\n",
              "      <th>LowQualFinSF</th>\n",
              "      <td>12.085</td>\n",
              "    </tr>\n",
              "    <tr>\n",
              "      <th>3SsnPorch</th>\n",
              "      <td>11.372</td>\n",
              "    </tr>\n",
              "    <tr>\n",
              "      <th>LandSlope</th>\n",
              "      <td>4.973</td>\n",
              "    </tr>\n",
              "    <tr>\n",
              "      <th>KitchenAbvGr</th>\n",
              "      <td>4.301</td>\n",
              "    </tr>\n",
              "    <tr>\n",
              "      <th>BsmtFinSF2</th>\n",
              "      <td>4.145</td>\n",
              "    </tr>\n",
              "    <tr>\n",
              "      <th>EnclosedPorch</th>\n",
              "      <td>4.002</td>\n",
              "    </tr>\n",
              "    <tr>\n",
              "      <th>ScreenPorch</th>\n",
              "      <td>3.945</td>\n",
              "    </tr>\n",
              "  </tbody>\n",
              "</table>\n",
              "</div>\n",
              "      <button class=\"colab-df-convert\" onclick=\"convertToInteractive('df-4f7dc4ba-6d7e-4685-a51a-ad4d6d1be34d')\"\n",
              "              title=\"Convert this dataframe to an interactive table.\"\n",
              "              style=\"display:none;\">\n",
              "        \n",
              "  <svg xmlns=\"http://www.w3.org/2000/svg\" height=\"24px\"viewBox=\"0 0 24 24\"\n",
              "       width=\"24px\">\n",
              "    <path d=\"M0 0h24v24H0V0z\" fill=\"none\"/>\n",
              "    <path d=\"M18.56 5.44l.94 2.06.94-2.06 2.06-.94-2.06-.94-.94-2.06-.94 2.06-2.06.94zm-11 1L8.5 8.5l.94-2.06 2.06-.94-2.06-.94L8.5 2.5l-.94 2.06-2.06.94zm10 10l.94 2.06.94-2.06 2.06-.94-2.06-.94-.94-2.06-.94 2.06-2.06.94z\"/><path d=\"M17.41 7.96l-1.37-1.37c-.4-.4-.92-.59-1.43-.59-.52 0-1.04.2-1.43.59L10.3 9.45l-7.72 7.72c-.78.78-.78 2.05 0 2.83L4 21.41c.39.39.9.59 1.41.59.51 0 1.02-.2 1.41-.59l7.78-7.78 2.81-2.81c.8-.78.8-2.07 0-2.86zM5.41 20L4 18.59l7.72-7.72 1.47 1.35L5.41 20z\"/>\n",
              "  </svg>\n",
              "      </button>\n",
              "      \n",
              "  <style>\n",
              "    .colab-df-container {\n",
              "      display:flex;\n",
              "      flex-wrap:wrap;\n",
              "      gap: 12px;\n",
              "    }\n",
              "\n",
              "    .colab-df-convert {\n",
              "      background-color: #E8F0FE;\n",
              "      border: none;\n",
              "      border-radius: 50%;\n",
              "      cursor: pointer;\n",
              "      display: none;\n",
              "      fill: #1967D2;\n",
              "      height: 32px;\n",
              "      padding: 0 0 0 0;\n",
              "      width: 32px;\n",
              "    }\n",
              "\n",
              "    .colab-df-convert:hover {\n",
              "      background-color: #E2EBFA;\n",
              "      box-shadow: 0px 1px 2px rgba(60, 64, 67, 0.3), 0px 1px 3px 1px rgba(60, 64, 67, 0.15);\n",
              "      fill: #174EA6;\n",
              "    }\n",
              "\n",
              "    [theme=dark] .colab-df-convert {\n",
              "      background-color: #3B4455;\n",
              "      fill: #D2E3FC;\n",
              "    }\n",
              "\n",
              "    [theme=dark] .colab-df-convert:hover {\n",
              "      background-color: #434B5C;\n",
              "      box-shadow: 0px 1px 3px 1px rgba(0, 0, 0, 0.15);\n",
              "      filter: drop-shadow(0px 1px 2px rgba(0, 0, 0, 0.3));\n",
              "      fill: #FFFFFF;\n",
              "    }\n",
              "  </style>\n",
              "\n",
              "      <script>\n",
              "        const buttonEl =\n",
              "          document.querySelector('#df-4f7dc4ba-6d7e-4685-a51a-ad4d6d1be34d button.colab-df-convert');\n",
              "        buttonEl.style.display =\n",
              "          google.colab.kernel.accessAllowed ? 'block' : 'none';\n",
              "\n",
              "        async function convertToInteractive(key) {\n",
              "          const element = document.querySelector('#df-4f7dc4ba-6d7e-4685-a51a-ad4d6d1be34d');\n",
              "          const dataTable =\n",
              "            await google.colab.kernel.invokeFunction('convertToInteractive',\n",
              "                                                     [key], {});\n",
              "          if (!dataTable) return;\n",
              "\n",
              "          const docLinkHtml = 'Like what you see? Visit the ' +\n",
              "            '<a target=\"_blank\" href=https://colab.research.google.com/notebooks/data_table.ipynb>data table notebook</a>'\n",
              "            + ' to learn more about interactive tables.';\n",
              "          element.innerHTML = '';\n",
              "          dataTable['output_type'] = 'display_data';\n",
              "          await google.colab.output.renderOutput(dataTable, element);\n",
              "          const docLink = document.createElement('div');\n",
              "          docLink.innerHTML = docLinkHtml;\n",
              "          element.appendChild(docLink);\n",
              "        }\n",
              "      </script>\n",
              "    </div>\n",
              "  </div>\n",
              "  "
            ]
          },
          "metadata": {},
          "execution_count": 31
        }
      ]
    },
    {
      "cell_type": "markdown",
      "source": [
        "- **Box Cox Transformation of skewed features**"
      ],
      "metadata": {
        "id": "VFOoWTwCZqP0"
      }
    },
    {
      "cell_type": "code",
      "source": [
        "skewness = skewness[abs(skewness) > 0.75]\n",
        "print(\"There are {} skewed numerical features to Box Cox transform\".format(skewness.shape[0]))\n",
        "\n",
        "from scipy.special import boxcox1p\n",
        "skewed_features = skewness.index\n",
        "lam = 0.15\n",
        "for feat in skewed_features:\n",
        "    #all_data[feat] += 1\n",
        "    all_data[feat] = boxcox1p(all_data[feat], lam)\n",
        "\n",
        "## kaggle 결과와 다름 (59)"
      ],
      "metadata": {
        "colab": {
          "base_uri": "https://localhost:8080/"
        },
        "id": "2gMlSOXdWYzm",
        "outputId": "e3335528-8f7d-43d6-9f6f-115e288a0d40"
      },
      "execution_count": 32,
      "outputs": [
        {
          "output_type": "stream",
          "name": "stdout",
          "text": [
            "There are 58 skewed numerical features to Box Cox transform\n"
          ]
        }
      ]
    },
    {
      "cell_type": "markdown",
      "source": [
        "- **Getting dummy categorical features**"
      ],
      "metadata": {
        "id": "9GaSXGFxmtns"
      }
    },
    {
      "cell_type": "code",
      "source": [
        "all_data = pd.get_dummies(all_data)\n",
        "print(all_data.shape)\n",
        "\n",
        "## kaggle 결과와 다름(220)"
      ],
      "metadata": {
        "colab": {
          "base_uri": "https://localhost:8080/"
        },
        "id": "awiXjtFQWYxT",
        "outputId": "aced96fc-5d6d-45a7-e70d-d08701e6b1fe"
      },
      "execution_count": 33,
      "outputs": [
        {
          "output_type": "stream",
          "name": "stdout",
          "text": [
            "(2917, 662)\n"
          ]
        }
      ]
    },
    {
      "cell_type": "code",
      "source": [
        "train = all_data[:ntrain]\n",
        "test = all_data[ntrain:]"
      ],
      "metadata": {
        "id": "luXxkuclWYu7"
      },
      "execution_count": 34,
      "outputs": []
    },
    {
      "cell_type": "markdown",
      "source": [
        "### **4. Modelling**\n",
        "---"
      ],
      "metadata": {
        "id": "K640f0txtWbD"
      }
    },
    {
      "cell_type": "markdown",
      "source": [
        "#### **1) 필요한 라이브러리 불러오기**"
      ],
      "metadata": {
        "id": "mXZOKvb_uPoz"
      }
    },
    {
      "cell_type": "code",
      "source": [
        "from sklearn.linear_model import ElasticNet, Lasso, BayesianRidge, LassoLarsIC\n",
        "from sklearn.ensemble import RandomForestRegressor, GradientBoostingRegressor\n",
        "from sklearn.kernel_ridge import KernelRidge\n",
        "from sklearn.pipeline import make_pipeline\n",
        "from sklearn.preprocessing import RobustScaler\n",
        "from sklearn.base import BaseEstimator, TransformerMixin, RegressorMixin, clone\n",
        "from sklearn.model_selection import KFold, cross_val_score, train_test_split\n",
        "from sklearn.metrics import mean_squared_error\n",
        "import xgboost as xgb\n",
        "import lightgbm as lgb"
      ],
      "metadata": {
        "id": "I82Org8bWYsr"
      },
      "execution_count": 35,
      "outputs": []
    },
    {
      "cell_type": "markdown",
      "source": [
        "#### **2) cross validation**"
      ],
      "metadata": {
        "id": "fV8LXZ29uY53"
      }
    },
    {
      "cell_type": "code",
      "source": [
        "n_folds = 5\n",
        "\n",
        "def rmsle_cv(model):\n",
        "  kf = KFold(n_folds, shuffle=True, random_state=42).get_n_splits(train.values)\n",
        "  rmse = np.sqrt(-cross_val_score(model,train.values,y_train,scoring='neg_mean_squared_error',cv=kf))\n",
        "  return (rmse)"
      ],
      "metadata": {
        "id": "qLXuwkJAub78"
      },
      "execution_count": 36,
      "outputs": []
    },
    {
      "cell_type": "markdown",
      "source": [
        "#### **3) base models**"
      ],
      "metadata": {
        "id": "sLXs5bxDuyhn"
      }
    },
    {
      "cell_type": "markdown",
      "source": [
        "- **Lasso Regression**"
      ],
      "metadata": {
        "id": "z2LWRPWpu2zv"
      }
    },
    {
      "cell_type": "code",
      "source": [
        "lasso = make_pipeline(RobustScaler(),Lasso(alpha=0.0005,random_state=1))"
      ],
      "metadata": {
        "id": "-xn2p3MXuccM"
      },
      "execution_count": 37,
      "outputs": []
    },
    {
      "cell_type": "markdown",
      "source": [
        "- **Elastic Net Regression**"
      ],
      "metadata": {
        "id": "5KCuQalDvTCr"
      }
    },
    {
      "cell_type": "code",
      "source": [
        "ENet = make_pipeline(RobustScaler(),ElasticNet(alpha=0.0005,l1_ratio=.9,random_state=3))"
      ],
      "metadata": {
        "id": "xaCiK1qOucZz"
      },
      "execution_count": 38,
      "outputs": []
    },
    {
      "cell_type": "markdown",
      "source": [
        "- **Kernel Ridge Regression**"
      ],
      "metadata": {
        "id": "otLfFLstvXJb"
      }
    },
    {
      "cell_type": "code",
      "source": [
        "KRR = KernelRidge(alpha=0.6,kernel='polynomial',degree=2,coef0=2.5) #"
      ],
      "metadata": {
        "id": "K7CbOdEFWYms"
      },
      "execution_count": 39,
      "outputs": []
    },
    {
      "cell_type": "markdown",
      "source": [
        "- **Gradient Boosting Regression**"
      ],
      "metadata": {
        "id": "XEFr91u8vZrj"
      }
    },
    {
      "cell_type": "code",
      "source": [
        "GBoost = GradientBoostingRegressor(n_estimators=3000, learning_rate=0.05,\n",
        "                                   max_depth=4, max_features='sqrt',\n",
        "                                   min_samples_leaf=15, min_samples_split=10, \n",
        "                                   loss='huber', random_state =5)"
      ],
      "metadata": {
        "id": "Tt1kEaU_WYkO"
      },
      "execution_count": 40,
      "outputs": []
    },
    {
      "cell_type": "markdown",
      "source": [
        "- **XGBoost**"
      ],
      "metadata": {
        "id": "tREQw85cvdNH"
      }
    },
    {
      "cell_type": "code",
      "source": [
        "model_xgb = xgb.XGBRegressor(colsample_bytree=0.4603, gamma=0.0468, \n",
        "                             learning_rate=0.05, max_depth=3, \n",
        "                             min_child_weight=1.7817, n_estimators=2200,\n",
        "                             reg_alpha=0.4640, reg_lambda=0.8571,\n",
        "                             subsample=0.5213, silent=1,\n",
        "                             random_state =7, nthread = -1)"
      ],
      "metadata": {
        "id": "z_c8EwuGwSVr"
      },
      "execution_count": 41,
      "outputs": []
    },
    {
      "cell_type": "markdown",
      "source": [
        "- **LightGBM**"
      ],
      "metadata": {
        "id": "BpCaou-Gvfe3"
      }
    },
    {
      "cell_type": "code",
      "source": [
        "model_lgb = lgb.LGBMRegressor(objective='regression',num_leaves=5,\n",
        "                              learning_rate=0.05, n_estimators=720,\n",
        "                              max_bin = 55, bagging_fraction = 0.8,\n",
        "                              bagging_freq = 5, feature_fraction = 0.2319,\n",
        "                              feature_fraction_seed=9, bagging_seed=9,\n",
        "                              min_data_in_leaf =6, min_sum_hessian_in_leaf = 11)"
      ],
      "metadata": {
        "id": "6CuF51bhwSp_"
      },
      "execution_count": 42,
      "outputs": []
    },
    {
      "cell_type": "markdown",
      "source": [
        "#### **4) Base Models Scores**"
      ],
      "metadata": {
        "id": "6luRi6oeviEb"
      }
    },
    {
      "cell_type": "code",
      "source": [
        "score = rmsle_cv(lasso)\n",
        "print('\\nLasso score: {:.4f} ({:.4f})\\n'.format(score.mean(),score.std()))"
      ],
      "metadata": {
        "id": "1dsYg6pjvmbv",
        "colab": {
          "base_uri": "https://localhost:8080/"
        },
        "outputId": "ac85b156-13a5-486e-9a5f-321698dd77a1"
      },
      "execution_count": 43,
      "outputs": [
        {
          "output_type": "stream",
          "name": "stdout",
          "text": [
            "\n",
            "Lasso score: 0.1115 (0.0074)\n",
            "\n"
          ]
        }
      ]
    },
    {
      "cell_type": "code",
      "source": [
        "score = rmsle_cv(ENet)\n",
        "print('\\nENet score: {:.4f} ({:.4f})\\n'.format(score.mean(),score.std()))"
      ],
      "metadata": {
        "id": "jc4mCuxGv8hT",
        "colab": {
          "base_uri": "https://localhost:8080/"
        },
        "outputId": "cc3031e1-a107-45d6-ba66-7062ba5f0ee2"
      },
      "execution_count": 44,
      "outputs": [
        {
          "output_type": "stream",
          "name": "stdout",
          "text": [
            "\n",
            "ENet score: 0.1115 (0.0075)\n",
            "\n"
          ]
        }
      ]
    },
    {
      "cell_type": "code",
      "source": [
        "score = rmsle_cv(KRR)\n",
        "print('\\nKRR score: {:.4f} ({:.4f})\\n'.format(score.mean(),score.std()))"
      ],
      "metadata": {
        "id": "740j0vrBv8Os",
        "colab": {
          "base_uri": "https://localhost:8080/"
        },
        "outputId": "35aa7c76-217b-4a0c-8fb7-8df90ab99ce0"
      },
      "execution_count": 45,
      "outputs": [
        {
          "output_type": "stream",
          "name": "stdout",
          "text": [
            "\n",
            "KRR score: 0.1174 (0.0059)\n",
            "\n"
          ]
        }
      ]
    },
    {
      "cell_type": "code",
      "source": [
        "score = rmsle_cv(GBoost)\n",
        "print('\\nGBoost score: {:.4f} ({:.4f})\\n'.format(score.mean(),score.std()))"
      ],
      "metadata": {
        "id": "rpjQUSg_v8W7",
        "colab": {
          "base_uri": "https://localhost:8080/"
        },
        "outputId": "d9c1974a-15a9-4e57-a58a-ccc5fc7f4761"
      },
      "execution_count": 46,
      "outputs": [
        {
          "output_type": "stream",
          "name": "stdout",
          "text": [
            "\n",
            "GBoost score: 0.1162 (0.0074)\n",
            "\n"
          ]
        }
      ]
    },
    {
      "cell_type": "code",
      "source": [
        "score = rmsle_cv(model_xgb)\n",
        "print('\\nmodel_xgb score: {:.4f} ({:.4f})\\n'.format(score.mean(),score.std()))"
      ],
      "metadata": {
        "id": "ON2ncA7Gv8HP",
        "colab": {
          "base_uri": "https://localhost:8080/"
        },
        "outputId": "66e3f36a-9fac-45e7-c035-16340a9ccad8"
      },
      "execution_count": 47,
      "outputs": [
        {
          "output_type": "stream",
          "name": "stdout",
          "text": [
            "\n",
            "model_xgb score: 0.1174 (0.0072)\n",
            "\n"
          ]
        }
      ]
    },
    {
      "cell_type": "code",
      "source": [
        "score = rmsle_cv(model_lgb)\n",
        "print('\\nmodel_lgb score: {:.4f} ({:.4f})\\n'.format(score.mean(),score.std()))"
      ],
      "metadata": {
        "id": "4EEINGb7wNot",
        "colab": {
          "base_uri": "https://localhost:8080/"
        },
        "outputId": "250ee5b6-2186-439a-e5ec-f8b9c8be5f09"
      },
      "execution_count": 48,
      "outputs": [
        {
          "output_type": "stream",
          "name": "stdout",
          "text": [
            "\n",
            "model_lgb score: 0.1165 (0.0067)\n",
            "\n"
          ]
        }
      ]
    },
    {
      "cell_type": "markdown",
      "source": [
        "#### **5) Stacking Models**"
      ],
      "metadata": {
        "id": "76H3rF4lwxj5"
      }
    },
    {
      "cell_type": "markdown",
      "source": [
        "- **Averaged base models class**"
      ],
      "metadata": {
        "id": "0JbrZNZEw2e3"
      }
    },
    {
      "cell_type": "code",
      "source": [
        "class AveragingModels(BaseEstimator, RegressorMixin, TransformerMixin):\n",
        "    def __init__(self, models):\n",
        "        self.models = models\n",
        "        \n",
        "    # 본 모델을 복제해서 복제한 모델에 fit하기\n",
        "    def fit(self, X, y):\n",
        "        self.models_ = [clone(x) for x in self.models]\n",
        "        \n",
        "        # Train cloned base models\n",
        "        for model in self.models_:\n",
        "            model.fit(X, y)\n",
        "\n",
        "        return self\n",
        "    \n",
        "    # 복제한 모델을 predict하고 평균 계산하기\n",
        "    def predict(self, X):\n",
        "        predictions = np.column_stack([\n",
        "            model.predict(X) for model in self.models_\n",
        "        ])\n",
        "        return np.mean(predictions, axis=1)"
      ],
      "metadata": {
        "id": "qbDg40RYw3ke"
      },
      "execution_count": 49,
      "outputs": []
    },
    {
      "cell_type": "code",
      "source": [
        "average_models = AveragingModels(models=(ENet,GBoost,KRR,lasso))\n",
        "\n",
        "score = rmsle_cv(average_models)\n",
        "print('Averaged base models score: {:.4f} ({:.4f})\\n'.format(score.mean(),score.std()))"
      ],
      "metadata": {
        "id": "nm-0zg9Aw3h2",
        "colab": {
          "base_uri": "https://localhost:8080/"
        },
        "outputId": "37d49f1d-2042-43ec-b8b7-d59d488de5c3"
      },
      "execution_count": 50,
      "outputs": [
        {
          "output_type": "stream",
          "name": "stdout",
          "text": [
            "Averaged base models score: 0.1092 (0.0071)\n",
            "\n"
          ]
        }
      ]
    },
    {
      "cell_type": "markdown",
      "source": [
        "- **Less simple Stacking: Adding a Meta-model**\n",
        "      - 학습 부분의 절차\n",
        "        1. 전체 학습 데이터를 두 개의 세트로 나누기\n",
        "        2. 학습 데이터를 베이스 모델로 훈련하기\n",
        "        3. 베이스 모델을 검증하기\n",
        "        4. 3)의 예측을 input으로, 타깃 변수를 output으로 대입해 더 높은 단계인 meta model을 훈련하기\n"
      ],
      "metadata": {
        "id": "jDaL0ltavhwI"
      }
    },
    {
      "cell_type": "markdown",
      "source": [
        "![화면 캡처 2022-09-22 101311.png](data:image/png;base64,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)"
      ],
      "metadata": {
        "id": "FFXhU4ypwZDl"
      }
    },
    {
      "cell_type": "markdown",
      "source": [
        "- **Stacking averaged Models Class**"
      ],
      "metadata": {
        "id": "tjk4zPMSwf-t"
      }
    },
    {
      "cell_type": "code",
      "source": [
        "class StackingAveragedModels(BaseEstimator, RegressorMixin, TransformerMixin):\n",
        "    def __init__(self, base_models, meta_model, n_folds=5):\n",
        "        self.base_models = base_models\n",
        "        self.meta_model = meta_model\n",
        "        self.n_folds = n_folds\n",
        "   \n",
        "    # 본 모델의 clone 만들어서 데이터 적합하기\n",
        "    def fit(self, X, y):\n",
        "        self.base_models_ = [list() for x in self.base_models]\n",
        "        self.meta_model_ = clone(self.meta_model)\n",
        "        kfold = KFold(n_splits=self.n_folds, shuffle=True, random_state=156)\n",
        "        \n",
        "        # clone 베이스모델을 훈련하고 복제한 메타모델을 훈련하기 위해 예측하기\n",
        "        out_of_fold_predictions = np.zeros((X.shape[0], len(self.base_models)))\n",
        "        for i, model in enumerate(self.base_models):\n",
        "            for train_index, holdout_index in kfold.split(X, y):\n",
        "                instance = clone(model)\n",
        "                self.base_models_[i].append(instance)\n",
        "                instance.fit(X[train_index], y[train_index])\n",
        "                y_pred = instance.predict(X[holdout_index])\n",
        "                out_of_fold_predictions[holdout_index, i] = y_pred\n",
        "                \n",
        "        # 복제한 메타모델을 훈련하고 새로운 피처로 out-of-fold 예측하기\n",
        "        self.meta_model_.fit(out_of_fold_predictions, y)\n",
        "        return self\n",
        "   \n",
        "    # 테스트 데이터로 모든 베이스모델을 예측하고 평균 예측 계산하기 \n",
        "    # 메타 모델로 최종 예측을 위한 메타 피처 만들기\n",
        "    def predict(self, X):\n",
        "        meta_features = np.column_stack([\n",
        "            np.column_stack([model.predict(X) for model in base_models]).mean(axis=1)\n",
        "            for base_models in self.base_models_ ])\n",
        "        return self.meta_model_.predict(meta_features)"
      ],
      "metadata": {
        "id": "6n9MB5qIvQFS"
      },
      "execution_count": 51,
      "outputs": []
    },
    {
      "cell_type": "code",
      "source": [
        "stacked_averaged_models = StackingAveragedModels(base_models = (ENet, GBoost, KRR),\n",
        "                                                 meta_model = lasso)\n",
        "\n",
        "score = rmsle_cv(stacked_averaged_models)\n",
        "print(\"Stacking Averaged models score: {:.4f} ({:.4f})\".format(score.mean(), score.std()))"
      ],
      "metadata": {
        "colab": {
          "base_uri": "https://localhost:8080/"
        },
        "id": "3Qv4JeZAwa44",
        "outputId": "bdcf47a5-9006-438b-84e5-70e251bd86af"
      },
      "execution_count": 52,
      "outputs": [
        {
          "output_type": "stream",
          "name": "stdout",
          "text": [
            "Stacking Averaged models score: 0.1083 (0.0075)\n"
          ]
        }
      ]
    },
    {
      "cell_type": "markdown",
      "source": [
        "- **Ensembling StackedRegressor, XGBoost, LightGBM**"
      ],
      "metadata": {
        "id": "GnOdkUSByYR6"
      }
    },
    {
      "cell_type": "code",
      "source": [
        "def rmsle(y, y_pred):\n",
        "    return np.sqrt(mean_squared_error(y, y_pred))"
      ],
      "metadata": {
        "id": "GWByJdRCvQDR"
      },
      "execution_count": 53,
      "outputs": []
    },
    {
      "cell_type": "markdown",
      "source": [
        "- **Final Training and Prediction**"
      ],
      "metadata": {
        "id": "-zSnZ0jjyhJh"
      }
    },
    {
      "cell_type": "markdown",
      "source": [
        "- StackedRegressor"
      ],
      "metadata": {
        "id": "gFxow5JtzcbW"
      }
    },
    {
      "cell_type": "code",
      "source": [
        "stacked_averaged_models.fit(train.values,y_train)\n",
        "stacked_train_pred = stacked_averaged_models.predict(train.values)\n",
        "stacked_pred = np.expm1(stacked_averaged_models.predict(test.values))\n",
        "print(rmsle(y_train,stacked_train_pred))"
      ],
      "metadata": {
        "colab": {
          "base_uri": "https://localhost:8080/"
        },
        "id": "OgeA57uayg6i",
        "outputId": "ea6aba88-e884-4b46-f3a5-a135b016569c"
      },
      "execution_count": 54,
      "outputs": [
        {
          "output_type": "stream",
          "name": "stdout",
          "text": [
            "0.08289324365350914\n"
          ]
        }
      ]
    },
    {
      "cell_type": "markdown",
      "source": [
        "- XGBoost"
      ],
      "metadata": {
        "id": "hsg_r9gpzfkB"
      }
    },
    {
      "cell_type": "code",
      "source": [
        "model_xgb.fit(train,y_train)\n",
        "xgb_train_pred = model_xgb.predict(train)\n",
        "xgb_pred = np.expm1(model_xgb.predict(test))\n",
        "print(rmsle(y_train,xgb_train_pred))"
      ],
      "metadata": {
        "colab": {
          "base_uri": "https://localhost:8080/"
        },
        "id": "8qgkfkkovQBR",
        "outputId": "7b7f46dd-0f49-4284-fb6b-065ebdf6ead5"
      },
      "execution_count": 55,
      "outputs": [
        {
          "output_type": "stream",
          "name": "stdout",
          "text": [
            "0.07817382431710135\n"
          ]
        }
      ]
    },
    {
      "cell_type": "markdown",
      "source": [
        "- LightGBM"
      ],
      "metadata": {
        "id": "PF5__H8JzgsH"
      }
    },
    {
      "cell_type": "code",
      "source": [
        "model_lgb.fit(train,y_train)\n",
        "lgb_train_pred = model_lgb.predict(train)\n",
        "lgb_pred = np.expm1(model_lgb.predict(test))\n",
        "print(rmsle(y_train,lgb_train_pred))"
      ],
      "metadata": {
        "colab": {
          "base_uri": "https://localhost:8080/"
        },
        "id": "9x0-PrM7vP_b",
        "outputId": "2f622a8e-eaf8-48ed-8d1c-fd291dc20e32"
      },
      "execution_count": 56,
      "outputs": [
        {
          "output_type": "stream",
          "name": "stdout",
          "text": [
            "0.07293558543830697\n"
          ]
        }
      ]
    },
    {
      "cell_type": "code",
      "source": [
        "'''RMSE on the entire Train data when averaging'''\n",
        "\n",
        "print('RMSLE score on train data:')\n",
        "print(rmsle(y_train,stacked_train_pred*0.70 + xgb_train_pred*0.15 + lgb_train_pred*0.15 ))"
      ],
      "metadata": {
        "colab": {
          "base_uri": "https://localhost:8080/"
        },
        "id": "be1AQoquz2rk",
        "outputId": "1ff90ef1-14a4-4bb7-fdbd-82284f5d2b79"
      },
      "execution_count": 57,
      "outputs": [
        {
          "output_type": "stream",
          "name": "stdout",
          "text": [
            "RMSLE score on train data:\n",
            "0.07865702706562619\n"
          ]
        }
      ]
    },
    {
      "cell_type": "markdown",
      "source": [
        "- **Ensemble Prediction**"
      ],
      "metadata": {
        "id": "-5t4PJ2-z9y5"
      }
    },
    {
      "cell_type": "code",
      "source": [
        "ensemble = stacked_pred*0.70 + xgb_pred*0.15 + lgb_pred*0.15"
      ],
      "metadata": {
        "id": "0fwnESJnz2ph"
      },
      "execution_count": 58,
      "outputs": []
    },
    {
      "cell_type": "markdown",
      "source": [
        "- **Submission**"
      ],
      "metadata": {
        "id": "sTUCyat70FnY"
      }
    },
    {
      "cell_type": "code",
      "source": [
        "sub = pd.DataFrame()\n",
        "sub['Id'] = test_ID\n",
        "sub['SalePrice'] = ensemble\n",
        "sub.to_csv('submission.csv',index=False)"
      ],
      "metadata": {
        "id": "JGWSpBtb0F4h"
      },
      "execution_count": 59,
      "outputs": []
    }
  ]
}