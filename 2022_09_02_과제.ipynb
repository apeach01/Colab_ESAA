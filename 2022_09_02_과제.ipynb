{
  "nbformat": 4,
  "nbformat_minor": 0,
  "metadata": {
    "colab": {
      "provenance": [],
      "collapsed_sections": [],
      "authorship_tag": "ABX9TyNPSzXZ55Te6A/XnkL/trDG",
      "include_colab_link": true
    },
    "kernelspec": {
      "name": "python3",
      "display_name": "Python 3"
    },
    "language_info": {
      "name": "python"
    }
  },
  "cells": [
    {
      "cell_type": "markdown",
      "metadata": {
        "id": "view-in-github",
        "colab_type": "text"
      },
      "source": [
        "<a href=\"https://colab.research.google.com/github/jackie-Gung/Colab_ESAA/blob/main/2022_09_02_%EA%B3%BC%EC%A0%9C.ipynb\" target=\"_parent\"><img src=\"https://colab.research.google.com/assets/colab-badge.svg\" alt=\"Open In Colab\"/></a>"
      ]
    },
    {
      "cell_type": "markdown",
      "source": [
        "## **Chap3. 분류**"
      ],
      "metadata": {
        "id": "eKrKMFXm-COs"
      }
    },
    {
      "cell_type": "markdown",
      "source": [
        "### **1. MNIST**\n",
        "---"
      ],
      "metadata": {
        "id": "xza3J7yk_6Px"
      }
    },
    {
      "cell_type": "markdown",
      "source": [
        "#### **1) 사이킷런에서 제공하는 MNIST 데이터셋 다운받기**"
      ],
      "metadata": {
        "id": "QXXQlr6_-Rmw"
      }
    },
    {
      "cell_type": "code",
      "source": [
        "import numpy as np\n",
        "import pandas as pd"
      ],
      "metadata": {
        "id": "7L3IjqcidNBm"
      },
      "execution_count": null,
      "outputs": []
    },
    {
      "cell_type": "code",
      "execution_count": 2,
      "metadata": {
        "id": "S114vZWjpS4q",
        "colab": {
          "base_uri": "https://localhost:8080/"
        },
        "outputId": "d10a652d-fe53-4e06-bb24-4ae0790899fa"
      },
      "outputs": [
        {
          "output_type": "execute_result",
          "data": {
            "text/plain": [
              "dict_keys(['data', 'target', 'frame', 'categories', 'feature_names', 'target_names', 'DESCR', 'details', 'url'])"
            ]
          },
          "metadata": {},
          "execution_count": 2
        }
      ],
      "source": [
        "from sklearn.datasets import fetch_openml\n",
        "mnist = fetch_openml('mnist_784', version=1)\n",
        "mnist.keys()"
      ]
    },
    {
      "cell_type": "markdown",
      "source": [
        "- DESCR: 데이터셋 설명\n",
        "- data: 샘플이 행, 특성이 열로 구성된 배열\n",
        "- target: 레이블 배열"
      ],
      "metadata": {
        "id": "xAvu8u7h_obL"
      }
    },
    {
      "cell_type": "markdown",
      "source": [
        "#### **2) 데이터 배열 살펴보기**"
      ],
      "metadata": {
        "id": "BbB6iImPAKHi"
      }
    },
    {
      "cell_type": "code",
      "source": [
        "X,y = mnist['data'], mnist['target']\n",
        "print(X.shape) \n",
        "print(y.shape) \n",
        "# 이미지 7만개, 특성이 784개 (이미지 28x28)"
      ],
      "metadata": {
        "colab": {
          "base_uri": "https://localhost:8080/"
        },
        "id": "-VYawXtv-h22",
        "outputId": "21c731ff-dc5d-49b2-e5da-e0a7a7362361"
      },
      "execution_count": 3,
      "outputs": [
        {
          "output_type": "stream",
          "name": "stdout",
          "text": [
            "(70000, 784)\n",
            "(70000,)\n"
          ]
        }
      ]
    },
    {
      "cell_type": "markdown",
      "source": [
        "- 데이터셋에서 이미지 하나 확인해보기"
      ],
      "metadata": {
        "id": "apzR2yE3IkVE"
      }
    },
    {
      "cell_type": "code",
      "source": [
        "import matplotlib as mpl\n",
        "import matplotlib.pyplot as plt\n",
        "\n",
        "some_digit = X.to_numpy()[0] # 원래 코드대로 하면 error 발생 why?\n",
        "some_digit_image = some_digit.reshape(28,28)\n",
        "\n",
        "plt.imshow(some_digit_image, cmap = 'binary')\n",
        "plt.axis('off')\n",
        "plt.show()"
      ],
      "metadata": {
        "colab": {
          "base_uri": "https://localhost:8080/",
          "height": 248
        },
        "id": "AoMjn2oJGg87",
        "outputId": "1f2b06b4-e306-4eb2-dbe8-10e5b0ec8e79"
      },
      "execution_count": 4,
      "outputs": [
        {
          "output_type": "display_data",
          "data": {
            "text/plain": [
              "<Figure size 432x288 with 1 Axes>"
            ],
            "image/png": "[encoded data removed]"
          },
          "metadata": {
            "needs_background": "light"
          }
        }
      ]
    },
    {
      "cell_type": "code",
      "source": [
        "y[0]"
      ],
      "metadata": {
        "colab": {
          "base_uri": "https://localhost:8080/",
          "height": 35
        },
        "id": "rZ6nkF-hjOlN",
        "outputId": "bee41051-3da7-4961-e587-d12ce8389d4a"
      },
      "execution_count": null,
      "outputs": [
        {
          "output_type": "execute_result",
          "data": {
            "text/plain": [
              "'5'"
            ],
            "application/vnd.google.colaboratory.intrinsic+json": {
              "type": "string"
            }
          },
          "metadata": {},
          "execution_count": 7
        }
      ]
    },
    {
      "cell_type": "code",
      "source": [
        "# y를 정수로 변환하기\n",
        "\n",
        "y = y.astype(np.uint8)"
      ],
      "metadata": {
        "id": "ZEahZvbguEi1"
      },
      "execution_count": 5,
      "outputs": []
    },
    {
      "cell_type": "code",
      "source": [
        "# 학습/테스트 데이터셋 분리하기\n",
        "\n",
        "X_train,X_test,y_train,y_test = X[:60000],X[60000:],y[:60000],y[60000:]"
      ],
      "metadata": {
        "id": "ko9YW1YouIze"
      },
      "execution_count": 6,
      "outputs": []
    },
    {
      "cell_type": "markdown",
      "source": [
        "### **2. 이진 분류기 훈련**\n",
        "---"
      ],
      "metadata": {
        "id": "iHlqreS7wB3F"
      }
    },
    {
      "cell_type": "markdown",
      "source": [
        "#### **1) 예를 들어 '5-감지기'는 5인 것과 5가 아닌 두 개의 클래스를 구분하는 이진 분류기**"
      ],
      "metadata": {
        "id": "BNItZcSmwH7B"
      }
    },
    {
      "cell_type": "code",
      "source": [
        "y_train_5 = (y_train == 5)\n",
        "y_test_5 = (y_test == 5)"
      ],
      "metadata": {
        "id": "05I3LaDyuflV"
      },
      "execution_count": 7,
      "outputs": []
    },
    {
      "cell_type": "markdown",
      "source": [
        "#### **2) SGDClassifier로 확률적 경사 하강법 분류기 사용하기**\n",
        "- 매우 큰 데이터셋을 효율적으로 처리하는 장점을 지님\n",
        "  - 한 번에 하나씩 훈련 샘플을 독립적으로 처리하기 때문\n",
        "\n",
        "- 따라서 SGD는 온라인 학습에 잘 들어맞음"
      ],
      "metadata": {
        "id": "XyRo7BpXLvdk"
      }
    },
    {
      "cell_type": "code",
      "source": [
        "from  sklearn.linear_model import SGDClassifier\n",
        "\n",
        "sgd_clf = SGDClassifier(random_state=42)\n",
        "sgd_clf.fit(X_train,y_train_5)"
      ],
      "metadata": {
        "colab": {
          "base_uri": "https://localhost:8080/"
        },
        "id": "ruC9rFu8LuHT",
        "outputId": "01fa446c-1b51-43ed-e9e7-819a941b64b8"
      },
      "execution_count": 8,
      "outputs": [
        {
          "output_type": "execute_result",
          "data": {
            "text/plain": [
              "SGDClassifier(random_state=42)"
            ]
          },
          "metadata": {},
          "execution_count": 8
        }
      ]
    },
    {
      "cell_type": "code",
      "source": [
        "sgd_clf.predict([some_digit])"
      ],
      "metadata": {
        "id": "5gahbcymMQHk",
        "colab": {
          "base_uri": "https://localhost:8080/"
        },
        "outputId": "01034ef8-ba12-4b94-c156-6b63d7060000"
      },
      "execution_count": 9,
      "outputs": [
        {
          "output_type": "stream",
          "name": "stderr",
          "text": [
            "/usr/local/lib/python3.7/dist-packages/sklearn/base.py:451: UserWarning: X does not have valid feature names, but SGDClassifier was fitted with feature names\n",
            "  \"X does not have valid feature names, but\"\n"
          ]
        },
        {
          "output_type": "execute_result",
          "data": {
            "text/plain": [
              "array([ True])"
            ]
          },
          "metadata": {},
          "execution_count": 9
        }
      ]
    },
    {
      "cell_type": "markdown",
      "source": [
        "### **3. 성능 측정**\n",
        "---"
      ],
      "metadata": {
        "id": "0fpHOiB3-9ps"
      }
    },
    {
      "cell_type": "markdown",
      "source": [
        "#### **1) 교차 검증을 사용한 정확도 측정**\n",
        "- 교차 검증은 모델을 평가하는 좋은 방법\n",
        "- cross_val_score()"
      ],
      "metadata": {
        "id": "iRqdBC0DCd5g"
      }
    },
    {
      "cell_type": "code",
      "source": [
        "from sklearn.model_selection import StratifiedKFold\n",
        "from sklearn.base import clone\n",
        "\n",
        "skfolds = StratifiedKFold(n_splits=3, random_state=42, shuffle=True)\n",
        "\n",
        "#for train_index, test_index in skfolds.split(X_train,y_train_5):\n",
        " # clone_clf = clone(sgd_clf)\n",
        "  #X_train_folds = X_train[train_index]\n",
        "  #y_train_folds = y_train_5[train_index]\n",
        "  #X_test_fold = X_train[test_index]\n",
        "  #y_test_fold = y_train_5[test_index]\n",
        "\n",
        "  #clone_clf.fit(X_train_folds, y_train_folds)\n",
        "  #y_pred = clone_clf.predict(X_test_fold)\n",
        "  #n_correct = sum(y_pred == y_test_fold)\n",
        "  #print(n_correct / len(y_pred))"
      ],
      "metadata": {
        "colab": {
          "base_uri": "https://localhost:8080/",
          "height": 434
        },
        "id": "RSM41R43-yfk",
        "outputId": "1b3cc881-a10f-4c0c-d99e-b25e59384057"
      },
      "execution_count": 10,
      "outputs": [
        {
          "output_type": "error",
          "ename": "KeyError",
          "evalue": "ignored",
          "traceback": [
            "\u001b[0;31m---------------------------------------------------------------------------\u001b[0m",
            "\u001b[0;31mKeyError\u001b[0m                                  Traceback (most recent call last)",
            "\u001b[0;32m<ipython-input-10-d5045b90d86f>\u001b[0m in \u001b[0;36m<module>\u001b[0;34m\u001b[0m\n\u001b[1;32m      6\u001b[0m \u001b[0;32mfor\u001b[0m \u001b[0mtrain_index\u001b[0m\u001b[0;34m,\u001b[0m \u001b[0mtest_index\u001b[0m \u001b[0;32min\u001b[0m \u001b[0mskfolds\u001b[0m\u001b[0;34m.\u001b[0m\u001b[0msplit\u001b[0m\u001b[0;34m(\u001b[0m\u001b[0mX_train\u001b[0m\u001b[0;34m,\u001b[0m\u001b[0my_train_5\u001b[0m\u001b[0;34m)\u001b[0m\u001b[0;34m:\u001b[0m\u001b[0;34m\u001b[0m\u001b[0;34m\u001b[0m\u001b[0m\n\u001b[1;32m      7\u001b[0m   \u001b[0mclone_clf\u001b[0m \u001b[0;34m=\u001b[0m \u001b[0mclone\u001b[0m\u001b[0;34m(\u001b[0m\u001b[0msgd_clf\u001b[0m\u001b[0;34m)\u001b[0m\u001b[0;34m\u001b[0m\u001b[0;34m\u001b[0m\u001b[0m\n\u001b[0;32m----> 8\u001b[0;31m   \u001b[0mX_train_folds\u001b[0m \u001b[0;34m=\u001b[0m \u001b[0mX_train\u001b[0m\u001b[0;34m[\u001b[0m\u001b[0mtrain_index\u001b[0m\u001b[0;34m]\u001b[0m\u001b[0;34m\u001b[0m\u001b[0;34m\u001b[0m\u001b[0m\n\u001b[0m\u001b[1;32m      9\u001b[0m   \u001b[0my_train_folds\u001b[0m \u001b[0;34m=\u001b[0m \u001b[0my_train_5\u001b[0m\u001b[0;34m[\u001b[0m\u001b[0mtrain_index\u001b[0m\u001b[0;34m]\u001b[0m\u001b[0;34m\u001b[0m\u001b[0;34m\u001b[0m\u001b[0m\n\u001b[1;32m     10\u001b[0m   \u001b[0mX_test_fold\u001b[0m \u001b[0;34m=\u001b[0m \u001b[0mX_train\u001b[0m\u001b[0;34m[\u001b[0m\u001b[0mtest_index\u001b[0m\u001b[0;34m]\u001b[0m\u001b[0;34m\u001b[0m\u001b[0;34m\u001b[0m\u001b[0m\n",
            "\u001b[0;32m/usr/local/lib/python3.7/dist-packages/pandas/core/frame.py\u001b[0m in \u001b[0;36m__getitem__\u001b[0;34m(self, key)\u001b[0m\n\u001b[1;32m   3462\u001b[0m             \u001b[0;32mif\u001b[0m \u001b[0mis_iterator\u001b[0m\u001b[0;34m(\u001b[0m\u001b[0mkey\u001b[0m\u001b[0;34m)\u001b[0m\u001b[0;34m:\u001b[0m\u001b[0;34m\u001b[0m\u001b[0;34m\u001b[0m\u001b[0m\n\u001b[1;32m   3463\u001b[0m                 \u001b[0mkey\u001b[0m \u001b[0;34m=\u001b[0m \u001b[0mlist\u001b[0m\u001b[0;34m(\u001b[0m\u001b[0mkey\u001b[0m\u001b[0;34m)\u001b[0m\u001b[0;34m\u001b[0m\u001b[0;34m\u001b[0m\u001b[0m\n\u001b[0;32m-> 3464\u001b[0;31m             \u001b[0mindexer\u001b[0m \u001b[0;34m=\u001b[0m \u001b[0mself\u001b[0m\u001b[0;34m.\u001b[0m\u001b[0mloc\u001b[0m\u001b[0;34m.\u001b[0m\u001b[0m_get_listlike_indexer\u001b[0m\u001b[0;34m(\u001b[0m\u001b[0mkey\u001b[0m\u001b[0;34m,\u001b[0m \u001b[0maxis\u001b[0m\u001b[0;34m=\u001b[0m\u001b[0;36m1\u001b[0m\u001b[0;34m)\u001b[0m\u001b[0;34m[\u001b[0m\u001b[0;36m1\u001b[0m\u001b[0;34m]\u001b[0m\u001b[0;34m\u001b[0m\u001b[0;34m\u001b[0m\u001b[0m\n\u001b[0m\u001b[1;32m   3465\u001b[0m \u001b[0;34m\u001b[0m\u001b[0m\n\u001b[1;32m   3466\u001b[0m         \u001b[0;31m# take() does not accept boolean indexers\u001b[0m\u001b[0;34m\u001b[0m\u001b[0;34m\u001b[0m\u001b[0;34m\u001b[0m\u001b[0m\n",
            "\u001b[0;32m/usr/local/lib/python3.7/dist-packages/pandas/core/indexing.py\u001b[0m in \u001b[0;36m_get_listlike_indexer\u001b[0;34m(self, key, axis)\u001b[0m\n\u001b[1;32m   1312\u001b[0m             \u001b[0mkeyarr\u001b[0m\u001b[0;34m,\u001b[0m \u001b[0mindexer\u001b[0m\u001b[0;34m,\u001b[0m \u001b[0mnew_indexer\u001b[0m \u001b[0;34m=\u001b[0m \u001b[0max\u001b[0m\u001b[0;34m.\u001b[0m\u001b[0m_reindex_non_unique\u001b[0m\u001b[0;34m(\u001b[0m\u001b[0mkeyarr\u001b[0m\u001b[0;34m)\u001b[0m\u001b[0;34m\u001b[0m\u001b[0;34m\u001b[0m\u001b[0m\n\u001b[1;32m   1313\u001b[0m \u001b[0;34m\u001b[0m\u001b[0m\n\u001b[0;32m-> 1314\u001b[0;31m         \u001b[0mself\u001b[0m\u001b[0;34m.\u001b[0m\u001b[0m_validate_read_indexer\u001b[0m\u001b[0;34m(\u001b[0m\u001b[0mkeyarr\u001b[0m\u001b[0;34m,\u001b[0m \u001b[0mindexer\u001b[0m\u001b[0;34m,\u001b[0m \u001b[0maxis\u001b[0m\u001b[0;34m)\u001b[0m\u001b[0;34m\u001b[0m\u001b[0;34m\u001b[0m\u001b[0m\n\u001b[0m\u001b[1;32m   1315\u001b[0m \u001b[0;34m\u001b[0m\u001b[0m\n\u001b[1;32m   1316\u001b[0m         if needs_i8_conversion(ax.dtype) or isinstance(\n",
            "\u001b[0;32m/usr/local/lib/python3.7/dist-packages/pandas/core/indexing.py\u001b[0m in \u001b[0;36m_validate_read_indexer\u001b[0;34m(self, key, indexer, axis)\u001b[0m\n\u001b[1;32m   1372\u001b[0m                 \u001b[0;32mif\u001b[0m \u001b[0muse_interval_msg\u001b[0m\u001b[0;34m:\u001b[0m\u001b[0;34m\u001b[0m\u001b[0;34m\u001b[0m\u001b[0m\n\u001b[1;32m   1373\u001b[0m                     \u001b[0mkey\u001b[0m \u001b[0;34m=\u001b[0m \u001b[0mlist\u001b[0m\u001b[0;34m(\u001b[0m\u001b[0mkey\u001b[0m\u001b[0;34m)\u001b[0m\u001b[0;34m\u001b[0m\u001b[0;34m\u001b[0m\u001b[0m\n\u001b[0;32m-> 1374\u001b[0;31m                 \u001b[0;32mraise\u001b[0m \u001b[0mKeyError\u001b[0m\u001b[0;34m(\u001b[0m\u001b[0;34mf\"None of [{key}] are in the [{axis_name}]\"\u001b[0m\u001b[0;34m)\u001b[0m\u001b[0;34m\u001b[0m\u001b[0;34m\u001b[0m\u001b[0m\n\u001b[0m\u001b[1;32m   1375\u001b[0m \u001b[0;34m\u001b[0m\u001b[0m\n\u001b[1;32m   1376\u001b[0m             \u001b[0mnot_found\u001b[0m \u001b[0;34m=\u001b[0m \u001b[0mlist\u001b[0m\u001b[0;34m(\u001b[0m\u001b[0mensure_index\u001b[0m\u001b[0;34m(\u001b[0m\u001b[0mkey\u001b[0m\u001b[0;34m)\u001b[0m\u001b[0;34m[\u001b[0m\u001b[0mmissing_mask\u001b[0m\u001b[0;34m.\u001b[0m\u001b[0mnonzero\u001b[0m\u001b[0;34m(\u001b[0m\u001b[0;34m)\u001b[0m\u001b[0;34m[\u001b[0m\u001b[0;36m0\u001b[0m\u001b[0;34m]\u001b[0m\u001b[0;34m]\u001b[0m\u001b[0;34m.\u001b[0m\u001b[0munique\u001b[0m\u001b[0;34m(\u001b[0m\u001b[0;34m)\u001b[0m\u001b[0;34m)\u001b[0m\u001b[0;34m\u001b[0m\u001b[0;34m\u001b[0m\u001b[0m\n",
            "\u001b[0;31mKeyError\u001b[0m: \"None of [Int64Index([    1,     3,     4,     5,     7,     8,    10,    11,    12,\\n               13,\\n            ...\\n            59984, 59985, 59987, 59988, 59989, 59991, 59993, 59994, 59996,\\n            59998],\\n           dtype='int64', length=40000)] are in the [columns]\""
          ]
        }
      ]
    },
    {
      "cell_type": "markdown",
      "source": [
        "      1. StratifiedKFold는 클래스별 비율이 유지되도록 폴드를 만들기 위해 계층적 샘플링을 수행함\n",
        "      2. 분류기 객체를 복제하여(clone) 훈련 폴드로 훈련시키고 테스트 폴드로 예측을 만듦\n",
        "      3. 올바른 예측의 수를 세어 정확한 예측의 비율을 출력함"
      ],
      "metadata": {
        "id": "EkuGEanje0Q0"
      }
    },
    {
      "cell_type": "markdown",
      "source": [
        "- **폴드가 3개인 k-겹 교차 검증 사용해 SGDClassifier 모델 평가하기**"
      ],
      "metadata": {
        "id": "w9ewAmfofIGW"
      }
    },
    {
      "cell_type": "code",
      "source": [
        "from sklearn.model_selection import cross_val_score\n",
        "cross_val_score(sgd_clf, X_train, y_train_5, cv=3, scoring='accuracy')"
      ],
      "metadata": {
        "colab": {
          "base_uri": "https://localhost:8080/"
        },
        "id": "jeI4juIZfRos",
        "outputId": "8f6823cd-c57c-446d-e11e-c84ea1920364"
      },
      "execution_count": 11,
      "outputs": [
        {
          "output_type": "execute_result",
          "data": {
            "text/plain": [
              "array([0.95035, 0.96035, 0.9604 ])"
            ]
          },
          "metadata": {},
          "execution_count": 11
        }
      ]
    },
    {
      "cell_type": "code",
      "source": [
        "from sklearn.base import BaseEstimator\n",
        "\n",
        "class Never5Classifier(BaseEstimator):\n",
        "  def fit(self,X,y=None):\n",
        "    return self\n",
        "  def predict(self,X):\n",
        "    return np.zeros((len(X),1),dtype=bool)"
      ],
      "metadata": {
        "id": "Nsq8uUPLfgJQ"
      },
      "execution_count": 12,
      "outputs": []
    },
    {
      "cell_type": "code",
      "source": [
        "never_5_clf = Never5Classifier()\n",
        "cross_val_score(never_5_clf,X_train,y_train_5,cv=3,scoring='accuracy')"
      ],
      "metadata": {
        "colab": {
          "base_uri": "https://localhost:8080/"
        },
        "id": "eLACiHrZf2DQ",
        "outputId": "5d4fa1fd-f7fa-4ad2-ffb6-e0340f02811d"
      },
      "execution_count": 13,
      "outputs": [
        {
          "output_type": "execute_result",
          "data": {
            "text/plain": [
              "array([0.91125, 0.90855, 0.90915])"
            ]
          },
          "metadata": {},
          "execution_count": 13
        }
      ]
    },
    {
      "cell_type": "markdown",
      "source": [
        "      1. 첫번째 결과는 정확도가 모두 95% 이상\n",
        "      2. 두번째는 5가 아닌 것으로 예측하면 정답을 맞출 확률이 90% 이상\n",
        "      3. 데이터셋이 심하게 불균등하면 정확도는 분류기의 성능 지표로 알맞지 않음"
      ],
      "metadata": {
        "id": "0RRaoSGbgH6S"
      }
    },
    {
      "cell_type": "markdown",
      "source": [
        "#### **2) 오차 행렬**\n",
        "- 오차 행렬: 분류기 성능을 평가하는 좋은 지표\n",
        "- a 샘플이 b 샘플로 분류된 횟수를 세는 것\n",
        "- 실제 타깃값과 비교할 수 있게 먼저 예측값을 만들어야 함\n",
        "- cross_val_predict() 사용하기"
      ],
      "metadata": {
        "id": "0gOyzEAMgazX"
      }
    },
    {
      "cell_type": "code",
      "source": [
        "from sklearn.model_selection import cross_val_predict\n",
        "\n",
        "y_train_pred = cross_val_predict(sgd_clf, X_train,y_train_5,cv=3)"
      ],
      "metadata": {
        "id": "jSsLY0rtgAOn"
      },
      "execution_count": 14,
      "outputs": []
    },
    {
      "cell_type": "markdown",
      "source": [
        "- cross_val_score()와의 차이점: 평가 점수를 반환하지 않고 각 테스트 폴드에서 얻은 예측을 반환함"
      ],
      "metadata": {
        "id": "xs3awbxeug6p"
      }
    },
    {
      "cell_type": "code",
      "source": [
        "from sklearn.metrics import confusion_matrix\n",
        "confusion_matrix(y_train_5,y_train_pred)"
      ],
      "metadata": {
        "colab": {
          "base_uri": "https://localhost:8080/"
        },
        "id": "qqkNVRwtubc_",
        "outputId": "c6ed432a-b614-422e-e87a-efdd9956ba5f"
      },
      "execution_count": 15,
      "outputs": [
        {
          "output_type": "execute_result",
          "data": {
            "text/plain": [
              "array([[53892,   687],\n",
              "       [ 1891,  3530]])"
            ]
          },
          "metadata": {},
          "execution_count": 15
        }
      ]
    },
    {
      "cell_type": "markdown",
      "source": [
        "      1. 오차행렬의 행: 실제 클래스\n",
        "      2. 오차행렬의 열: 예측 클래스\n",
        "      3. 결과 종류\n",
        "        - TN: 5가 아닌 것을 아님으로 정확히 분류\n",
        "        - FP: 5가 아닌 것을 5로 분류\n",
        "        - FN: 5인 것을 5가 아닌 것으로 분류\n",
        "        - TP: 5인 것을 5로 정확히 분류"
      ],
      "metadata": {
        "id": "bWJSFMoCvFO9"
      }
    },
    {
      "cell_type": "code",
      "source": [
        "# 정확한 분류기일 경우 알아보기\n",
        "y_train_perfect_predictions = y_train_5 \n",
        "confusion_matrix(y_train_5,y_train_perfect_predictions)"
      ],
      "metadata": {
        "colab": {
          "base_uri": "https://localhost:8080/"
        },
        "id": "MRFOLmg6ut2t",
        "outputId": "a39f4217-1e4f-49a2-c0bd-bdf00efb1419"
      },
      "execution_count": 16,
      "outputs": [
        {
          "output_type": "execute_result",
          "data": {
            "text/plain": [
              "array([[54579,     0],\n",
              "       [    0,  5421]])"
            ]
          },
          "metadata": {},
          "execution_count": 16
        }
      ]
    },
    {
      "cell_type": "markdown",
      "source": [
        "- 오차행렬보다 더 요약된 지표가 필요할 때: 정밀도, 재현율\n",
        "- **정밀도**: 양성 예측의 정확도. but 다른 모든 양성 샘플을 무시하기 때문에 유용하진 않음\n",
        "$$정밀도 = \\frac{TP}{TP+FP}$$\n",
        "\n",
        "- **재현율**: 정밀도와 같이 사용하는 지표(민감도)\n",
        "$$재현율 = \\frac{TP}{TP+FN}$$\n"
      ],
      "metadata": {
        "id": "alDz6GjjvuaE"
      }
    },
    {
      "cell_type": "markdown",
      "source": [
        "#### **3) 정밀도와 재현율**"
      ],
      "metadata": {
        "id": "jw87p8_ExVn2"
      }
    },
    {
      "cell_type": "code",
      "source": [
        "from sklearn.metrics import precision_score, recall_score\n",
        "print(precision_score(y_train_5,y_train_pred))\n",
        "print(recall_score(y_train_5,y_train_pred))"
      ],
      "metadata": {
        "colab": {
          "base_uri": "https://localhost:8080/"
        },
        "id": "k-IzxRC8vsQT",
        "outputId": "4685fd53-5dca-4c52-ab8a-480b0f1ffc43"
      },
      "execution_count": 19,
      "outputs": [
        {
          "output_type": "stream",
          "name": "stdout",
          "text": [
            "0.8370879772350012\n",
            "0.6511713705958311\n"
          ]
        }
      ]
    },
    {
      "cell_type": "markdown",
      "source": [
        "- 위 결과가 그리 좋지 않음 -> F1 score로 보완\n",
        "- **F1 score**: 정확도와 재현율을 하나의 수로 합친 조화 평균\n",
        "$$F1 = 2 \\times \\frac{정밀도\\times재현율}{정밀도+재현율}$$"
      ],
      "metadata": {
        "id": "G-Ho0V5Pxz2q"
      }
    },
    {
      "cell_type": "code",
      "source": [
        "from sklearn.metrics import f1_score\n",
        "f1_score(y_train_5,y_train_pred)"
      ],
      "metadata": {
        "colab": {
          "base_uri": "https://localhost:8080/"
        },
        "id": "laq6-Rabxnew",
        "outputId": "1e662d17-9872-40a4-bd1e-78a55574c5af"
      },
      "execution_count": 20,
      "outputs": [
        {
          "output_type": "execute_result",
          "data": {
            "text/plain": [
              "0.7325171197343846"
            ]
          },
          "metadata": {},
          "execution_count": 20
        }
      ]
    },
    {
      "cell_type": "markdown",
      "source": [
        "- 상황에 따라 정밀도와 재현율의 중요도가 다름\n",
        "- 정밀도/재현율 트레이드오프: 정밀도를 올리면 재현율이 내려가고, 정밀도를 내리면 재현율이 올라감"
      ],
      "metadata": {
        "id": "d_4IMd0Oz9D2"
      }
    },
    {
      "cell_type": "markdown",
      "source": [
        "#### **4) 정밀도/재현율 트레이드오프**"
      ],
      "metadata": {
        "id": "eC8N7zOw0PxX"
      }
    },
    {
      "cell_type": "markdown",
      "source": [
        "- SGDClassifier가 어떻게 분류를 결정하는지 살펴보기\n",
        "- 결정 함수\n",
        "  - 각 샘플의 점수를 계산함\n",
        "  - 점수 > 임계값: 샘플은 양성 클래스에 할당됨\n",
        "  - 점수 < 임계값: 샘플은 음성 클래스에 할당됨\n",
        "\n",
        "- 사이킷런에서 임계값을 지정하진 못함\n",
        "- 예측에 사용된 점수는 확인 가능함\n",
        "- decision_function() 사용하기"
      ],
      "metadata": {
        "id": "yEz-WBDF0SrS"
      }
    },
    {
      "cell_type": "code",
      "source": [
        "y_scores = sgd_clf.decision_function([some_digit])\n",
        "y_scores"
      ],
      "metadata": {
        "colab": {
          "base_uri": "https://localhost:8080/"
        },
        "id": "dIFt3rrEyXIO",
        "outputId": "06e4ab32-de97-4d13-eac5-927f9aba2851"
      },
      "execution_count": 21,
      "outputs": [
        {
          "output_type": "stream",
          "name": "stderr",
          "text": [
            "/usr/local/lib/python3.7/dist-packages/sklearn/base.py:451: UserWarning: X does not have valid feature names, but SGDClassifier was fitted with feature names\n",
            "  \"X does not have valid feature names, but\"\n"
          ]
        },
        {
          "output_type": "execute_result",
          "data": {
            "text/plain": [
              "array([2164.22030239])"
            ]
          },
          "metadata": {},
          "execution_count": 21
        }
      ]
    },
    {
      "cell_type": "code",
      "source": [
        "threshold = 0\n",
        "y_some_digit_pred = (y_scores > threshold)\n",
        "y_some_digit_pred"
      ],
      "metadata": {
        "colab": {
          "base_uri": "https://localhost:8080/"
        },
        "id": "maF9EShf1gx7",
        "outputId": "74195ccd-cdd2-495a-fd85-a5cd82a72df5"
      },
      "execution_count": 23,
      "outputs": [
        {
          "output_type": "execute_result",
          "data": {
            "text/plain": [
              "array([ True])"
            ]
          },
          "metadata": {},
          "execution_count": 23
        }
      ]
    },
    {
      "cell_type": "code",
      "source": [
        "# 임계값 높여보기\n",
        "threshold = 8000\n",
        "y_some_digit_pred = (y_scores > threshold)\n",
        "y_some_digit_pred"
      ],
      "metadata": {
        "colab": {
          "base_uri": "https://localhost:8080/"
        },
        "id": "QYlQwpgm1lYP",
        "outputId": "54df1bc2-bc01-4b59-e8e6-993d9d162dd7"
      },
      "execution_count": 24,
      "outputs": [
        {
          "output_type": "execute_result",
          "data": {
            "text/plain": [
              "array([False])"
            ]
          },
          "metadata": {},
          "execution_count": 24
        }
      ]
    },
    {
      "cell_type": "markdown",
      "source": [
        "- 적절한 임계값을 구하기 위해 cross_val_predict()를 사용해 훈련 세트에 있는 모든 샘플의 점수를 구해야 함\n",
        "- 예측 결과가 아닌 결정 점수를 반환받도록 지정해야함"
      ],
      "metadata": {
        "id": "JPqMIcpW1yfa"
      }
    },
    {
      "cell_type": "code",
      "source": [
        "y_scores = cross_val_predict(sgd_clf, X_train, y_train_5, cv=3,\n",
        "                             method = 'decision_function')"
      ],
      "metadata": {
        "id": "sFUb3Ief1uV3"
      },
      "execution_count": 25,
      "outputs": []
    },
    {
      "cell_type": "code",
      "source": [
        "from sklearn.metrics import precision_recall_curve\n",
        "\n",
        "precisions, recalls, thresholds = precision_recall_curve(y_train_5,y_scores)"
      ],
      "metadata": {
        "id": "79J44eeb3nHp"
      },
      "execution_count": 29,
      "outputs": []
    },
    {
      "cell_type": "code",
      "source": [
        "def plot_precision_recall_vs_threshold(precisions, recalls, thresholds):\n",
        "    plt.plot(thresholds, precisions[:-1], \"b--\", label=\"Precision\", linewidth=2) # 정밀도\n",
        "    plt.plot(thresholds, recalls[:-1], \"g-\", label=\"Recall\", linewidth=2) # 재현율\n",
        "\n",
        "    # 그래프 설정\n",
        "    plt.legend(loc=\"center right\", fontsize=16) \n",
        "    plt.xlabel(\"Threshold\", fontsize=16)        \n",
        "    plt.grid(True)                              \n",
        "    plt.axis([-50000, 50000, 0, 1]) \n",
        "\n",
        "plot_precision_recall_vs_threshold(precisions,recalls,thresholds)\n",
        "plt.show()"
      ],
      "metadata": {
        "colab": {
          "base_uri": "https://localhost:8080/",
          "height": 288
        },
        "id": "K8iOOMC73wHK",
        "outputId": "b1c22bee-cba9-4452-dee6-d7b9e4524d44"
      },
      "execution_count": 30,
      "outputs": [
        {
          "output_type": "display_data",
          "data": {
            "text/plain": [
              "<Figure size 432x288 with 1 Axes>"
            ],
            "image/png": "[encoded data removed]"
          },
          "metadata": {
            "needs_background": "light"
          }
        }
      ]
    },
    {
      "cell_type": "code",
      "source": [
        "# np.argmax: 최대값의 첫번째 인덱스 반환 (첫번째 true 값)\n",
        "threshold_90_precision = thresholds[np.argmax(precisions >= 0.90)]\n",
        "threshold_90_precision"
      ],
      "metadata": {
        "colab": {
          "base_uri": "https://localhost:8080/"
        },
        "id": "seoMtdjb4Iwn",
        "outputId": "16721029-92b5-43dd-f62d-2fee647833b7"
      },
      "execution_count": 31,
      "outputs": [
        {
          "output_type": "execute_result",
          "data": {
            "text/plain": [
              "3370.019499143958"
            ]
          },
          "metadata": {},
          "execution_count": 31
        }
      ]
    },
    {
      "cell_type": "code",
      "source": [
        "# 훈련 세트에 대한 정밀도가 90% 이상이 되도록 예측하기\n",
        "y_train_pred_90 = (y_scores >= threshold_90_precision)"
      ],
      "metadata": {
        "id": "zjgJFCZL4SlV"
      },
      "execution_count": 32,
      "outputs": []
    },
    {
      "cell_type": "code",
      "source": [
        "print(precision_score(y_train_5, y_train_pred_90))\n",
        "print(recall_score(y_train_5, y_train_pred_90)) # 재현율 너무 낮음 -> 유용하지 x"
      ],
      "metadata": {
        "colab": {
          "base_uri": "https://localhost:8080/"
        },
        "id": "o1LDkSV34hON",
        "outputId": "ea4d3c0f-f9fa-4241-c9c9-cd4f9bb61701"
      },
      "execution_count": 33,
      "outputs": [
        {
          "output_type": "stream",
          "name": "stdout",
          "text": [
            "0.9000345901072293\n",
            "0.4799852425751706\n"
          ]
        }
      ]
    },
    {
      "cell_type": "markdown",
      "source": [
        "#### **5) ROC 곡선**"
      ],
      "metadata": {
        "id": "Mmm6eB824pdu"
      }
    },
    {
      "cell_type": "markdown",
      "source": [
        "- ROC 곡선: 이진 분류에서 널리 사용하는 지표\n",
        "- 정밀도/재현율 곡선과 매우 비슷하지만, ROC 곡선은 정밀도에 대한 재현율 곡선이 아닌, **거짓 양성 비율(FPR)에 대한 진짜 양성 비율(TPR, 재현율)**의 곡선\n",
        " - **FPR**: **1 - TNR(진짜 음성 비율)**\n",
        " - **TNR**: **특이도(specificity)**\n",
        " - **민감도(재현율)에 대한 1-특이도 그래프**\n",
        "\n",
        "- **roc_curve()** 함수를 이용해 여러 임계값에 대한 TPR과 FPR을 계산해야함"
      ],
      "metadata": {
        "id": "gUVZS4Qu4vEx"
      }
    },
    {
      "cell_type": "code",
      "source": [
        "from sklearn.metrics import roc_curve\n",
        "\n",
        "fpr, tpr, thresholds = roc_curve(y_train_5, y_scores)"
      ],
      "metadata": {
        "id": "K6YwaCPq4kbi"
      },
      "execution_count": 34,
      "outputs": []
    },
    {
      "cell_type": "code",
      "source": [
        "def plot_roc_curve(fpr, tpr, label=None):\n",
        "    plt.plot(fpr, tpr, linewidth=2, label=label)\n",
        "\n",
        "    plt.plot([0, 1], [0, 1], 'k--') # 대각 점선\n",
        "    plt.axis([0, 1, 0, 1])  \n",
        "\n",
        "    plt.xlabel('거짓 양성 비율', fontsize=16) \n",
        "    plt.ylabel('진짜 양성 비율(재현율)', fontsize=16)\n",
        "    plt.grid(True)"
      ],
      "metadata": {
        "id": "P2r1XR1J5M3r"
      },
      "execution_count": 37,
      "outputs": []
    },
    {
      "cell_type": "code",
      "source": [
        "from sklearn.metrics import roc_auc_score\n",
        "roc_auc_score(y_train_5,y_scores)"
      ],
      "metadata": {
        "colab": {
          "base_uri": "https://localhost:8080/"
        },
        "id": "nekAiQdy5ifv",
        "outputId": "ae8beb3c-89b5-42fe-b389-0b9cadcffb03"
      },
      "execution_count": 39,
      "outputs": [
        {
          "output_type": "execute_result",
          "data": {
            "text/plain": [
              "0.9604938554008616"
            ]
          },
          "metadata": {},
          "execution_count": 39
        }
      ]
    },
    {
      "cell_type": "code",
      "source": [
        "from sklearn.ensemble import RandomForestClassifier\n",
        "\n",
        "forest_clf = RandomForestClassifier(n_estimators=100, random_state=42)\n",
        "\n",
        "# predict_proba : 샘플이 주어진 클래스에 속할 확률을 담은 배열을 반환\n",
        "y_probas_forest = cross_val_predict(forest_clf, X_train, y_train_5, cv=3, method=\"predict_proba\")"
      ],
      "metadata": {
        "id": "0Aao24bq5OL1"
      },
      "execution_count": 40,
      "outputs": []
    },
    {
      "cell_type": "code",
      "source": [
        "y_scores_forest = y_probas_forest[:, 1] # 양성 클래스에 대한 확률을 점수로 사용\n",
        "fpr_forest, tpr_forest, thresholds_forest = roc_curve(y_train_5,y_scores_forest)"
      ],
      "metadata": {
        "id": "OweRl9sO5PaK"
      },
      "execution_count": null,
      "outputs": []
    },
    {
      "cell_type": "code",
      "source": [
        "plt.plot(fpr, tpr, 'b:', label = 'SGD')\n",
        "plot_roc_curve(fpr_forest, tpr_forest, 'RandomForest')\n",
        "plt.legend(loc = 'lower right')\n",
        "\n",
        "plt.show()"
      ],
      "metadata": {
        "id": "7KuhR96S5zAY"
      },
      "execution_count": null,
      "outputs": []
    },
    {
      "cell_type": "code",
      "source": [
        "roc_auc_score(y_train_5, y_scores_forest)"
      ],
      "metadata": {
        "id": "6-ZT7NL05y6R"
      },
      "execution_count": null,
      "outputs": []
    },
    {
      "cell_type": "markdown",
      "source": [
        "### **4) 다중 분류**\n",
        "---"
      ],
      "metadata": {
        "id": "1orW9-_458kI"
      }
    },
    {
      "cell_type": "markdown",
      "source": [
        "- **다중 분류기(multiclass classifier)** 혹은 **다항 분류기(multinomial classifier)**은 둘 이상의 클래스를 구별 가능\n",
        "- `SGDClassifier`, `RandomForestClassifier` 등 일부 알고리즘: 여러 개의 클래스를 직접 분류할 수 있는 반면, 로지스틱 회귀나 서포트 벡터 머신 등은 이진 분류만 가능\n",
        "- 이진 분류기를 여러 개 사용-> 다중 클래스를 분류 가능\n",
        " - **OvR(혹은 OvA)** : 각 클래스 별 이진 분류기를 만들고, 분류기의 결정 점수 중 가장 높은 것을 클래스로 선택하는 기법\n",
        " - **OvO** : 각 클래스 조합마다 이진 분류기를 훈련시키는 방법. 클래스가 N개라면, 분류기는 $N \\times (N-1) /2$개 필요. 모든 분류기를 활용하여, 가장 많이 양성으로 분류된 클래스를 선택\n",
        " - 서포트 벡터 머신 같은 일부 알고리즘은 훈련 세트의 크기에 민감하여, 작은 훈련 세트에서 많은 분류기를 훈련시키는 쪽이 빨라 OvO를 선호\n",
        " - 하지만 대부분의 이진 분류 알고리즘에서는 OvR을 선호\n",
        "\n",
        "- 다중 클래스 분류 작업에 이진 분류 알고리즘을 선택 -> 사이킷런이 알고리즘에 따라 자동으로 OvR 혹은 OvO를 실행함"
      ],
      "metadata": {
        "id": "gjg65JEO5_PG"
      }
    },
    {
      "cell_type": "code",
      "source": [
        "# 서포트 벡터 머신\n",
        "from sklearn.svm import SVC\n",
        "\n",
        "svm_clf = SVC(gamma=\"auto\", random_state=42)\n",
        "svm_clf.fit(X_train[:1000], y_train[:1000]) # y_train_5이 아니라 y_train\n",
        "svm_clf.predict([some_digit])"
      ],
      "metadata": {
        "id": "EHtv-qcN5yxN"
      },
      "execution_count": null,
      "outputs": []
    },
    {
      "cell_type": "code",
      "source": [
        "some_digit_scores = svm_clf.decision_function([some_digit])\n",
        "some_digit_scores "
      ],
      "metadata": {
        "id": "BOCPiO0453eX"
      },
      "execution_count": null,
      "outputs": []
    },
    {
      "cell_type": "code",
      "source": [
        "np.argmax(some_digit_scores) # 가장 높은 점수가 class 5"
      ],
      "metadata": {
        "id": "f4ec7hmL53cc"
      },
      "execution_count": null,
      "outputs": []
    },
    {
      "cell_type": "code",
      "source": [
        "svm_clf.classes_[5]"
      ],
      "metadata": {
        "id": "x1f_dIZs53Zw"
      },
      "execution_count": null,
      "outputs": []
    },
    {
      "cell_type": "code",
      "source": [
        "from sklearn.multiclass import OneVsRestClassifier\n",
        "\n",
        "ovr_clf = OneVsRestClassifier(SVC(gamma=\"auto\", random_state=42))\n",
        "ovr_clf.fit(X_train[:1000], y_train[:1000])\n",
        "ovr_clf.predict([some_digit])"
      ],
      "metadata": {
        "id": "S2cibYJq53XE"
      },
      "execution_count": null,
      "outputs": []
    },
    {
      "cell_type": "code",
      "source": [
        "len(ovr_clf.estimators_)"
      ],
      "metadata": {
        "id": "RDb5lt9D53Q5"
      },
      "execution_count": null,
      "outputs": []
    },
    {
      "cell_type": "code",
      "source": [
        "sgd_clf.fit(X_train, y_train)\n",
        "sgd_clf.predict([some_digit])"
      ],
      "metadata": {
        "id": "dKVC86316kW1"
      },
      "execution_count": null,
      "outputs": []
    },
    {
      "cell_type": "code",
      "source": [
        "sgd_clf.decision_function([some_digit])"
      ],
      "metadata": {
        "id": "ur3ZaVkL6kGc"
      },
      "execution_count": null,
      "outputs": []
    },
    {
      "cell_type": "code",
      "source": [
        "cross_val_score(sgd_clf, X_train, y_train, cv=3, scoring=\"accuracy\")"
      ],
      "metadata": {
        "id": "lUk8Hw1C6ncw"
      },
      "execution_count": null,
      "outputs": []
    },
    {
      "cell_type": "code",
      "source": [
        "from sklearn.preprocessing import StandardScaler\n",
        "\n",
        "scaler = StandardScaler()\n",
        "X_train_scaled = scaler.fit_transform(X_train.astype(np.float64))\n",
        "cross_val_score(sgd_clf, X_train_scaled, y_train, cv=3, scoring=\"accuracy\")"
      ],
      "metadata": {
        "id": "it61atXm6nbH"
      },
      "execution_count": null,
      "outputs": []
    },
    {
      "cell_type": "markdown",
      "source": [
        "### **5) 에러 분석**\n",
        "---"
      ],
      "metadata": {
        "id": "5-oLtHvo6smK"
      }
    },
    {
      "cell_type": "markdown",
      "source": [
        "- 실제 프로젝트라면 머신러닝 프로젝트 체크리스트의 단계를 따를 것이다.\n",
        "  + 데이터 준비 단계에서 가능한 선택 사항을 탐색\n",
        "  + 여러 모델을 시도\n",
        "  + 가장 좋은 몇 개를 골라 GridSearchCV를 사용해 하이퍼 파라미터 튜닝\n",
        "- 여기서는 가능성이 높은 모델을 하나 찾았다고 가정하고, 이 모델의 성능을 향상시키는 방법을 찾아보도록 하자.\n",
        "- 그 중 한 가지 방법이 에러의 종류를 분석하는 것이다.\n",
        "- 먼저 오차 행렬을 살펴보자.\n",
        "  + `cross_val_predict()` 함수를 사용해 예측을 만든다.\n",
        "  + `confusion_matrix()`함수를 호출한다."
      ],
      "metadata": {
        "id": "9XDAWsSb6vSw"
      }
    },
    {
      "cell_type": "code",
      "source": [
        "y_train_pred = cross_val_predict(sgd_clf, X_train_scaled, y_train, cv=3)\n",
        "conf_mx = confusion_matrix(y_train, y_train_pred)\n",
        "conf_mx"
      ],
      "metadata": {
        "id": "1BmDx2la6nY1"
      },
      "execution_count": null,
      "outputs": []
    },
    {
      "cell_type": "code",
      "source": [
        "# matplotlib을 사용해 이미지로 표현\n",
        "plt.matshow(conf_mx, cmap=plt.cm.gray)\n",
        "plt.show()"
      ],
      "metadata": {
        "id": "VSlDbd586nWV"
      },
      "execution_count": null,
      "outputs": []
    },
    {
      "cell_type": "code",
      "source": [
        "row_sums = conf_mx.sum(axis=1, keepdims=True)\n",
        "norm_conf_mx = conf_mx / row_sums"
      ],
      "metadata": {
        "id": "0331v9U56nUO"
      },
      "execution_count": null,
      "outputs": []
    },
    {
      "cell_type": "code",
      "source": [
        "np.fill_diagonal(norm_conf_mx, 0)\n",
        "plt.matshow(norm_conf_mx, cmap=plt.cm.gray)\n",
        "plt.show()"
      ],
      "metadata": {
        "id": "f7xZ2WCw64Fd"
      },
      "execution_count": null,
      "outputs": []
    },
    {
      "cell_type": "code",
      "source": [
        "# 숫자 그림을 위한 함수\n",
        "def plot_digits(instances, images_per_row=10, **options):\n",
        "    size = 28\n",
        "    images_per_row = min(len(instances), images_per_row)\n",
        "    # n_rows = ceil(len(instances) / images_per_row) 와 동일\n",
        "    n_rows = (len(instances) - 1) // images_per_row + 1\n",
        "\n",
        "    # 필요하면 그리드 끝을 채우기 위해 빈 이미지를 추가\n",
        "    n_empty = n_rows * images_per_row - len(instances)\n",
        "    padded_instances = np.concatenate([instances, np.zeros((n_empty, size * size))], axis=0)\n",
        "\n",
        "    # 배열의 크기를 바꾸어 28×28 이미지를 담은 그리드로 구성\n",
        "    image_grid = padded_instances.reshape((n_rows, images_per_row, size, size))\n",
        "\n",
        "    # 축 0(이미지 그리드의 수직축)과 2(이미지의 수직축)를 합치고 축 1과 3(두 수평축)을 합침\n",
        "    # 먼저 transpose()를 사용해 결합하려는 축을 옆으로 이동한 다음 합침\n",
        "    big_image = image_grid.transpose(0, 2, 1, 3).reshape(n_rows * size,\n",
        "                                                         images_per_row * size)\n",
        "    # 하나의 큰 이미지를 얻었으므로 출력\n",
        "    plt.imshow(big_image, cmap = mpl.cm.binary, **options)\n",
        "    plt.axis(\"off\")"
      ],
      "metadata": {
        "id": "L7dWG1ok63yC"
      },
      "execution_count": null,
      "outputs": []
    },
    {
      "cell_type": "code",
      "source": [
        "cl_a, cl_b = 3, 5\n",
        "X_aa = X_train[(y_train == cl_a) & (y_train_pred == cl_a)]\n",
        "X_ab = X_train[(y_train == cl_a) & (y_train_pred == cl_b)]\n",
        "X_ba = X_train[(y_train == cl_b) & (y_train_pred == cl_a)]\n",
        "X_bb = X_train[(y_train == cl_b) & (y_train_pred == cl_b)]"
      ],
      "metadata": {
        "id": "4b7jQ8jX64C9"
      },
      "execution_count": null,
      "outputs": []
    },
    {
      "cell_type": "code",
      "source": [
        "plt.figure(figsize=(8,8))\n",
        "\n",
        "plt.subplot(221); plot_digits(X_aa[:25], images_per_row=5)\n",
        "plt.subplot(222); plot_digits(X_ab[:25], images_per_row=5)\n",
        "plt.subplot(223); plot_digits(X_ba[:25], images_per_row=5)\n",
        "plt.subplot(224); plot_digits(X_bb[:25], images_per_row=5)\n",
        "\n",
        "plt.show()"
      ],
      "metadata": {
        "id": "MymYkfyF6921"
      },
      "execution_count": null,
      "outputs": []
    },
    {
      "cell_type": "markdown",
      "source": [
        "### **6) 다중 레이블 분류**\n",
        "---"
      ],
      "metadata": {
        "id": "8Hv9VBtE7Bey"
      }
    },
    {
      "cell_type": "code",
      "source": [
        "from sklearn.neighbors import KNeighborsClassifier\n",
        "\n",
        "y_train_large = (y_train >= 7)\n",
        "y_train_odd = (y_train % 2 == 1)\n",
        "y_multilabel = np.c_[y_train_large, y_train_odd]\n",
        "\n",
        "knn_clf = KNeighborsClassifier()\n",
        "knn_clf.fit(X_train, y_multilabel)"
      ],
      "metadata": {
        "id": "Lsjf5Acg7Eu6"
      },
      "execution_count": null,
      "outputs": []
    },
    {
      "cell_type": "code",
      "source": [
        "knn_clf.predict([some_digit])"
      ],
      "metadata": {
        "id": "TYh29RLD7FW-"
      },
      "execution_count": null,
      "outputs": []
    },
    {
      "cell_type": "code",
      "source": [
        "y_train_knn_pred = cross_val_predict(knn_clf, X_train, y_multilabel, cv=3)\n",
        "f1_score(y_multilabel, y_train_knn_pred, average=\"macro\")"
      ],
      "metadata": {
        "id": "A6og_txM7FUe"
      },
      "execution_count": null,
      "outputs": []
    },
    {
      "cell_type": "markdown",
      "source": [
        "### **7) 다중 출력 분류**\n",
        "---"
      ],
      "metadata": {
        "id": "wHOeScgn7KNS"
      }
    },
    {
      "cell_type": "code",
      "source": [
        "noise = np.random.randint(0, 100, (len(X_train), 784))\n",
        "X_train_mod = X_train + noise\n",
        "noise = np.random.randint(0, 100, (len(X_test), 784))\n",
        "X_test_mod = X_test + noise\n",
        "y_train_mod = X_train\n",
        "y_test_mod = X_test"
      ],
      "metadata": {
        "id": "ee45vh_x7FSQ"
      },
      "execution_count": null,
      "outputs": []
    },
    {
      "cell_type": "code",
      "source": [
        "some_index = 0"
      ],
      "metadata": {
        "id": "wMmEwaCC7FQM"
      },
      "execution_count": null,
      "outputs": []
    },
    {
      "cell_type": "code",
      "source": [
        "# 숫자 이미지를 그리는 함수\n",
        "def plot_digit(data):\n",
        "    image = data.reshape(28, 28)\n",
        "    plt.imshow(image, cmap = mpl.cm.binary,\n",
        "               interpolation=\"nearest\")\n",
        "    plt.axis(\"off\")"
      ],
      "metadata": {
        "id": "OVyKt7Th7FNk"
      },
      "execution_count": null,
      "outputs": []
    },
    {
      "cell_type": "code",
      "source": [
        "knn_clf.fit(X_train_mod, y_train_mod)\n",
        "clean_digit = knn_clf.predict([X_test_mod[some_index]])\n",
        "plot_digit(clean_digit)"
      ],
      "metadata": {
        "id": "2mLV78cQ7FL2"
      },
      "execution_count": null,
      "outputs": []
    }
  ]
}