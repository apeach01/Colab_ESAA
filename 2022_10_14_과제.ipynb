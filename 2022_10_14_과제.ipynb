{
  "nbformat": 4,
  "nbformat_minor": 0,
  "metadata": {
    "colab": {
      "provenance": [],
      "authorship_tag": "ABX9TyPmRE31DN6Eaq8F3XpBJZCC",
      "include_colab_link": true
    },
    "kernelspec": {
      "name": "python3",
      "display_name": "Python 3"
    },
    "language_info": {
      "name": "python"
    }
  },
  "cells": [
    {
      "cell_type": "markdown",
      "metadata": {
        "id": "view-in-github",
        "colab_type": "text"
      },
      "source": [
        "<a href=\"https://colab.research.google.com/github/jackie-Gung/Colab_ESAA/blob/main/2022_10_14_%EA%B3%BC%EC%A0%9C.ipynb\" target=\"_parent\"><img src=\"https://colab.research.google.com/assets/colab-badge.svg\" alt=\"Open In Colab\"/></a>"
      ]
    },
    {
      "cell_type": "markdown",
      "source": [
        "## **Chapter 8. 텍스트 분석**\n",
        "---"
      ],
      "metadata": {
        "id": "blEIxM66zgey"
      }
    },
    {
      "cell_type": "markdown",
      "source": [
        "### **04. 텍스트 분류 실습 - 20 뉴스그룹 분류**\n",
        "---"
      ],
      "metadata": {
        "id": "6k_bSedjzWb8"
      }
    },
    {
      "cell_type": "markdown",
      "source": [
        "- **개요**\n",
        "  - 텍스트 피처 벡터화\n",
        "  - 희소 행렬 형태\n",
        "  - 알고리즘: 로지스틱 회귀, 선형 서포트 벡터 머신,  나이브 베이즈"
      ],
      "metadata": {
        "id": "p3J5PCuczWZT"
      }
    },
    {
      "cell_type": "markdown",
      "source": [
        "#### **1. 텍스트 정규화**"
      ],
      "metadata": {
        "id": "xTuKrDWF3sxL"
      }
    },
    {
      "cell_type": "code",
      "source": [
        "from sklearn.datasets import fetch_20newsgroups\n",
        "news_data = fetch_20newsgroups(subset='all',random_state=156)"
      ],
      "metadata": {
        "id": "sffbkjHzzWGn"
      },
      "execution_count": 1,
      "outputs": []
    },
    {
      "cell_type": "code",
      "execution_count": 2,
      "metadata": {
        "colab": {
          "base_uri": "https://localhost:8080/"
        },
        "id": "s2c8pczDzHUa",
        "outputId": "48e23b40-551e-44ca-9a13-56a20dd1e06c"
      },
      "outputs": [
        {
          "output_type": "stream",
          "name": "stdout",
          "text": [
            "dict_keys(['data', 'filenames', 'target_names', 'target', 'DESCR'])\n"
          ]
        }
      ],
      "source": [
        "print(news_data.keys())"
      ]
    },
    {
      "cell_type": "code",
      "source": [
        "import pandas as pd\n",
        "print('target 클래스의 값과 분포도\\n', pd.Series(news_data.target).value_counts().sort_index())\n",
        "print('target 클래스의 이름들\\n', news_data.target_names)"
      ],
      "metadata": {
        "colab": {
          "base_uri": "https://localhost:8080/"
        },
        "id": "YcfoxV_K4Akb",
        "outputId": "a8ec0fb4-67d0-483d-af47-026c120d7e23"
      },
      "execution_count": 3,
      "outputs": [
        {
          "output_type": "stream",
          "name": "stdout",
          "text": [
            "target 클래스의 값과 분포도\n",
            " 0     799\n",
            "1     973\n",
            "2     985\n",
            "3     982\n",
            "4     963\n",
            "5     988\n",
            "6     975\n",
            "7     990\n",
            "8     996\n",
            "9     994\n",
            "10    999\n",
            "11    991\n",
            "12    984\n",
            "13    990\n",
            "14    987\n",
            "15    997\n",
            "16    910\n",
            "17    940\n",
            "18    775\n",
            "19    628\n",
            "dtype: int64\n",
            "target 클래스의 이름들\n",
            " ['alt.atheism', 'comp.graphics', 'comp.os.ms-windows.misc', 'comp.sys.ibm.pc.hardware', 'comp.sys.mac.hardware', 'comp.windows.x', 'misc.forsale', 'rec.autos', 'rec.motorcycles', 'rec.sport.baseball', 'rec.sport.hockey', 'sci.crypt', 'sci.electronics', 'sci.med', 'sci.space', 'soc.religion.christian', 'talk.politics.guns', 'talk.politics.mideast', 'talk.politics.misc', 'talk.religion.misc']\n"
          ]
        }
      ]
    },
    {
      "cell_type": "code",
      "source": [
        "# 개별 데이터가 텍스트로 어떻게 구성되어 있는지 확인하기\n",
        "print(news_data.data[0])"
      ],
      "metadata": {
        "colab": {
          "base_uri": "https://localhost:8080/"
        },
        "id": "Wu2eBisX4lrw",
        "outputId": "603748db-980e-410c-ba39-84c8a779fb90"
      },
      "execution_count": 4,
      "outputs": [
        {
          "output_type": "stream",
          "name": "stdout",
          "text": [
            "From: egreen@east.sun.com (Ed Green - Pixel Cruncher)\n",
            "Subject: Re: Observation re: helmets\n",
            "Organization: Sun Microsystems, RTP, NC\n",
            "Lines: 21\n",
            "Distribution: world\n",
            "Reply-To: egreen@east.sun.com\n",
            "NNTP-Posting-Host: laser.east.sun.com\n",
            "\n",
            "In article 211353@mavenry.altcit.eskimo.com, maven@mavenry.altcit.eskimo.com (Norman Hamer) writes:\n",
            "> \n",
            "> The question for the day is re: passenger helmets, if you don't know for \n",
            ">certain who's gonna ride with you (like say you meet them at a .... church \n",
            ">meeting, yeah, that's the ticket)... What are some guidelines? Should I just \n",
            ">pick up another shoei in my size to have a backup helmet (XL), or should I \n",
            ">maybe get an inexpensive one of a smaller size to accomodate my likely \n",
            ">passenger? \n",
            "\n",
            "If your primary concern is protecting the passenger in the event of a\n",
            "crash, have him or her fitted for a helmet that is their size.  If your\n",
            "primary concern is complying with stupid helmet laws, carry a real big\n",
            "spare (you can put a big or small head in a big helmet, but not in a\n",
            "small one).\n",
            "\n",
            "---\n",
            "Ed Green, former Ninjaite |I was drinking last night with a biker,\n",
            "  Ed.Green@East.Sun.COM   |and I showed him a picture of you.  I said,\n",
            "DoD #0111  (919)460-8302  |\"Go on, get to know her, you'll like her!\"\n",
            " (The Grateful Dead) -->  |It seemed like the least I could do...\n",
            "\n",
            "\n"
          ]
        }
      ]
    },
    {
      "cell_type": "markdown",
      "source": [
        "- **분석**\n",
        "      1. 뉴스그룹 기사의 내용과 제목, 작성자, 소속, 이메일 등 다양한 전보를 가짐\n",
        "      2. 내용을 제외한 다른 정보는 제거하기\n",
        "         -> 제목, 소속 등 헤더와 푸터 정보들은 target 클래스 값과 유사한 경우가 많기 때문\n",
        "         -> 이러한 정보를 포함하게 되면 예측 성능이 좋기 때문에 텍스트 분석의 의도를 벗어남"
      ],
      "metadata": {
        "id": "rveSP_Si53sH"
      }
    },
    {
      "cell_type": "code",
      "source": [
        "from sklearn.datasets import fetch_20newsgroups"
      ],
      "metadata": {
        "id": "pj7Gm3Sa64On"
      },
      "execution_count": 12,
      "outputs": []
    },
    {
      "cell_type": "code",
      "source": [
        "# 헤더와 푸터 정보 제거하기\n",
        "## subset ='train'으로 학습용 데이터만 추출\n",
        "## remove = ('headers','footers','quotes') 내용만 추출\n",
        "\n",
        "train_news = fetch_20newsgroups(subset='train',remove=('headers','footers','quotes'), random_state=156)\n",
        "X_train = train_news.data\n",
        "y_train = train_news.target\n",
        "\n",
        "## remove = ('headers','footers','quotes') 내용만 추출\n",
        "\n",
        "test_news = fetch_20newsgroups(subset='test',remove=('headers','footers','quotes'), random_state=156)\n",
        "X_test = test_news.data\n",
        "y_test = test_news.target"
      ],
      "metadata": {
        "id": "qaFHuEOp5Viw"
      },
      "execution_count": 13,
      "outputs": []
    },
    {
      "cell_type": "code",
      "source": [
        "print('학습 데이터 크기 {0}, 테스트 데이터 크기 {1}'.format(len(train_news.data),len(test_news.data)))"
      ],
      "metadata": {
        "colab": {
          "base_uri": "https://localhost:8080/"
        },
        "id": "pvLnMmkO6yI3",
        "outputId": "ce9eed1a-3b0d-4eb7-dfe0-10715b4d1477"
      },
      "execution_count": 14,
      "outputs": [
        {
          "output_type": "stream",
          "name": "stdout",
          "text": [
            "학습 데이터 크기 11314, 테스트 데이터 크기 7532\n"
          ]
        }
      ]
    },
    {
      "cell_type": "markdown",
      "source": [
        "#### **2. 피처 벡터화 변환 및 머신러닝 모델 학습/예측/평가**"
      ],
      "metadata": {
        "id": "Bj1bffFV8And"
      }
    },
    {
      "cell_type": "markdown",
      "source": [
        "##### **1) Count 기반**"
      ],
      "metadata": {
        "id": "LkmX9NHXAKtT"
      }
    },
    {
      "cell_type": "code",
      "source": [
        "from sklearn.feature_extraction.text import CountVectorizer"
      ],
      "metadata": {
        "id": "swEMe1DA9bLk"
      },
      "execution_count": 17,
      "outputs": []
    },
    {
      "cell_type": "code",
      "source": [
        "# Count Vectorization으로 피처 벡터화 변환 수행하기\n",
        "cnt_vect = CountVectorizer()\n",
        "cnt_vect.fit(X_train)\n",
        "X_train_cnt_vect = cnt_vect.transform(X_train)"
      ],
      "metadata": {
        "id": "9DW2OkFe6yGp"
      },
      "execution_count": 16,
      "outputs": []
    },
    {
      "cell_type": "code",
      "source": [
        "# 학습 데이터로 fit된 c.v를 이용해 테스트 데이터를 피처 벡처화 변환 수행하기\n",
        "X_test_cnt_vect = cnt_vect.transform(X_test)\n",
        "print('학습 데이터 텍스트의 CountVectorizer Shape: ', X_train_cnt_vect.shape)"
      ],
      "metadata": {
        "colab": {
          "base_uri": "https://localhost:8080/"
        },
        "id": "EvGje9Y36yEl",
        "outputId": "c063e826-4b15-4a30-d24f-23ae5c640e20"
      },
      "execution_count": 18,
      "outputs": [
        {
          "output_type": "stream",
          "name": "stdout",
          "text": [
            "학습 데이터 텍스트의 CountVectorizer Shape:  (11314, 101631)\n"
          ]
        }
      ]
    },
    {
      "cell_type": "code",
      "source": [
        "from sklearn.linear_model import LogisticRegression\n",
        "from sklearn.metrics import accuracy_score"
      ],
      "metadata": {
        "id": "x-AsuGVa_LmE"
      },
      "execution_count": 19,
      "outputs": []
    },
    {
      "cell_type": "code",
      "source": [
        "# 로지스틱 회귀 적용하여 예측하기\n",
        "lr_clf = LogisticRegression()\n",
        "lr_clf.fit(X_train_cnt_vect,y_train)\n",
        "pred = lr_clf.predict(X_test_cnt_vect)\n",
        "print('CountVectorized logistic Regression 예측 정확도: {0:.3f}'.format(accuracy_score(y_test,pred)))"
      ],
      "metadata": {
        "colab": {
          "base_uri": "https://localhost:8080/"
        },
        "id": "XJ-_JI9q6yCP",
        "outputId": "3cd119d7-8060-466f-e8c8-eca952ad1162"
      },
      "execution_count": 20,
      "outputs": [
        {
          "output_type": "stream",
          "name": "stdout",
          "text": [
            "CountVectorized logistic Regression 예측 정확도: 0.608\n"
          ]
        },
        {
          "output_type": "stream",
          "name": "stderr",
          "text": [
            "/usr/local/lib/python3.7/dist-packages/sklearn/linear_model/_logistic.py:818: ConvergenceWarning: lbfgs failed to converge (status=1):\n",
            "STOP: TOTAL NO. of ITERATIONS REACHED LIMIT.\n",
            "\n",
            "Increase the number of iterations (max_iter) or scale the data as shown in:\n",
            "    https://scikit-learn.org/stable/modules/preprocessing.html\n",
            "Please also refer to the documentation for alternative solver options:\n",
            "    https://scikit-learn.org/stable/modules/linear_model.html#logistic-regression\n",
            "  extra_warning_msg=_LOGISTIC_SOLVER_CONVERGENCE_MSG,\n"
          ]
        }
      ]
    },
    {
      "cell_type": "markdown",
      "source": [
        "##### **2) TF-IDF 기반**"
      ],
      "metadata": {
        "id": "tvvIRs2UAQ79"
      }
    },
    {
      "cell_type": "code",
      "source": [
        "from sklearn.feature_extraction.text import TfidfVectorizer"
      ],
      "metadata": {
        "id": "ASNAVRC2_mjT"
      },
      "execution_count": 21,
      "outputs": []
    },
    {
      "cell_type": "code",
      "source": [
        "tfidf_vect = TfidfVectorizer()\n",
        "tfidf_vect.fit(X_train)\n",
        "X_train_tfidf_vect = tfidf_vect.transform(X_train)\n",
        "X_test_tfidf_vect = tfidf_vect.transform(X_test)\n",
        "\n",
        "lr_clf = LogisticRegression()\n",
        "lr_clf.fit(X_train_tfidf_vect, y_train)\n",
        "pred = lr_clf.predict(X_test_tfidf_vect)\n",
        "print('TF-IDF L.R 예측 정화도: {0:.3f}'.format(accuracy_score(y_test,pred)))"
      ],
      "metadata": {
        "colab": {
          "base_uri": "https://localhost:8080/"
        },
        "id": "RZqelrYD_iOD",
        "outputId": "a1072e28-7129-41ae-e316-037e078996b6"
      },
      "execution_count": 22,
      "outputs": [
        {
          "output_type": "stream",
          "name": "stdout",
          "text": [
            "TF-IDF L.R 예측 정화도: 0.674\n"
          ]
        }
      ]
    },
    {
      "cell_type": "markdown",
      "source": [
        "- **텍스트 분석에서 머신러닝 모델의 성능을 향상시키는 방법**\n",
        "  - 최적의 ML 알고리즘 선택\n",
        "  - 최상의 피처 전처리 수행"
      ],
      "metadata": {
        "id": "z-sFyL3bBCx4"
      }
    },
    {
      "cell_type": "code",
      "source": [
        "# stop words 필터링 추가 / ngram 기본에서 (1,2)로 변경 / 피처 벡터화 적용\n",
        "tfidf_vect = TfidfVectorizer(stop_words='english',ngram_range=(1,2),max_df=300)\n",
        "tfidf_vect.fit(X_train)\n",
        "X_train_tfidf_vect = tfidf_vect.transform(X_train)\n",
        "X_test_tfidf_vect = tfidf_vect.transform(X_test)"
      ],
      "metadata": {
        "id": "ZpROnANBBClQ"
      },
      "execution_count": 23,
      "outputs": []
    },
    {
      "cell_type": "code",
      "source": [
        "lr_clf = LogisticRegression()\n",
        "lr_clf.fit(X_train_tfidf_vect,y_train)\n",
        "pred = lr_clf.predict(X_test_tfidf_vect)\n",
        "print('TF-IDF Vectorized L.R 예측 정확도: {0:.3f}'.format(accuracy_score(y_test,pred)))"
      ],
      "metadata": {
        "colab": {
          "base_uri": "https://localhost:8080/"
        },
        "id": "28V3LjcWA5nE",
        "outputId": "f8c13956-3ab4-4a61-be24-42ffb11ded32"
      },
      "execution_count": 24,
      "outputs": [
        {
          "output_type": "stream",
          "name": "stdout",
          "text": [
            "TF-IDF Vectorized L.R 예측 정확도: 0.692\n"
          ]
        }
      ]
    },
    {
      "cell_type": "markdown",
      "source": [
        "##### **3) GridSearchCV**"
      ],
      "metadata": {
        "id": "0Jk76UXcCXV7"
      }
    },
    {
      "cell_type": "code",
      "source": [
        "from sklearn.model_selection import GridSearchCV\n",
        "\n",
        "params = {'C': [0.01,0.1,1,5,10]}\n",
        "grid_cv_lr = GridSearchCV(lr_clf,param_grid=params,cv=3,scoring='accuracy',verbose=1)\n",
        "grid_cv_lr.fit(X_train_tfidf_vect,y_train)\n",
        "print('L.R. best C parameter: ',grid_cv_lr.best_params)"
      ],
      "metadata": {
        "colab": {
          "base_uri": "https://localhost:8080/"
        },
        "id": "Fh6aaO-5CbB1",
        "outputId": "a4b191a4-2674-47cd-d17d-3bdee0b6cafd"
      },
      "execution_count": null,
      "outputs": [
        {
          "output_type": "stream",
          "name": "stdout",
          "text": [
            "Fitting 3 folds for each of 5 candidates, totalling 15 fits\n"
          ]
        }
      ]
    },
    {
      "cell_type": "code",
      "source": [
        "pred = grid_cv_lr.predict(X_test_tfidf_vect)\n",
        "print('TF-IDF Vectorized L.R 예측 정확도: {0:.3f}'.format(accuracy_score(y_test,pred)))"
      ],
      "metadata": {
        "id": "o0VR6oYPCa_y"
      },
      "execution_count": null,
      "outputs": []
    },
    {
      "cell_type": "markdown",
      "source": [
        "#### **3. 사이킷런 파이프라인 사용 및 GridSearchCV와의 결합**"
      ],
      "metadata": {
        "id": "S1nbzWuIDEXH"
      }
    },
    {
      "cell_type": "markdown",
      "source": [
        "##### **1) pipeline 기본**"
      ],
      "metadata": {
        "id": "lFJ1znKlFEdw"
      }
    },
    {
      "cell_type": "code",
      "source": [
        "from sklearn.pipeline import Pipeline"
      ],
      "metadata": {
        "id": "XzpHT8Z4ET7U"
      },
      "execution_count": null,
      "outputs": []
    },
    {
      "cell_type": "code",
      "source": [
        "pipeline = Pipeline([('tfidf_vect',TfidfVectorizer(stop_words='english',ngram_range=(1,2),max_df=300)),\n",
        "                     'lr_clf',LogisticRegression(C=10)])"
      ],
      "metadata": {
        "id": "gl-HEOJWCa9G"
      },
      "execution_count": null,
      "outputs": []
    },
    {
      "cell_type": "code",
      "source": [
        "pipeline.fit(X_train,y_train)\n",
        "pred = pipeline.predict(X_test)\n",
        "print(accuracy_score(y_test,pred))"
      ],
      "metadata": {
        "id": "bx_H6va_Ca6-"
      },
      "execution_count": null,
      "outputs": []
    },
    {
      "cell_type": "markdown",
      "source": [
        "##### **2) pipeline+GridSearchCv**"
      ],
      "metadata": {
        "id": "V0TmsTuEFGzq"
      }
    },
    {
      "cell_type": "code",
      "source": [
        "pipeline = Pipeline([('tfidf_vect',TfidfVectorizer(stop_words='english')),\n",
        "                     'lr_clf',LogisticRegression()])\n",
        "\n",
        "params = {'tfidf_vect_ngram_range':[(1,1),(1,2),(1,3)],\n",
        "          'tfidf_vect_max_df': [100,300,700],\n",
        "          'lr_clf_C':[1,5,10]}\n",
        "\n",
        "grid_cv_pipe = GridSearchCV(pipeline,param_grid=params,cv=3,scoring='accuracy',verbose=1)\n",
        "grid_cv_pipe.fit(X_train,y_train)\n",
        "print(grid_cv_pipe.best_params_, grid_cv_pipe.best_score_)\n",
        "pred = grid_cv_pipe.predict(X_test)\n",
        "print(accuracy_score(y_test,pred))"
      ],
      "metadata": {
        "id": "trHAs37KCakn"
      },
      "execution_count": null,
      "outputs": []
    }
  ]
}