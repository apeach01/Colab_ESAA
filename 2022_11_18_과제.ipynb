{
  "nbformat": 4,
  "nbformat_minor": 0,
  "metadata": {
    "colab": {
      "provenance": [],
      "authorship_tag": "ABX9TyOguqIa8gj/p/pCkA1gixB/",
      "include_colab_link": true
    },
    "kernelspec": {
      "name": "python3",
      "display_name": "Python 3"
    },
    "language_info": {
      "name": "python"
    }
  },
  "cells": [
    {
      "cell_type": "markdown",
      "metadata": {
        "id": "view-in-github",
        "colab_type": "text"
      },
      "source": [
        "<a href=\"https://colab.research.google.com/github/jackie-Gung/Colab_ESAA/blob/main/2022_11_18_%EA%B3%BC%EC%A0%9C.ipynb\" target=\"_parent\"><img src=\"https://colab.research.google.com/assets/colab-badge.svg\" alt=\"Open In Colab\"/></a>"
      ]
    },
    {
      "cell_type": "markdown",
      "source": [
        "## **Chapter 9. 추천 시스템**\n",
        "---"
      ],
      "metadata": {
        "id": "3sBw4CV-NC3x"
      }
    },
    {
      "cell_type": "markdown",
      "source": [
        "### **08. 파이썬 추천 시스템 패키지 - Surprise**\n",
        "---"
      ],
      "metadata": {
        "id": "fC4GgTtbNC1B"
      }
    },
    {
      "cell_type": "markdown",
      "source": [
        "#### **1. Surprise 패키지 소개**\n",
        "- 앞에서 다루었던 콘텐츠/아이템/잠재요인 기반 협업 필터링 코드는 최적화나 수행 속도면에서 보완이 필요함\n",
        "- 추천 시스템은 상업적으로 가치가 크기 때문에 별도의 패키지로 제공되면 활용도가 매우 높을 것으로 예상됨\n",
        "- 대표적인 추천 시스템 구축을 위한 전용 패키지\n",
        "- **Surprise 패키지 장점**\n",
        "  - 다양한 **추천 알고리즘**을 적용 가능함\n",
        "  - 사이킷런의 핵심 API와 유사하게 작성되어 **학습/테스트 데이터 분리, cross validation, GridSearchCV** 등 다양한 기능 제공함"
      ],
      "metadata": {
        "id": "AQLJjo0sNMMZ"
      }
    },
    {
      "cell_type": "code",
      "execution_count": 11,
      "metadata": {
        "colab": {
          "base_uri": "https://localhost:8080/"
        },
        "id": "-QmOtSxTM1Ql",
        "outputId": "ad2e1c45-4e36-4ba3-9b8e-8580938033c9"
      },
      "outputs": [
        {
          "output_type": "stream",
          "name": "stdout",
          "text": [
            "Looking in indexes: https://pypi.org/simple, https://us-python.pkg.dev/colab-wheels/public/simple/\n",
            "Requirement already satisfied: scikit-surprise in /usr/local/lib/python3.7/dist-packages (1.1.1)\n",
            "Requirement already satisfied: six>=1.10.0 in /usr/local/lib/python3.7/dist-packages (from scikit-surprise) (1.15.0)\n",
            "Requirement already satisfied: numpy>=1.11.2 in /usr/local/lib/python3.7/dist-packages (from scikit-surprise) (1.21.6)\n",
            "Requirement already satisfied: joblib>=0.11 in /usr/local/lib/python3.7/dist-packages (from scikit-surprise) (1.2.0)\n",
            "Requirement already satisfied: scipy>=1.0.0 in /usr/local/lib/python3.7/dist-packages (from scikit-surprise) (1.7.3)\n"
          ]
        }
      ],
      "source": [
        "!pip install scikit-surprise"
      ]
    },
    {
      "cell_type": "markdown",
      "source": [
        "#### **2. Surprise를 이용한 추천 시스템 구축**"
      ],
      "metadata": {
        "id": "Hc3MQTtzOHYd"
      }
    },
    {
      "cell_type": "code",
      "source": [
        "from surprise import SVD\n",
        "from surprise import Dataset\n",
        "from surprise import accuracy\n",
        "from surprise.model_selection import train_test_split"
      ],
      "metadata": {
        "id": "e7ud89CaNmcu"
      },
      "execution_count": 12,
      "outputs": []
    },
    {
      "cell_type": "code",
      "source": [
        "# 무비렌즈 링크 오류..-> 사이트 에러 뜸\n",
        "data = Dataset.load_builtin('ml-100k')"
      ],
      "metadata": {
        "id": "Pey_lsSnOU8J"
      },
      "execution_count": null,
      "outputs": []
    },
    {
      "cell_type": "code",
      "source": [
        "trainset, testset = train_test_split(data,test_size=0.25,random_state=0)"
      ],
      "metadata": {
        "id": "CXStelLdYiqq"
      },
      "execution_count": null,
      "outputs": []
    },
    {
      "cell_type": "code",
      "source": [
        "# SVD로 잠재 요인 협업 필터링 수행하기\n",
        "algo = SVD()\n",
        "algo.fit(trainset)"
      ],
      "metadata": {
        "id": "YH9BA1m5X0jl"
      },
      "execution_count": null,
      "outputs": []
    },
    {
      "cell_type": "markdown",
      "source": [
        "- **Surprise에서 추천을 예측하는 메서드**\n",
        "  - **test():** 사용자-아이템 평점 데이터 세트 전체에 대해 추천 예측\n",
        "  - **predict():** 개별 사용자와 영화에 대한 추천 평점 반환"
      ],
      "metadata": {
        "id": "iu1cG66WdZv1"
      }
    },
    {
      "cell_type": "markdown",
      "source": [
        "##### **1) test()**"
      ],
      "metadata": {
        "id": "THX-LHyfgDDj"
      }
    },
    {
      "cell_type": "code",
      "source": [
        "predictions = algo.test(testset)\n",
        "print('prediction type: ', type(predictions), 'size: ',len(predictions))\n",
        "print('prediction 결과 처음 5개 추출')\n",
        "predictions[:5]"
      ],
      "metadata": {
        "id": "IwJ3HVcWX0hl"
      },
      "execution_count": null,
      "outputs": []
    },
    {
      "cell_type": "markdown",
      "source": [
        "- **분석 결과**\n",
        "  - 호출 결과: 파이썬 list, 크기는 입력 인자 데이터세트 크기와 동일"
      ],
      "metadata": {
        "id": "oyWXn692fSIh"
      }
    },
    {
      "cell_type": "code",
      "source": [
        "[(pred.uid, pred.iid, pred.est) for pred in predictions[:3]]"
      ],
      "metadata": {
        "id": "Q_Mq_-yBX0fm"
      },
      "execution_count": null,
      "outputs": []
    },
    {
      "cell_type": "markdown",
      "source": [
        "##### **2) predict()**"
      ],
      "metadata": {
        "id": "D-0f2VHDgHsB"
      }
    },
    {
      "cell_type": "code",
      "source": [
        "# 사용자/아이템 아이디는 문자열로 입력하기\n",
        "uid = str(196)\n",
        "iid = str(302)\n",
        "pred = algo.predict(uid,iid)\n",
        "print(pred)"
      ],
      "metadata": {
        "id": "Qb_svrzqX0dn"
      },
      "execution_count": null,
      "outputs": []
    },
    {
      "cell_type": "markdown",
      "source": [
        "##### **3) 추천 예측 평점과 실제 평점과의 차이**"
      ],
      "metadata": {
        "id": "pBOCStHxgufr"
      }
    },
    {
      "cell_type": "code",
      "source": [
        "accuracy.rmse(predictions)"
      ],
      "metadata": {
        "id": "ltdseVimX0bg"
      },
      "execution_count": null,
      "outputs": []
    },
    {
      "cell_type": "markdown",
      "source": [
        "#### **3. Surprise 주요 모듈 소개**"
      ],
      "metadata": {
        "id": "TzF-Yt4Hg9ZJ"
      }
    },
    {
      "cell_type": "markdown",
      "source": [
        "##### **1) Dataset**\n",
        "    1. Surprise는 데이터가 모두 로우 레벨로 된 세트만 적용 가능함\n",
        "    2. 로우 레벨이 아닌 데이터는 로딩에서 제외됨\n",
        "    3. 꼭 무비렌즈에서 다운받은 데이터가 아니라도 판디스 dataframe에서도 로딩할 수 있음\n",
        "       * 칼럼순서가 반드시 사용자 아이디->아이템 아이디->평점 순이어야 함"
      ],
      "metadata": {
        "id": "c1B7KToehEar"
      }
    },
    {
      "cell_type": "markdown",
      "source": [
        "##### **2) OS 파일 데이터를 Surprise 데이터 세트로 로딩**\n",
        "- 데이터 파일에 칼럼명을 가지는 헤더 문자열이 있으면 안됨"
      ],
      "metadata": {
        "id": "3sL5N6Q4iWPo"
      }
    },
    {
      "cell_type": "code",
      "source": [
        "import pandas as pd"
      ],
      "metadata": {
        "id": "hxP5qt1cX0Y9"
      },
      "execution_count": 15,
      "outputs": []
    },
    {
      "cell_type": "code",
      "source": [
        "ratings = pd.read_csv('')\n",
        "ratings.to_csv('', index=False,header=False)"
      ],
      "metadata": {
        "id": "e6cNU7w3X0VV"
      },
      "execution_count": null,
      "outputs": []
    },
    {
      "cell_type": "code",
      "source": [
        "from surprise import Reader\n",
        "\n",
        "reader = Reader(line_format='user item rating timestamp', sep=',',rating_scale=(0.5,5))\n",
        "data = Dataset.load_from_file('', reader=reader)"
      ],
      "metadata": {
        "id": "4bN9ylvSX0S_"
      },
      "execution_count": null,
      "outputs": []
    },
    {
      "cell_type": "markdown",
      "source": [
        "- **무비렌즈 데이터 형식이 아닌 OS 파일인 경우**\n",
        "      1. line_format(string): 칼럼을 순서대로 나열.입력된 문자열을 공백으로 분리해 칼럼으로 인식함\n",
        "      2. sep(char): 칼럼을 분리하는 분리자. 디폴트는 '\\t'. 판다스에서 입력받는 경우엔 기재할 필요x\n",
        "      3. rating_scale(tuple,optional): 평점 값의 min~max 설정함. 디폴트는 (1,5)"
      ],
      "metadata": {
        "id": "2mUGOplgkXTA"
      }
    },
    {
      "cell_type": "markdown",
      "source": [
        "- **SVD 행렬 분해 기법 이용해 추천 예측해보기**"
      ],
      "metadata": {
        "id": "t7ckNy3Mk8Jo"
      }
    },
    {
      "cell_type": "code",
      "source": [
        "trianset,testset = train_test_split(data,test_size=0.25,random_state=0)"
      ],
      "metadata": {
        "id": "BMVI6mxtX0Qx"
      },
      "execution_count": null,
      "outputs": []
    },
    {
      "cell_type": "code",
      "source": [
        "algo = SVD(n_factors=50,random_state=0)\n",
        "algo.fit(trainset)\n",
        "predictions = algo.test(testset)\n",
        "accuracy.rmse(predictions)"
      ],
      "metadata": {
        "id": "fafyPwiEX0Oq"
      },
      "execution_count": null,
      "outputs": []
    },
    {
      "cell_type": "markdown",
      "source": [
        "##### **3) 판다스 DataFrame에서 Surprise 데이터 세트롤 로딩**\n",
        "- 데이터 세트 순서 꼭 지켜야함 (사용자->아이템->평점)"
      ],
      "metadata": {
        "id": "Om-AaCzalUGt"
      }
    },
    {
      "cell_type": "code",
      "source": [
        "ratings = pd.read_csv('')\n",
        "reader = Reader(rating_scale=(0.5,5.0))\n",
        "\n",
        "data = Dataset.load_from_df(ratings[['userId','movieId','rating']],reader)\n",
        "trianset,testset = train_test_split(data,test_size=0.25,random_state=0)\n",
        "\n",
        "algo = SVD(n_factors=50,random_state=0)\n",
        "algo.fit(trainset)\n",
        "predictions = algo.test(testset)\n",
        "accuracy.rmse(predictions)"
      ],
      "metadata": {
        "id": "4hb2HlJbX0Mh"
      },
      "execution_count": null,
      "outputs": []
    },
    {
      "cell_type": "markdown",
      "source": [
        "#### **4. Surprise 추천 알고리즘 클래스**\n",
        "    1. SVD: 행렬 분해를 통한 잠재 요인 협업 필터링을 위한 알고리즘\n",
        "       - 비용함수: 사용자 베이스라인 편향성을 감안한 평점 예측에 Regularization 적용\n",
        "    2. KNNBasic: 최근접 이웃 협업 필터링을 위한 알고리즘\n",
        "    3. BaselineOnly: 사용자/아이템 bias를 감안한 SGD 베이스라인 알고리즘"
      ],
      "metadata": {
        "id": "9U-_63ebl4T0"
      }
    },
    {
      "cell_type": "markdown",
      "source": [
        "- **SVD 입력 파라미터**\n",
        "  - **n_factors:** 잠재 요인 k의 개수로 디폴트는 100. 커질수록 좋지만 과적합 문제 발생\n",
        "  - **n_epochs:** SGD(Stochastic Gradient Descent)수행 시 반복 횟수로 디폴트는 20\n",
        "  - **biased(bool):** 베이스라인 사용시 편향 적용 여부로 디폴트는 True"
      ],
      "metadata": {
        "id": "9hmuFWrknDyE"
      }
    },
    {
      "cell_type": "markdown",
      "source": [
        "#### **5. 베이스라인 평점**\n",
        "    1. 개념: 개인의 성향을 반영해 아이템 평가에 편향성 요소를 반영하여 평점을 부과하는 것\n",
        "    2. 전체 평균 평점+사용자 편향 점수+아이템 편향 점수 \n",
        "       1) 전체 평균 평점: 모든 사용자의 아이템에 대한 평점을 평균한 값\n",
        "       2) 사용자 편향 점수 = 사용자별 아이템 평점 평균 값 - 전체 평균 평점\n",
        "       3) 아이템 편향 점수 = 아이템별 평점 평균 값 - 전체 평균 평점\n"
      ],
      "metadata": {
        "id": "x0Z2Ao2yn2yi"
      }
    },
    {
      "cell_type": "markdown",
      "source": [
        "#### **6. 교차 검증과 하이퍼 파라미터 튜닝**"
      ],
      "metadata": {
        "id": "U-WnXimfqGl1"
      }
    },
    {
      "cell_type": "code",
      "source": [
        "from surprise.model_selection import cross_validate"
      ],
      "metadata": {
        "id": "J8MrIXeaX0Kh"
      },
      "execution_count": 16,
      "outputs": []
    },
    {
      "cell_type": "code",
      "source": [
        "ratings = pd.read_csv('')\n",
        "reader = Reader(rating_scale=(0.5,5.0))\n",
        "data = Dataset.load_from_df(ratings[['userId','movieId','rating']],reader)\n",
        "\n",
        "algo = SVD(random_state=0)\n",
        "cross_validate(algo,data,measures=['RMSE','MAE'],v=5,verbose=True)"
      ],
      "metadata": {
        "id": "12MBxQ-yX0IR"
      },
      "execution_count": null,
      "outputs": []
    },
    {
      "cell_type": "code",
      "source": [
        "from surprise.model_selection import GridSearchCV\n",
        "\n",
        "param_grid = {'n_epochs': [20,40,60], 'n_factors':[50,100,200]}\n",
        "gs = GridSearchCV(SVD,param_grid,measures=['rmse','mae'],cv=3)\n",
        "gs.fit(data)\n",
        "\n",
        "print(gs.best_score['rmse'])\n",
        "print(gs.best_params['rmse'])"
      ],
      "metadata": {
        "id": "ivOfrqd9X0Gb"
      },
      "execution_count": null,
      "outputs": []
    },
    {
      "cell_type": "markdown",
      "source": [
        "#### **7. Surprise를 이용한 개인화 영화 추천 시스템 구축**"
      ],
      "metadata": {
        "id": "itKdlPB9v5kF"
      }
    },
    {
      "cell_type": "markdown",
      "source": [
        "- **사용자가 평점을 매기지 않은 영화 중에서 개인 취향에 가장 적절한 영화를 추천해보기**"
      ],
      "metadata": {
        "id": "wAorbvbqxXwF"
      }
    },
    {
      "cell_type": "code",
      "source": [
        "data = Dataset.load_from_df(ratings[['userId','movieId','rating']],reader)\n",
        "algo = SVD(n_factors=50,random_state=0)\n",
        "algo.fit(data)\n",
        "# train/test 분류하지 않았기 때문에 오류남"
      ],
      "metadata": {
        "id": "4Qi_UJ9rk_4T"
      },
      "execution_count": null,
      "outputs": []
    },
    {
      "cell_type": "code",
      "source": [
        "from surprise.dataset import DatasetAutoFolds\n",
        "\n",
        "reader = Reader(line_format='user item rating timestamp',sep=',',rating_scale=(0.5,5))\n",
        "data_folds = DatasetAutoFolds(rating_file='',reader=reader)\n",
        "trainset = data_folds.full_trainset() # 전체 데이터를 학습 데이터로 만들기\n",
        "\n",
        "algo = SVD(n_epochs=20,n_factors=50,random_state=0)\n",
        "algo.fit(trainset)"
      ],
      "metadata": {
        "id": "RwkyAeUsk_2D"
      },
      "execution_count": null,
      "outputs": []
    },
    {
      "cell_type": "code",
      "source": [
        "movies = pd.read_csv('')\n",
        "movieIds = ratings[ratings['userId'] == 9]['movieId']\n",
        "if movieIds[movieIds==42].count() == 0:\n",
        "  print('사용자 아이디 9는 영화 아이디 42의 평점 없음')\n",
        "print(movies[movies['movieId']==42])"
      ],
      "metadata": {
        "id": "mbZyDf3ck_z7"
      },
      "execution_count": null,
      "outputs": []
    },
    {
      "cell_type": "code",
      "source": [
        "uid=str(9)\n",
        "iid=str(42)\n",
        "pred = algo.predict(uid,iid,verbose=True)"
      ],
      "metadata": {
        "id": "xjR3NLb4xLtU"
      },
      "execution_count": null,
      "outputs": []
    },
    {
      "cell_type": "code",
      "source": [
        "def get_unseen_surprise(ratings,movies,userId):\n",
        "  seen_movies = ratings[ratings['userId']==userId]['movieId'].tolist()\n",
        "  total_movies= movies['movieId'].tolist()\n",
        "  unseen_movies = [movie for movie in total_movies if movie not in seen_movies]\n",
        "  print('평점 매긴 영화 수:', len(seen_movies), '추천 대상 영화 수:',len(unseen_movies),\n",
        "        '전체 영화 수:',len(total_movies))\n",
        "  return unseen_movies\n",
        "\n",
        "unseen_movies = get_unseen_surprise(ratings,movies,9)"
      ],
      "metadata": {
        "id": "bNqktnQQxLqt"
      },
      "execution_count": null,
      "outputs": []
    },
    {
      "cell_type": "code",
      "source": [
        "def recomm_movie_by_surprise(algo,userId,unseen_movies,top_n=10):\n",
        "  predictions = [algo.predict(str(userId),str(movieId)) for movieId in unseen_movies]\n",
        "  \n",
        "  def sortkey_est(pred):\n",
        "    return pred.est\n",
        "  \n",
        "  predictions.sort(key=sortkey_est, reverse=True)\n",
        "  top_predictions = v[:top_n]\n",
        "\n",
        "  top_movie_ids = [int(pred.iid) for pred in top_predictions]\n",
        "  top_movie_rating = [pred.est for pred in top_predictions]\n",
        "  top_movie_titles = movies[movies.movieId.isin(top_movie_ids)]['title']\n",
        "\n",
        "  top_movie_preds = [(id,title,rating) for id,title,rating in zip(top_movie_ids,top_movie_rating, top_movie_titles)]\n",
        "\n",
        "  return top_movie_preds"
      ],
      "metadata": {
        "id": "B8gHHhStyFji"
      },
      "execution_count": null,
      "outputs": []
    },
    {
      "cell_type": "code",
      "source": [
        "unseen_movies = get_unseen_surprise(ratings,movies,9)\n",
        "top_movie_preds = recomm_movie_by_surprise(algo,9,unseen_movies,top_n=10)\n",
        "\n",
        "print('#### Top 10 추천 영화 리스트 ####')\n",
        "for top_movie in top_movie_preds:\n",
        "  print(top_movie[1],':',top_movie[2])"
      ],
      "metadata": {
        "id": "GY_G1zY3zBAp"
      },
      "execution_count": null,
      "outputs": []
    }
  ]
}