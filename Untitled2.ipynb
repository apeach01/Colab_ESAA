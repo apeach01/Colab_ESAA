{
  "nbformat": 4,
  "nbformat_minor": 0,
  "metadata": {
    "colab": {
      "name": "Untitled2.ipynb",
      "provenance": [],
      "collapsed_sections": [],
      "authorship_tag": "ABX9TyMmyAl1x+DqVmSEzU4yiOqh",
      "include_colab_link": true
    },
    "kernelspec": {
      "name": "python3",
      "display_name": "Python 3"
    },
    "language_info": {
      "name": "python"
    }
  },
  "cells": [
    {
      "cell_type": "markdown",
      "metadata": {
        "id": "view-in-github",
        "colab_type": "text"
      },
      "source": [
        "<a href=\"https://colab.research.google.com/github/apeach01/Colab_ESAA/blob/main/Untitled2.ipynb\" target=\"_parent\"><img src=\"https://colab.research.google.com/assets/colab-badge.svg\" alt=\"Open In Colab\"/></a>"
      ]
    },
    {
      "cell_type": "code",
      "execution_count": null,
      "metadata": {
        "id": "gPsfd0l6ADSh"
      },
      "outputs": [],
      "source": [
        "## 자료형"
      ]
    },
    {
      "cell_type": "code",
      "source": [
        "# 1.\n",
        "(80+75+55+95)/4"
      ],
      "metadata": {
        "colab": {
          "base_uri": "https://localhost:8080/"
        },
        "id": "k3O7RQfWAGQl",
        "outputId": "e5446fa1-9bc2-4058-eefb-2ec34e209050"
      },
      "execution_count": 22,
      "outputs": [
        {
          "output_type": "execute_result",
          "data": {
            "text/plain": [
              "76.25"
            ]
          },
          "metadata": {},
          "execution_count": 22
        }
      ]
    },
    {
      "cell_type": "code",
      "source": [
        "# 2.\n",
        "id_Hong = \"881120-1068234\"\n",
        "id_Hong.split(\"-\")"
      ],
      "metadata": {
        "colab": {
          "base_uri": "https://localhost:8080/"
        },
        "id": "oSrpTQENAHc8",
        "outputId": "0e7c2404-4478-453d-b319-3598f8327acf"
      },
      "execution_count": null,
      "outputs": [
        {
          "output_type": "execute_result",
          "data": {
            "text/plain": [
              "['881120', '1068234']"
            ]
          },
          "metadata": {},
          "execution_count": 4
        }
      ]
    },
    {
      "cell_type": "code",
      "source": [
        "# 4.\n",
        "id_pin = \"881120-2153468\"\n",
        "id_pin[7]"
      ],
      "metadata": {
        "colab": {
          "base_uri": "https://localhost:8080/",
          "height": 35
        },
        "id": "XS3GJqwlAI5g",
        "outputId": "9a6d2e30-b8e4-4364-c72d-a393d28de062"
      },
      "execution_count": 23,
      "outputs": [
        {
          "output_type": "execute_result",
          "data": {
            "application/vnd.google.colaboratory.intrinsic+json": {
              "type": "string"
            },
            "text/plain": [
              "'2'"
            ]
          },
          "metadata": {},
          "execution_count": 23
        }
      ]
    },
    {
      "cell_type": "code",
      "source": [
        "# 5.\n",
        "rand_list = [1,3,5,4,2]\n",
        "rand_list.sort(reverse=True)\n",
        "print(rand_list)"
      ],
      "metadata": {
        "colab": {
          "base_uri": "https://localhost:8080/"
        },
        "id": "tHZmvhy6AKTw",
        "outputId": "255365a6-07d4-4c71-faef-1e25fbad8a63"
      },
      "execution_count": null,
      "outputs": [
        {
          "output_type": "stream",
          "name": "stdout",
          "text": [
            "[5, 4, 3, 2, 1]\n"
          ]
        }
      ]
    },
    {
      "cell_type": "code",
      "source": [
        "# 7. \n",
        "string_list = ['Life', 'is', 'too', 'short']\n",
        "' '.join(string_list)"
      ],
      "metadata": {
        "colab": {
          "base_uri": "https://localhost:8080/",
          "height": 36
        },
        "id": "r4f2yNaZAMEq",
        "outputId": "5cc7351f-591e-4037-98a1-8d8a3cb2b917"
      },
      "execution_count": null,
      "outputs": [
        {
          "output_type": "execute_result",
          "data": {
            "application/vnd.google.colaboratory.intrinsic+json": {
              "type": "string"
            },
            "text/plain": [
              "'Life is too short'"
            ]
          },
          "metadata": {},
          "execution_count": 7
        }
      ]
    },
    {
      "cell_type": "code",
      "source": [
        "## 제어문"
      ],
      "metadata": {
        "id": "xYiOhd-kANeG"
      },
      "execution_count": null,
      "outputs": []
    },
    {
      "cell_type": "code",
      "source": [
        "# 1. shirt"
      ],
      "metadata": {
        "id": "7pqOMh_WAPCH"
      },
      "execution_count": null,
      "outputs": []
    },
    {
      "cell_type": "code",
      "source": [
        "# 2.\n",
        "i = 1\n",
        "count = 0\n",
        "while (i <= 1000) :\n",
        "    if i % 3 == 0 :\n",
        "        count += i\n",
        "    i += 1\n",
        "print(count)"
      ],
      "metadata": {
        "colab": {
          "base_uri": "https://localhost:8080/"
        },
        "id": "3iXq8WJRAQOE",
        "outputId": "5963d05d-5ede-441b-c85c-0cfad7d22491"
      },
      "execution_count": null,
      "outputs": [
        {
          "output_type": "stream",
          "name": "stdout",
          "text": [
            "166833\n"
          ]
        }
      ]
    },
    {
      "cell_type": "code",
      "source": [
        "# 3.\n",
        "i = 1\n",
        "while (i <= 5) :\n",
        "  print(\"*\" * i)\n",
        "  i += 1"
      ],
      "metadata": {
        "colab": {
          "base_uri": "https://localhost:8080/"
        },
        "id": "Qf5PkGXvARdY",
        "outputId": "358c9360-ff15-473a-8a14-b25068d5717e"
      },
      "execution_count": 24,
      "outputs": [
        {
          "output_type": "stream",
          "name": "stdout",
          "text": [
            "*\n",
            "**\n",
            "***\n",
            "****\n",
            "*****\n"
          ]
        }
      ]
    },
    {
      "cell_type": "code",
      "source": [
        "# 4.\n",
        "for i in range(1,101) :\n",
        "    print(i)"
      ],
      "metadata": {
        "id": "NZu3Hq2dAS76"
      },
      "execution_count": null,
      "outputs": []
    },
    {
      "cell_type": "code",
      "source": [
        "# 5. \n",
        "sum = 0\n",
        "scores = [70, 60, 55, 75, 95, 90, 80, 80, 85, 100]\n",
        "for i in range(10) :\n",
        "    sum += scores[i]\n",
        "    average = sum / (i+1)\n",
        "print(average)"
      ],
      "metadata": {
        "colab": {
          "base_uri": "https://localhost:8080/"
        },
        "id": "Bign4BZSAULV",
        "outputId": "c45fe343-6b85-4163-f7a7-33784b2219e1"
      },
      "execution_count": null,
      "outputs": [
        {
          "output_type": "stream",
          "name": "stdout",
          "text": [
            "79.0\n"
          ]
        }
      ]
    },
    {
      "cell_type": "code",
      "source": [
        "# 6.\n",
        "numbers = [1, 2, 3, 4, 5]\n",
        "result = [] \n",
        "for num in numbers:\n",
        "  if num % 2 ==1:\n",
        "    result.append(num*2)\n",
        "  else:\n",
        "    result.append(num)\n",
        "print(result)"
      ],
      "metadata": {
        "id": "YJ93ZMZeAW0v",
        "colab": {
          "base_uri": "https://localhost:8080/"
        },
        "outputId": "4174cb34-cccc-447f-f210-1ba529f18808"
      },
      "execution_count": 25,
      "outputs": [
        {
          "output_type": "stream",
          "name": "stdout",
          "text": [
            "[2, 2, 6, 4, 10]\n"
          ]
        }
      ]
    },
    {
      "cell_type": "code",
      "source": [
        "## 함수와 입출력"
      ],
      "metadata": {
        "id": "wExbYH9BAYTT"
      },
      "execution_count": null,
      "outputs": []
    },
    {
      "cell_type": "code",
      "source": [
        "# 1. \n",
        "def is_odd(a) :\n",
        "    if a % 2 == 0:\n",
        "        print(\"짝수\")\n",
        "    else :\n",
        "        print(\"홀수\")"
      ],
      "metadata": {
        "id": "rP71jFDcAaJo"
      },
      "execution_count": null,
      "outputs": []
    },
    {
      "cell_type": "code",
      "source": [
        "# 2. \n",
        "def average_rand(n):\n",
        "  sum = 0\n",
        "  for num in n:\n",
        "    sum += num\n",
        "  mean = sum/len(n)\n",
        "  return mean"
      ],
      "metadata": {
        "id": "hc_WxAJJAb_m"
      },
      "execution_count": null,
      "outputs": []
    },
    {
      "cell_type": "code",
      "source": [
        "# 3.\n",
        "input1 = int(input(\"첫번째 숫자를 입력하세요:\"))\n",
        "input2 = int(input(\"두번째 숫자를 입력하세요:\"))\n",
        "\n",
        "total = input1 + input2\n",
        "print(\"두 수의 합은 %s 입니다\" % total)"
      ],
      "metadata": {
        "id": "GkeG6GhMAdnU"
      },
      "execution_count": null,
      "outputs": []
    },
    {
      "cell_type": "code",
      "source": [
        "# 4. 답 : 3번"
      ],
      "metadata": {
        "id": "PfRgUZX4AexI"
      },
      "execution_count": null,
      "outputs": []
    }
  ]
}